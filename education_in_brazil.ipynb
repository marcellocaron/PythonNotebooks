{
 "cells": [
  {
   "cell_type": "markdown",
   "metadata": {},
   "source": [
    "# Hello!"
   ]
  },
  {
   "cell_type": "markdown",
   "metadata": {},
   "source": [
    "**Context**\n",
    "\n",
    "In this notebook, I'm going to analyze the education in my country: Brazil.\n",
    "\n",
    "My goal is to create insights that could improve our education through data analysis."
   ]
  },
  {
   "cell_type": "markdown",
   "metadata": {},
   "source": [
    "# Steps    "
   ]
  },
  {
   "cell_type": "markdown",
   "metadata": {},
   "source": [
    "**1)** Find the right metrics to measure the quality of education in Brazil\n",
    "\n",
    "**2)** Find which countries are comparable to Brazil through clustering\n",
    "\n",
    "**3)** Create insights"
   ]
  },
  {
   "cell_type": "markdown",
   "metadata": {},
   "source": [
    "# Starting"
   ]
  },
  {
   "cell_type": "markdown",
   "metadata": {},
   "source": [
    "First, import the python libraries"
   ]
  },
  {
   "cell_type": "code",
   "execution_count": 2,
   "metadata": {},
   "outputs": [
    {
     "name": "stderr",
     "output_type": "stream",
     "text": [
      "/Users/marcello/anaconda3/lib/python3.7/site-packages/statsmodels/tools/_testing.py:19: FutureWarning: pandas.util.testing is deprecated. Use the functions in the public API at pandas.testing instead.\n",
      "  import pandas.util.testing as tm\n"
     ]
    }
   ],
   "source": [
    "import pandas as pd\n",
    "import numpy as np\n",
    "import pyodbc\n",
    "import matplotlib.pyplot as plt\n",
    "import seaborn as sns"
   ]
  },
  {
   "cell_type": "markdown",
   "metadata": {},
   "source": [
    " "
   ]
  },
  {
   "cell_type": "markdown",
   "metadata": {},
   "source": [
    "Then, connect to the database"
   ]
  },
  {
   "cell_type": "code",
   "execution_count": 3,
   "metadata": {},
   "outputs": [],
   "source": [
    "server = 'datagov.cwiuiltpeuyr.sa-east-1.rds.amazonaws.com,1433' \n",
    "database = 'DB_OECD' \n",
    "username = 'admin' \n",
    "password = 'E21m89d02m04' \n",
    "cnxn = pyodbc.connect('DRIVER={ODBC Driver 17 for SQL Server};SERVER='+server+';DATABASE='+database+';UID='+username+';PWD='+ password)"
   ]
  },
  {
   "cell_type": "markdown",
   "metadata": {},
   "source": [
    "# **1)** Find the right metrics to measure the quality of education in Brazil"
   ]
  },
  {
   "cell_type": "markdown",
   "metadata": {},
   "source": [
    " "
   ]
  },
  {
   "cell_type": "markdown",
   "metadata": {},
   "source": [
    "### Get the data"
   ]
  },
  {
   "cell_type": "code",
   "execution_count": 4,
   "metadata": {},
   "outputs": [],
   "source": [
    "query_math = (\"SELECT * FROM PISA.MATHEMATICS_PERFORMANCE\")\n",
    "query_read = (\"SELECT * FROM PISA.READING_PERFORMANCE\")\n",
    "query_sci = (\"SELECT * FROM PISA.SCIENCE_PERFORMANCE\")\n",
    "df_math = pd.read_sql(query_math,con=cnxn)\n",
    "df_read = pd.read_sql(query_read,con=cnxn)\n",
    "df_sci = pd.read_sql(query_sci,con=cnxn)"
   ]
  },
  {
   "cell_type": "markdown",
   "metadata": {},
   "source": [
    " "
   ]
  },
  {
   "cell_type": "markdown",
   "metadata": {},
   "source": [
    "Check the data"
   ]
  },
  {
   "cell_type": "code",
   "execution_count": 5,
   "metadata": {},
   "outputs": [
    {
     "data": {
      "text/html": [
       "<div>\n",
       "<style scoped>\n",
       "    .dataframe tbody tr th:only-of-type {\n",
       "        vertical-align: middle;\n",
       "    }\n",
       "\n",
       "    .dataframe tbody tr th {\n",
       "        vertical-align: top;\n",
       "    }\n",
       "\n",
       "    .dataframe thead th {\n",
       "        text-align: right;\n",
       "    }\n",
       "</style>\n",
       "<table border=\"1\" class=\"dataframe\">\n",
       "  <thead>\n",
       "    <tr style=\"text-align: right;\">\n",
       "      <th></th>\n",
       "      <th>LOCATION</th>\n",
       "      <th>INDICATOR</th>\n",
       "      <th>SUBJECT</th>\n",
       "      <th>MEASURE</th>\n",
       "      <th>FREQUENCY</th>\n",
       "      <th>TIME</th>\n",
       "      <th>Value</th>\n",
       "      <th>Flag_Codes</th>\n",
       "    </tr>\n",
       "  </thead>\n",
       "  <tbody>\n",
       "    <tr>\n",
       "      <th>0</th>\n",
       "      <td>AUS</td>\n",
       "      <td>PISAMATH</td>\n",
       "      <td>BOY</td>\n",
       "      <td>MEANSCORE</td>\n",
       "      <td>A</td>\n",
       "      <td>2003</td>\n",
       "      <td>527.000</td>\n",
       "      <td>None</td>\n",
       "    </tr>\n",
       "    <tr>\n",
       "      <th>1</th>\n",
       "      <td>AUS</td>\n",
       "      <td>PISAMATH</td>\n",
       "      <td>BOY</td>\n",
       "      <td>MEANSCORE</td>\n",
       "      <td>A</td>\n",
       "      <td>2006</td>\n",
       "      <td>527.000</td>\n",
       "      <td>None</td>\n",
       "    </tr>\n",
       "    <tr>\n",
       "      <th>2</th>\n",
       "      <td>AUS</td>\n",
       "      <td>PISAMATH</td>\n",
       "      <td>BOY</td>\n",
       "      <td>MEANSCORE</td>\n",
       "      <td>A</td>\n",
       "      <td>2009</td>\n",
       "      <td>519.000</td>\n",
       "      <td>None</td>\n",
       "    </tr>\n",
       "    <tr>\n",
       "      <th>3</th>\n",
       "      <td>AUS</td>\n",
       "      <td>PISAMATH</td>\n",
       "      <td>BOY</td>\n",
       "      <td>MEANSCORE</td>\n",
       "      <td>A</td>\n",
       "      <td>2012</td>\n",
       "      <td>510.115</td>\n",
       "      <td>None</td>\n",
       "    </tr>\n",
       "    <tr>\n",
       "      <th>4</th>\n",
       "      <td>AUS</td>\n",
       "      <td>PISAMATH</td>\n",
       "      <td>BOY</td>\n",
       "      <td>MEANSCORE</td>\n",
       "      <td>A</td>\n",
       "      <td>2015</td>\n",
       "      <td>497.000</td>\n",
       "      <td>None</td>\n",
       "    </tr>\n",
       "  </tbody>\n",
       "</table>\n",
       "</div>"
      ],
      "text/plain": [
       "  LOCATION INDICATOR SUBJECT    MEASURE FREQUENCY  TIME    Value Flag_Codes\n",
       "0      AUS  PISAMATH     BOY  MEANSCORE         A  2003  527.000       None\n",
       "1      AUS  PISAMATH     BOY  MEANSCORE         A  2006  527.000       None\n",
       "2      AUS  PISAMATH     BOY  MEANSCORE         A  2009  519.000       None\n",
       "3      AUS  PISAMATH     BOY  MEANSCORE         A  2012  510.115       None\n",
       "4      AUS  PISAMATH     BOY  MEANSCORE         A  2015  497.000       None"
      ]
     },
     "execution_count": 5,
     "metadata": {},
     "output_type": "execute_result"
    }
   ],
   "source": [
    "df_math.head()"
   ]
  },
  {
   "cell_type": "code",
   "execution_count": 6,
   "metadata": {},
   "outputs": [
    {
     "data": {
      "text/html": [
       "<div>\n",
       "<style scoped>\n",
       "    .dataframe tbody tr th:only-of-type {\n",
       "        vertical-align: middle;\n",
       "    }\n",
       "\n",
       "    .dataframe tbody tr th {\n",
       "        vertical-align: top;\n",
       "    }\n",
       "\n",
       "    .dataframe thead th {\n",
       "        text-align: right;\n",
       "    }\n",
       "</style>\n",
       "<table border=\"1\" class=\"dataframe\">\n",
       "  <thead>\n",
       "    <tr style=\"text-align: right;\">\n",
       "      <th></th>\n",
       "      <th>LOCATION</th>\n",
       "      <th>INDICATOR</th>\n",
       "      <th>SUBJECT</th>\n",
       "      <th>MEASURE</th>\n",
       "      <th>FREQUENCY</th>\n",
       "      <th>TIME</th>\n",
       "      <th>Value</th>\n",
       "      <th>Flag_Codes</th>\n",
       "    </tr>\n",
       "  </thead>\n",
       "  <tbody>\n",
       "    <tr>\n",
       "      <th>0</th>\n",
       "      <td>AUS</td>\n",
       "      <td>PISAREAD</td>\n",
       "      <td>BOY</td>\n",
       "      <td>MEANSCORE</td>\n",
       "      <td>A</td>\n",
       "      <td>2000</td>\n",
       "      <td>513.00</td>\n",
       "      <td>None</td>\n",
       "    </tr>\n",
       "    <tr>\n",
       "      <th>1</th>\n",
       "      <td>AUS</td>\n",
       "      <td>PISAREAD</td>\n",
       "      <td>BOY</td>\n",
       "      <td>MEANSCORE</td>\n",
       "      <td>A</td>\n",
       "      <td>2003</td>\n",
       "      <td>506.00</td>\n",
       "      <td>None</td>\n",
       "    </tr>\n",
       "    <tr>\n",
       "      <th>2</th>\n",
       "      <td>AUS</td>\n",
       "      <td>PISAREAD</td>\n",
       "      <td>BOY</td>\n",
       "      <td>MEANSCORE</td>\n",
       "      <td>A</td>\n",
       "      <td>2006</td>\n",
       "      <td>495.00</td>\n",
       "      <td>None</td>\n",
       "    </tr>\n",
       "    <tr>\n",
       "      <th>3</th>\n",
       "      <td>AUS</td>\n",
       "      <td>PISAREAD</td>\n",
       "      <td>BOY</td>\n",
       "      <td>MEANSCORE</td>\n",
       "      <td>A</td>\n",
       "      <td>2009</td>\n",
       "      <td>496.00</td>\n",
       "      <td>None</td>\n",
       "    </tr>\n",
       "    <tr>\n",
       "      <th>4</th>\n",
       "      <td>AUS</td>\n",
       "      <td>PISAREAD</td>\n",
       "      <td>BOY</td>\n",
       "      <td>MEANSCORE</td>\n",
       "      <td>A</td>\n",
       "      <td>2012</td>\n",
       "      <td>495.09</td>\n",
       "      <td>None</td>\n",
       "    </tr>\n",
       "  </tbody>\n",
       "</table>\n",
       "</div>"
      ],
      "text/plain": [
       "  LOCATION INDICATOR SUBJECT    MEASURE FREQUENCY  TIME   Value Flag_Codes\n",
       "0      AUS  PISAREAD     BOY  MEANSCORE         A  2000  513.00       None\n",
       "1      AUS  PISAREAD     BOY  MEANSCORE         A  2003  506.00       None\n",
       "2      AUS  PISAREAD     BOY  MEANSCORE         A  2006  495.00       None\n",
       "3      AUS  PISAREAD     BOY  MEANSCORE         A  2009  496.00       None\n",
       "4      AUS  PISAREAD     BOY  MEANSCORE         A  2012  495.09       None"
      ]
     },
     "execution_count": 6,
     "metadata": {},
     "output_type": "execute_result"
    }
   ],
   "source": [
    "df_read.head()"
   ]
  },
  {
   "cell_type": "code",
   "execution_count": 7,
   "metadata": {},
   "outputs": [
    {
     "data": {
      "text/html": [
       "<div>\n",
       "<style scoped>\n",
       "    .dataframe tbody tr th:only-of-type {\n",
       "        vertical-align: middle;\n",
       "    }\n",
       "\n",
       "    .dataframe tbody tr th {\n",
       "        vertical-align: top;\n",
       "    }\n",
       "\n",
       "    .dataframe thead th {\n",
       "        text-align: right;\n",
       "    }\n",
       "</style>\n",
       "<table border=\"1\" class=\"dataframe\">\n",
       "  <thead>\n",
       "    <tr style=\"text-align: right;\">\n",
       "      <th></th>\n",
       "      <th>LOCATION</th>\n",
       "      <th>INDICATOR</th>\n",
       "      <th>SUBJECT</th>\n",
       "      <th>MEASURE</th>\n",
       "      <th>FREQUENCY</th>\n",
       "      <th>TIME</th>\n",
       "      <th>Value</th>\n",
       "      <th>Flag_Codes</th>\n",
       "    </tr>\n",
       "  </thead>\n",
       "  <tbody>\n",
       "    <tr>\n",
       "      <th>0</th>\n",
       "      <td>AUS</td>\n",
       "      <td>PISASCIENCE</td>\n",
       "      <td>BOY</td>\n",
       "      <td>MEANSCORE</td>\n",
       "      <td>A</td>\n",
       "      <td>2006</td>\n",
       "      <td>527.000</td>\n",
       "      <td>None</td>\n",
       "    </tr>\n",
       "    <tr>\n",
       "      <th>1</th>\n",
       "      <td>AUS</td>\n",
       "      <td>PISASCIENCE</td>\n",
       "      <td>BOY</td>\n",
       "      <td>MEANSCORE</td>\n",
       "      <td>A</td>\n",
       "      <td>2009</td>\n",
       "      <td>527.000</td>\n",
       "      <td>None</td>\n",
       "    </tr>\n",
       "    <tr>\n",
       "      <th>2</th>\n",
       "      <td>AUS</td>\n",
       "      <td>PISASCIENCE</td>\n",
       "      <td>BOY</td>\n",
       "      <td>MEANSCORE</td>\n",
       "      <td>A</td>\n",
       "      <td>2012</td>\n",
       "      <td>523.728</td>\n",
       "      <td>None</td>\n",
       "    </tr>\n",
       "    <tr>\n",
       "      <th>3</th>\n",
       "      <td>AUS</td>\n",
       "      <td>PISASCIENCE</td>\n",
       "      <td>BOY</td>\n",
       "      <td>MEANSCORE</td>\n",
       "      <td>A</td>\n",
       "      <td>2015</td>\n",
       "      <td>511.000</td>\n",
       "      <td>None</td>\n",
       "    </tr>\n",
       "    <tr>\n",
       "      <th>4</th>\n",
       "      <td>AUS</td>\n",
       "      <td>PISASCIENCE</td>\n",
       "      <td>BOY</td>\n",
       "      <td>MEANSCORE</td>\n",
       "      <td>A</td>\n",
       "      <td>2018</td>\n",
       "      <td>504.000</td>\n",
       "      <td>None</td>\n",
       "    </tr>\n",
       "  </tbody>\n",
       "</table>\n",
       "</div>"
      ],
      "text/plain": [
       "  LOCATION    INDICATOR SUBJECT    MEASURE FREQUENCY  TIME    Value Flag_Codes\n",
       "0      AUS  PISASCIENCE     BOY  MEANSCORE         A  2006  527.000       None\n",
       "1      AUS  PISASCIENCE     BOY  MEANSCORE         A  2009  527.000       None\n",
       "2      AUS  PISASCIENCE     BOY  MEANSCORE         A  2012  523.728       None\n",
       "3      AUS  PISASCIENCE     BOY  MEANSCORE         A  2015  511.000       None\n",
       "4      AUS  PISASCIENCE     BOY  MEANSCORE         A  2018  504.000       None"
      ]
     },
     "execution_count": 7,
     "metadata": {},
     "output_type": "execute_result"
    }
   ],
   "source": [
    "df_sci.head()"
   ]
  },
  {
   "cell_type": "markdown",
   "metadata": {},
   "source": [
    " "
   ]
  },
  {
   "cell_type": "markdown",
   "metadata": {},
   "source": [
    "### Data cleaning"
   ]
  },
  {
   "cell_type": "markdown",
   "metadata": {},
   "source": [
    "Let's check the column 'Subject'"
   ]
  },
  {
   "cell_type": "code",
   "execution_count": 8,
   "metadata": {},
   "outputs": [
    {
     "data": {
      "text/plain": [
       "TOT     236\n",
       "GIRL    232\n",
       "BOY     232\n",
       "Name: SUBJECT, dtype: int64"
      ]
     },
     "execution_count": 8,
     "metadata": {},
     "output_type": "execute_result"
    }
   ],
   "source": [
    "df_math['SUBJECT'].value_counts()"
   ]
  },
  {
   "cell_type": "markdown",
   "metadata": {},
   "source": [
    " "
   ]
  },
  {
   "cell_type": "markdown",
   "metadata": {},
   "source": [
    "We will be using only the value 'TOT' for this column. And we need to remove the 'Location' OAVG. Let's filter"
   ]
  },
  {
   "cell_type": "code",
   "execution_count": 9,
   "metadata": {},
   "outputs": [],
   "source": [
    "df_math = df_math[(df_math.SUBJECT == 'TOT') & (df_math.LOCATION != 'OAVG')]\n",
    "df_read = df_read[(df_read.SUBJECT == 'TOT') & (df_read.LOCATION != 'OAVG')]\n",
    "df_sci = df_sci[(df_sci.SUBJECT == 'TOT') & (df_sci.LOCATION != 'OAVG')]"
   ]
  },
  {
   "cell_type": "markdown",
   "metadata": {},
   "source": [
    " "
   ]
  },
  {
   "cell_type": "markdown",
   "metadata": {},
   "source": [
    "Now we only want the values of the column 'Value' where they are not null. Let's filter"
   ]
  },
  {
   "cell_type": "code",
   "execution_count": 10,
   "metadata": {},
   "outputs": [],
   "source": [
    "df_math = df_math[df_math.Value.notnull()]\n",
    "df_read = df_read[df_read.Value.notnull()]\n",
    "df_sci = df_sci[df_sci.Value.notnull()]"
   ]
  },
  {
   "cell_type": "markdown",
   "metadata": {},
   "source": [
    " "
   ]
  },
  {
   "cell_type": "markdown",
   "metadata": {},
   "source": [
    "Now we plot the data! For the plot, let's get only the last year of the data"
   ]
  },
  {
   "cell_type": "code",
   "execution_count": 11,
   "metadata": {},
   "outputs": [
    {
     "name": "stdout",
     "output_type": "stream",
     "text": [
      "2018\n"
     ]
    }
   ],
   "source": [
    "year = df_math['TIME'].max()\n",
    "print(year)"
   ]
  },
  {
   "cell_type": "code",
   "execution_count": 12,
   "metadata": {},
   "outputs": [
    {
     "data": {
      "image/png": "[encoded data removed]",
      "text/plain": [
       "<Figure size 1440x720 with 1 Axes>"
      ]
     },
     "metadata": {
      "needs_background": "light"
     },
     "output_type": "display_data"
    }
   ],
   "source": [
    "# filter and select data for plot\n",
    "plot_math = df_math[df_math.TIME == year].sort_values('Value').reset_index()\n",
    "x = plot_math['LOCATION']\n",
    "y = plot_math['Value']\n",
    "\n",
    "# plot\n",
    "f, ax = plt.subplots(figsize=(20, 10))\n",
    "clrs = ['lightblue' if (z != 'BRA') else 'green' for z in x]\n",
    "sns.barplot(x=x, y=y, color='lightblue', palette=clrs)\n",
    "\n",
    "for m in ax.patches:\n",
    "    m_height = m.get_height()\n",
    "    plt.text(m.get_x() + m.get_width()/2.0, m_height, '%d' % int(m_height), ha='center', va='bottom', fontsize=12)\n",
    "\n",
    "title = 'PISA - Mathematics - ' + str(year)\n",
    "plt.title(title, fontsize=20)\n",
    "plt.show()"
   ]
  },
  {
   "cell_type": "code",
   "execution_count": 13,
   "metadata": {},
   "outputs": [
    {
     "name": "stdout",
     "output_type": "stream",
     "text": [
      "2018\n"
     ]
    }
   ],
   "source": [
    "year = df_read['TIME'].max()\n",
    "print(year)"
   ]
  },
  {
   "cell_type": "code",
   "execution_count": 14,
   "metadata": {},
   "outputs": [
    {
     "data": {
      "image/png": "[encoded data removed]",
      "text/plain": [
       "<Figure size 1440x720 with 1 Axes>"
      ]
     },
     "metadata": {
      "needs_background": "light"
     },
     "output_type": "display_data"
    }
   ],
   "source": [
    "# filter and select data for plot\n",
    "plot_read = df_read[df_read.TIME == year].sort_values('Value').reset_index()\n",
    "x = plot_read['LOCATION']\n",
    "y = plot_read['Value']\n",
    "\n",
    "# plot\n",
    "f, ax = plt.subplots(figsize=(20, 10))\n",
    "clrs = ['lightblue' if (z != 'BRA') else 'green' for z in x]\n",
    "sns.barplot(x=x, y=y, color='lightblue', palette=clrs)\n",
    "\n",
    "for r in ax.patches:\n",
    "    height = r.get_height()\n",
    "    plt.text(r.get_x() + r.get_width()/2.0, height, '%d' % int(height), ha='center', va='bottom', fontsize=12)\n",
    "\n",
    "title = 'PISA - Reading - ' + str(year)\n",
    "plt.title(title, fontsize=20)\n",
    "plt.show()\n"
   ]
  },
  {
   "cell_type": "code",
   "execution_count": 15,
   "metadata": {},
   "outputs": [
    {
     "name": "stdout",
     "output_type": "stream",
     "text": [
      "2018\n"
     ]
    }
   ],
   "source": [
    "year = df_sci['TIME'].max()\n",
    "print(year)"
   ]
  },
  {
   "cell_type": "code",
   "execution_count": 116,
   "metadata": {},
   "outputs": [
    {
     "data": {
      "image/png": "[encoded data removed]",
      "text/plain": [
       "<Figure size 1440x720 with 1 Axes>"
      ]
     },
     "metadata": {
      "needs_background": "light"
     },
     "output_type": "display_data"
    }
   ],
   "source": [
    "# filter and select data for plot\n",
    "plot_sci = df_sci[df_sci.TIME == year].sort_values('Value').reset_index()\n",
    "x = plot_sci['LOCATION']\n",
    "y = plot_sci['Value']\n",
    "\n",
    "# plot\n",
    "f, ax = plt.subplots(figsize=(20, 10))\n",
    "clrs = ['lightblue' if (z != 'BRA') else 'green' for z in x]\n",
    "sns.barplot(x=x, y=y, color='lightblue', palette=clrs)\n",
    "\n",
    "for s in ax.patches:\n",
    "    height = s.get_height()\n",
    "    plt.text(s.get_x() + s.get_width()/2.0, height, '%d' % int(height), ha='center', va='bottom', fontsize=12)\n",
    "\n",
    "title = 'PISA - Science - ' + str(year)\n",
    "plt.title(title, fontsize=20)\n",
    "plt.show()"
   ]
  },
  {
   "cell_type": "markdown",
   "metadata": {},
   "source": [
    " "
   ]
  },
  {
   "cell_type": "markdown",
   "metadata": {},
   "source": [
    "Brazil is the 2nd worst in Math, the 3rd worst in Reading and the 2nd worst in Science... =/\n",
    "\n",
    "But that won't mean much if the all the countries have similar results.\n",
    "\n",
    "Let's check how many standard deviations Brazil's results are from the mean in each topic:"
   ]
  },
  {
   "cell_type": "code",
   "execution_count": 117,
   "metadata": {},
   "outputs": [],
   "source": [
    "# Formula: (Brazil result - Mean) / Standard Deviation\n",
    "def fn_std_unit(value, mean, std):\n",
    "    x = (value - mean) / std\n",
    "    return round(x, 1)"
   ]
  },
  {
   "cell_type": "code",
   "execution_count": 118,
   "metadata": {},
   "outputs": [
    {
     "name": "stdout",
     "output_type": "stream",
     "text": [
      "====\n",
      "Math\n",
      "====\n",
      "\n",
      "Brazil = 384.0\n",
      "Mean = 481.8\n",
      "Standard Deviation = 39.6\n",
      "Quantity of standard deviations from the mean = -2.5\n"
     ]
    }
   ],
   "source": [
    "bra = plot_math['Value'][plot_math.LOCATION == 'BRA'].iloc[0]\n",
    "mean = round(plot_math['Value'].mean(), 1)\n",
    "std = round(plot_math['Value'].std(), 1)\n",
    "\n",
    "print('====')\n",
    "print('Math')\n",
    "print('====')\n",
    "print()\n",
    "print('Brazil = ' + str(bra))\n",
    "print('Mean = ' + str(mean))\n",
    "print('Standard Deviation = ' + str(std))\n",
    "\n",
    "std_unit = fn_std_unit(bra,mean,std)\n",
    "\n",
    "print('Quantity of standard deviations from the mean = '+ str(std_unit))"
   ]
  },
  {
   "cell_type": "markdown",
   "metadata": {},
   "source": [
    "Brazil is -2.5 standard deviations from the mean in Math. If it was -1 standard deviation, it would be acceptable.\n",
    "\n",
    "Let's check Reading and Science"
   ]
  },
  {
   "cell_type": "code",
   "execution_count": 119,
   "metadata": {},
   "outputs": [
    {
     "name": "stdout",
     "output_type": "stream",
     "text": [
      "=======\n",
      "Reading\n",
      "=======\n",
      "\n",
      "Brazil = 413.0\n",
      "Mean = 480.6\n",
      "Standard Deviation = 33.6\n",
      "Quantity of standard deviations from the mean = -2.0\n",
      "\n",
      "=======\n",
      "Science\n",
      "=======\n",
      "\n",
      "Brazil = 404.0\n",
      "Mean = 482.3\n",
      "Standard Deviation = 33.5\n",
      "Quantity of standard deviations from the mean = -2.3\n"
     ]
    }
   ],
   "source": [
    "# Reading\n",
    "\n",
    "bra = plot_read['Value'][plot_read.LOCATION == 'BRA'].iloc[0]\n",
    "mean = round(plot_read['Value'].mean(), 1)\n",
    "std = round(plot_read['Value'].std(), 1)\n",
    "\n",
    "print('=======')\n",
    "print('Reading')\n",
    "print('=======')\n",
    "print()\n",
    "print('Brazil = ' + str(bra))\n",
    "print('Mean = ' + str(mean))\n",
    "print('Standard Deviation = ' + str(std))\n",
    "\n",
    "std_unit = fn_std_unit(bra,mean,std)\n",
    "\n",
    "print('Quantity of standard deviations from the mean = '+ str(std_unit))\n",
    "\n",
    "# Science\n",
    "\n",
    "bra = plot_sci['Value'][plot_sci.LOCATION == 'BRA'].iloc[0]\n",
    "mean = round(plot_sci['Value'].mean(), 1)\n",
    "std = round(plot_sci['Value'].std(), 1)\n",
    "\n",
    "print()\n",
    "print('=======')\n",
    "print('Science')\n",
    "print('=======')\n",
    "print()\n",
    "print('Brazil = ' + str(bra))\n",
    "print('Mean = ' + str(mean))\n",
    "print('Standard Deviation = ' + str(std))\n",
    "\n",
    "std_unit = fn_std_unit(bra,mean,std)\n",
    "\n",
    "print('Quantity of standard deviations from the mean = '+ str(std_unit))"
   ]
  },
  {
   "cell_type": "code",
   "execution_count": 120,
   "metadata": {},
   "outputs": [
    {
     "data": {
      "text/plain": [
       "-1.1235010681061888"
      ]
     },
     "execution_count": 120,
     "metadata": {},
     "output_type": "execute_result"
    }
   ],
   "source": [
    "y.skew()"
   ]
  },
  {
   "cell_type": "code",
   "execution_count": 114,
   "metadata": {},
   "outputs": [
    {
     "data": {
      "text/plain": [
       "pandas.core.series.Series"
      ]
     },
     "execution_count": 114,
     "metadata": {},
     "output_type": "execute_result"
    }
   ],
   "source": [
    "type(y)"
   ]
  },
  {
   "cell_type": "code",
   "execution_count": 124,
   "metadata": {},
   "outputs": [],
   "source": [
    "outliers = [1000,2000,3000,4000]\n",
    "y = y.append(pd.Series(outliers))"
   ]
  },
  {
   "cell_type": "code",
   "execution_count": 130,
   "metadata": {},
   "outputs": [
    {
     "name": "stdout",
     "output_type": "stream",
     "text": [
      "y\n",
      "skewness:  2.7789712976205694\n",
      "kurtosis:  6.853443885638443\n",
      "mean:  811.6938775510204\n",
      "median:  496.0\n",
      "\n",
      "umdez_normal\n",
      "skewness:  0.23331518667108045\n",
      "kurtosis:  0.022227692307692504\n",
      "mean:  5.333333333333333\n",
      "median:  5.0\n",
      "\n",
      "umdez\n",
      "skewness:  0.0\n",
      "kurtosis:  -1.2000000000000002\n",
      "mean:  4.0\n",
      "median:  4.0\n",
      "\n",
      "umdezcem_normal\n",
      "skewness:  3.933073447100991\n",
      "kurtosis:  15.620298837050086\n",
      "mean:  11.25\n",
      "median:  5.0\n",
      "\n",
      "umdezcem\n",
      "skewness:  0.15146310708295874\n",
      "kurtosis:  -1.3569849115504673\n",
      "mean:  0.45999999999999996\n",
      "median:  0.45\n",
      "mean:  0.45999999999999996\n",
      "median:  0.45\n"
     ]
    }
   ],
   "source": [
    "print('y')\n",
    "print('skewness: ',float(y.skew()))\n",
    "print('kurtosis: ',float(y.kurt()))\n",
    "print('mean: ',float(y.mean()))\n",
    "print('median: ',float(y.median()))\n",
    "print()\n",
    "\n",
    "\n",
    "umdez_normal = pd.DataFrame([1,2,3,4,5,5,5,5,5,5,6,7,8,9,10])\n",
    "umdez = pd.DataFrame([1,2,3,4,5,6,7])\n",
    "print('umdez_normal')\n",
    "print('skewness: ',float(umdez_normal.skew()))\n",
    "print('kurtosis: ',float(umdez_normal.kurt()))\n",
    "print('mean: ',float(umdez_normal.mean()))\n",
    "print('median: ',float(umdez_normal.median()))\n",
    "print()\n",
    "print('umdez')\n",
    "print('skewness: ',float(umdez.skew()))\n",
    "print('kurtosis: ',float(umdez.kurt()))\n",
    "print('mean: ',float(umdez.mean()))\n",
    "print('median: ',float(umdez.median()))\n",
    "print()\n",
    "\n",
    "umdezcem_normal = pd.DataFrame([1,2,3,4,5,5,5,5,5,5,6,7,8,9,10,100])\n",
    "umdezcem = pd.DataFrame([0.1,0.2,0.3,0.4,0.5,0.6,0.7,0.8,0.9,0.10])\n",
    "print('umdezcem_normal')\n",
    "print('skewness: ',float(umdezcem_normal.skew()))\n",
    "print('kurtosis: ',float(umdezcem_normal.kurt()))\n",
    "print('mean: ',float(umdezcem_normal.mean()))\n",
    "print('median: ',float(umdezcem_normal.median()))\n",
    "print()\n",
    "print('umdezcem')\n",
    "print('skewness: ',float(umdezcem.skew()))\n",
    "print('kurtosis: ',float(umdezcem.kurt()))\n",
    "print('mean: ',float(umdezcem.mean()))\n",
    "print('median: ',float(umdezcem.median()))\n",
    "print('mean: ',float(umdezcem.mean()))\n",
    "print('median: ',float(umdezcem.median()))"
   ]
  },
  {
   "cell_type": "code",
   "execution_count": 204,
   "metadata": {},
   "outputs": [
    {
     "name": "stdout",
     "output_type": "stream",
     "text": [
      "kurtosis:  -2.0001000075005626\n",
      "skewness:  0.0\n",
      "mean:  500.5\n",
      "median:  500.5\n"
     ]
    }
   ],
   "source": [
    "teste = pd.DataFrame([1]*20000).append([1000 for i in range(20000)])\n",
    "#print(teste)\n",
    "print('kurtosis: ',float(teste.kurt()))\n",
    "print('skewness: ',float(teste.skew()))\n",
    "print('mean: ',float(teste.mean()))\n",
    "print('median: ',float(teste.median()))"
   ]
  },
  {
   "cell_type": "code",
   "execution_count": 193,
   "metadata": {},
   "outputs": [
    {
     "data": {
      "text/plain": [
       "<matplotlib.axes._subplots.AxesSubplot at 0x1267a6eb8>"
      ]
     },
     "execution_count": 193,
     "metadata": {},
     "output_type": "execute_result"
    },
    {
     "data": {
      "image/png": "[encoded data removed]",
      "text/plain": [
       "<Figure size 432x288 with 1 Axes>"
      ]
     },
     "metadata": {
      "needs_background": "light"
     },
     "output_type": "display_data"
    }
   ],
   "source": [
    "sns.distplot(teste)"
   ]
  },
  {
   "cell_type": "code",
   "execution_count": null,
   "metadata": {},
   "outputs": [],
   "source": []
  }
 ],
 "metadata": {
  "kernelspec": {
   "display_name": "Python 3",
   "language": "python",
   "name": "python3"
  },
  "language_info": {
   "codemirror_mode": {
    "name": "ipython",
    "version": 3
   },
   "file_extension": ".py",
   "mimetype": "text/x-python",
   "name": "python",
   "nbconvert_exporter": "python",
   "pygments_lexer": "ipython3",
   "version": "3.7.3"
  }
 },
 "nbformat": 4,
 "nbformat_minor": 4
}
