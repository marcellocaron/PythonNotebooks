{
 "cells": [
  {
   "cell_type": "code",
   "execution_count": 24,
   "metadata": {},
   "outputs": [],
   "source": [
    "import pandas as pd\n",
    "import seaborn as sns\n",
    "\n",
    "pd.set_option('display.float_format', lambda x: '%.3f' % x)"
   ]
  },
  {
   "cell_type": "code",
   "execution_count": 27,
   "metadata": {},
   "outputs": [],
   "source": [
    "df_alunos = pd.read_csv('downloads/escolamais/escolamais_alunos.csv', sep=';',dtype=str)"
   ]
  },
  {
   "cell_type": "code",
   "execution_count": 28,
   "metadata": {},
   "outputs": [],
   "source": [
    "df_gestao = pd.read_csv('downloads/escolamais/escolamais_gestao.csv', sep=';',dtype=str)"
   ]
  },
  {
   "cell_type": "code",
   "execution_count": 29,
   "metadata": {},
   "outputs": [
    {
     "data": {
      "text/html": [
       "<div>\n",
       "<style scoped>\n",
       "    .dataframe tbody tr th:only-of-type {\n",
       "        vertical-align: middle;\n",
       "    }\n",
       "\n",
       "    .dataframe tbody tr th {\n",
       "        vertical-align: top;\n",
       "    }\n",
       "\n",
       "    .dataframe thead th {\n",
       "        text-align: right;\n",
       "    }\n",
       "</style>\n",
       "<table border=\"1\" class=\"dataframe\">\n",
       "  <thead>\n",
       "    <tr style=\"text-align: right;\">\n",
       "      <th></th>\n",
       "      <th>CD_RA</th>\n",
       "      <th>DATA_NASC</th>\n",
       "      <th>GENERO</th>\n",
       "      <th>NM_ESCOLA</th>\n",
       "      <th>CD_MEC</th>\n",
       "      <th>ANO</th>\n",
       "      <th>TURMA</th>\n",
       "    </tr>\n",
       "  </thead>\n",
       "  <tbody>\n",
       "    <tr>\n",
       "      <th>0</th>\n",
       "      <td>0000434995885SP</td>\n",
       "      <td>04/08/1995</td>\n",
       "      <td>F</td>\n",
       "      <td>ORESTES ROSOLIA PROF</td>\n",
       "      <td>35044295</td>\n",
       "      <td>1</td>\n",
       "      <td>1° TERMO B NOITE 1° SEMESTRE</td>\n",
       "    </tr>\n",
       "    <tr>\n",
       "      <th>1</th>\n",
       "      <td>000034831839XSP</td>\n",
       "      <td>19/03/1982</td>\n",
       "      <td>F</td>\n",
       "      <td>DARIO MONTEIRO DE BRITO PROF</td>\n",
       "      <td>35902603</td>\n",
       "      <td>1</td>\n",
       "      <td>1° TERMO C NOITE 1° SEMESTRE</td>\n",
       "    </tr>\n",
       "    <tr>\n",
       "      <th>2</th>\n",
       "      <td>0000483193598 SP</td>\n",
       "      <td>23/09/1978</td>\n",
       "      <td>F</td>\n",
       "      <td>JAMIL ABRAHAO SAAD</td>\n",
       "      <td>35021775</td>\n",
       "      <td>1</td>\n",
       "      <td>1° TERMO A NOITE 1° SEMESTRE</td>\n",
       "    </tr>\n",
       "    <tr>\n",
       "      <th>3</th>\n",
       "      <td>0000400730315 SP</td>\n",
       "      <td>30/09/1975</td>\n",
       "      <td>F</td>\n",
       "      <td>GUILHERMINO MENDES DE ANDRADE MAJOR</td>\n",
       "      <td>35006531</td>\n",
       "      <td>9</td>\n",
       "      <td>9° TERMO A NOITE 1° SEMESTRE</td>\n",
       "    </tr>\n",
       "    <tr>\n",
       "      <th>4</th>\n",
       "      <td>0000413912772SP</td>\n",
       "      <td>22/10/1981</td>\n",
       "      <td>F</td>\n",
       "      <td>ODETE FERNANDES PINTO DA SILVA PROFA</td>\n",
       "      <td>35006178</td>\n",
       "      <td>1</td>\n",
       "      <td>1° TERMO A NOITE 1° SEMESTRE</td>\n",
       "    </tr>\n",
       "  </tbody>\n",
       "</table>\n",
       "</div>"
      ],
      "text/plain": [
       "              CD_RA   DATA_NASC GENERO                             NM_ESCOLA  \\\n",
       "0   0000434995885SP  04/08/1995      F                  ORESTES ROSOLIA PROF   \n",
       "1   000034831839XSP  19/03/1982      F          DARIO MONTEIRO DE BRITO PROF   \n",
       "2  0000483193598 SP  23/09/1978      F                    JAMIL ABRAHAO SAAD   \n",
       "3  0000400730315 SP  30/09/1975      F   GUILHERMINO MENDES DE ANDRADE MAJOR   \n",
       "4   0000413912772SP  22/10/1981      F  ODETE FERNANDES PINTO DA SILVA PROFA   \n",
       "\n",
       "     CD_MEC ANO                         TURMA  \n",
       "0  35044295   1  1° TERMO B NOITE 1° SEMESTRE  \n",
       "1  35902603   1  1° TERMO C NOITE 1° SEMESTRE  \n",
       "2  35021775   1  1° TERMO A NOITE 1° SEMESTRE  \n",
       "3  35006531   9  9° TERMO A NOITE 1° SEMESTRE  \n",
       "4  35006178   1  1° TERMO A NOITE 1° SEMESTRE  "
      ]
     },
     "execution_count": 29,
     "metadata": {},
     "output_type": "execute_result"
    }
   ],
   "source": [
    "df_alunos.head()"
   ]
  },
  {
   "cell_type": "code",
   "execution_count": 30,
   "metadata": {},
   "outputs": [
    {
     "data": {
      "text/plain": [
       "(1861790, 7)"
      ]
     },
     "execution_count": 30,
     "metadata": {},
     "output_type": "execute_result"
    }
   ],
   "source": [
    "df_alunos.shape"
   ]
  },
  {
   "cell_type": "code",
   "execution_count": 31,
   "metadata": {},
   "outputs": [
    {
     "data": {
      "text/html": [
       "<div>\n",
       "<style scoped>\n",
       "    .dataframe tbody tr th:only-of-type {\n",
       "        vertical-align: middle;\n",
       "    }\n",
       "\n",
       "    .dataframe tbody tr th {\n",
       "        vertical-align: top;\n",
       "    }\n",
       "\n",
       "    .dataframe thead th {\n",
       "        text-align: right;\n",
       "    }\n",
       "</style>\n",
       "<table border=\"1\" class=\"dataframe\">\n",
       "  <thead>\n",
       "    <tr style=\"text-align: right;\">\n",
       "      <th></th>\n",
       "      <th>NR_CPF</th>\n",
       "      <th>NOME</th>\n",
       "      <th>DATA_NASC</th>\n",
       "      <th>GENERO</th>\n",
       "      <th>NM_ESCOLA</th>\n",
       "      <th>CD_MEC</th>\n",
       "      <th>FUNCAO</th>\n",
       "      <th>NOME_DISCIPLINA</th>\n",
       "      <th>TURMA</th>\n",
       "      <th>EMAIL</th>\n",
       "    </tr>\n",
       "  </thead>\n",
       "  <tbody>\n",
       "    <tr>\n",
       "      <th>0</th>\n",
       "      <td>00002249871</td>\n",
       "      <td>Rubens Ferreira De Almeida Junior</td>\n",
       "      <td>16/08/1955</td>\n",
       "      <td>M</td>\n",
       "      <td>JOSE CARLOS ANTUNES PROFESSOR</td>\n",
       "      <td>35008187</td>\n",
       "      <td>Professor</td>\n",
       "      <td>FISICA</td>\n",
       "      <td>1ª SERIE B MANHA ANUAL</td>\n",
       "      <td>rfalmeida@professor.educacao.sp.gov.br</td>\n",
       "    </tr>\n",
       "    <tr>\n",
       "      <th>1</th>\n",
       "      <td>00002249871</td>\n",
       "      <td>Rubens Ferreira De Almeida Junior</td>\n",
       "      <td>16/08/1955</td>\n",
       "      <td>M</td>\n",
       "      <td>JOSE CARLOS ANTUNES PROFESSOR</td>\n",
       "      <td>35008187</td>\n",
       "      <td>Professor</td>\n",
       "      <td>FISICA</td>\n",
       "      <td>1ª SERIE C MANHA ANUAL</td>\n",
       "      <td>rfalmeida@professor.educacao.sp.gov.br</td>\n",
       "    </tr>\n",
       "    <tr>\n",
       "      <th>2</th>\n",
       "      <td>00002249871</td>\n",
       "      <td>Rubens Ferreira De Almeida Junior</td>\n",
       "      <td>16/08/1955</td>\n",
       "      <td>M</td>\n",
       "      <td>JOSE CARLOS ANTUNES PROFESSOR</td>\n",
       "      <td>35008187</td>\n",
       "      <td>Professor</td>\n",
       "      <td>FISICA</td>\n",
       "      <td>1ª SERIE D MANHA ANUAL</td>\n",
       "      <td>rfalmeida@professor.educacao.sp.gov.br</td>\n",
       "    </tr>\n",
       "    <tr>\n",
       "      <th>3</th>\n",
       "      <td>00002249871</td>\n",
       "      <td>Rubens Ferreira De Almeida Junior</td>\n",
       "      <td>16/08/1955</td>\n",
       "      <td>M</td>\n",
       "      <td>JOSE CARLOS ANTUNES PROFESSOR</td>\n",
       "      <td>35008187</td>\n",
       "      <td>Professor</td>\n",
       "      <td>FISICA</td>\n",
       "      <td>1ª SERIE E NOITE ANUAL</td>\n",
       "      <td>rfalmeida@professor.educacao.sp.gov.br</td>\n",
       "    </tr>\n",
       "    <tr>\n",
       "      <th>4</th>\n",
       "      <td>00002249871</td>\n",
       "      <td>Rubens Ferreira De Almeida Junior</td>\n",
       "      <td>16/08/1955</td>\n",
       "      <td>M</td>\n",
       "      <td>JOSE CARLOS ANTUNES PROFESSOR</td>\n",
       "      <td>35008187</td>\n",
       "      <td>Professor</td>\n",
       "      <td>FISICA</td>\n",
       "      <td>1ª SERIE F NOITE ANUAL</td>\n",
       "      <td>rfalmeida@professor.educacao.sp.gov.br</td>\n",
       "    </tr>\n",
       "  </tbody>\n",
       "</table>\n",
       "</div>"
      ],
      "text/plain": [
       "        NR_CPF                               NOME   DATA_NASC GENERO  \\\n",
       "0  00002249871  Rubens Ferreira De Almeida Junior  16/08/1955      M   \n",
       "1  00002249871  Rubens Ferreira De Almeida Junior  16/08/1955      M   \n",
       "2  00002249871  Rubens Ferreira De Almeida Junior  16/08/1955      M   \n",
       "3  00002249871  Rubens Ferreira De Almeida Junior  16/08/1955      M   \n",
       "4  00002249871  Rubens Ferreira De Almeida Junior  16/08/1955      M   \n",
       "\n",
       "                       NM_ESCOLA    CD_MEC     FUNCAO NOME_DISCIPLINA  \\\n",
       "0  JOSE CARLOS ANTUNES PROFESSOR  35008187  Professor          FISICA   \n",
       "1  JOSE CARLOS ANTUNES PROFESSOR  35008187  Professor          FISICA   \n",
       "2  JOSE CARLOS ANTUNES PROFESSOR  35008187  Professor          FISICA   \n",
       "3  JOSE CARLOS ANTUNES PROFESSOR  35008187  Professor          FISICA   \n",
       "4  JOSE CARLOS ANTUNES PROFESSOR  35008187  Professor          FISICA   \n",
       "\n",
       "                    TURMA                                   EMAIL  \n",
       "0  1ª SERIE B MANHA ANUAL  rfalmeida@professor.educacao.sp.gov.br  \n",
       "1  1ª SERIE C MANHA ANUAL  rfalmeida@professor.educacao.sp.gov.br  \n",
       "2  1ª SERIE D MANHA ANUAL  rfalmeida@professor.educacao.sp.gov.br  \n",
       "3  1ª SERIE E NOITE ANUAL  rfalmeida@professor.educacao.sp.gov.br  \n",
       "4  1ª SERIE F NOITE ANUAL  rfalmeida@professor.educacao.sp.gov.br  "
      ]
     },
     "execution_count": 31,
     "metadata": {},
     "output_type": "execute_result"
    }
   ],
   "source": [
    "df_gestao.head()"
   ]
  },
  {
   "cell_type": "code",
   "execution_count": 32,
   "metadata": {},
   "outputs": [
    {
     "data": {
      "text/plain": [
       "NR_CPF             object\n",
       "NOME               object\n",
       "DATA_NASC          object\n",
       "GENERO             object\n",
       "NM_ESCOLA          object\n",
       "CD_MEC             object\n",
       "FUNCAO             object\n",
       "NOME_DISCIPLINA    object\n",
       "TURMA              object\n",
       "EMAIL              object\n",
       "dtype: object"
      ]
     },
     "execution_count": 32,
     "metadata": {},
     "output_type": "execute_result"
    }
   ],
   "source": [
    "df_gestao.dtypes"
   ]
  },
  {
   "cell_type": "code",
   "execution_count": 34,
   "metadata": {},
   "outputs": [
    {
     "data": {
      "text/plain": [
       "(1066508, 10)"
      ]
     },
     "execution_count": 34,
     "metadata": {},
     "output_type": "execute_result"
    }
   ],
   "source": [
    "df_gestao.shape"
   ]
  },
  {
   "cell_type": "code",
   "execution_count": 39,
   "metadata": {},
   "outputs": [
    {
     "data": {
      "text/html": [
       "<div>\n",
       "<style scoped>\n",
       "    .dataframe tbody tr th:only-of-type {\n",
       "        vertical-align: middle;\n",
       "    }\n",
       "\n",
       "    .dataframe tbody tr th {\n",
       "        vertical-align: top;\n",
       "    }\n",
       "\n",
       "    .dataframe thead th {\n",
       "        text-align: right;\n",
       "    }\n",
       "</style>\n",
       "<table border=\"1\" class=\"dataframe\">\n",
       "  <thead>\n",
       "    <tr style=\"text-align: right;\">\n",
       "      <th></th>\n",
       "      <th>NR_CPF</th>\n",
       "      <th>NOME</th>\n",
       "      <th>DATA_NASC</th>\n",
       "      <th>GENERO</th>\n",
       "      <th>NM_ESCOLA</th>\n",
       "      <th>CD_MEC</th>\n",
       "      <th>FUNCAO</th>\n",
       "      <th>NOME_DISCIPLINA</th>\n",
       "      <th>TURMA</th>\n",
       "      <th>EMAIL</th>\n",
       "    </tr>\n",
       "  </thead>\n",
       "  <tbody>\n",
       "    <tr>\n",
       "      <th>count</th>\n",
       "      <td>1066508</td>\n",
       "      <td>1066508</td>\n",
       "      <td>1066508</td>\n",
       "      <td>1066497</td>\n",
       "      <td>1063244</td>\n",
       "      <td>1063244</td>\n",
       "      <td>1066508</td>\n",
       "      <td>1051818</td>\n",
       "      <td>1051818</td>\n",
       "      <td>1018148</td>\n",
       "    </tr>\n",
       "    <tr>\n",
       "      <th>unique</th>\n",
       "      <td>112003</td>\n",
       "      <td>110142</td>\n",
       "      <td>16185</td>\n",
       "      <td>2</td>\n",
       "      <td>4218</td>\n",
       "      <td>4239</td>\n",
       "      <td>6</td>\n",
       "      <td>34</td>\n",
       "      <td>516</td>\n",
       "      <td>106229</td>\n",
       "    </tr>\n",
       "    <tr>\n",
       "      <th>top</th>\n",
       "      <td>08609123880</td>\n",
       "      <td>Maria Aparecida Da Silva</td>\n",
       "      <td>05/08/1976</td>\n",
       "      <td>F</td>\n",
       "      <td>ANCHIETA PADRE</td>\n",
       "      <td>35048744</td>\n",
       "      <td>Professor</td>\n",
       "      <td>LINGUA ESTRANGEIRA INGLES</td>\n",
       "      <td>1ª SERIE A MANHA ANUAL</td>\n",
       "      <td>samuelfrias@professor.educacao.sp.gov.br</td>\n",
       "    </tr>\n",
       "    <tr>\n",
       "      <th>freq</th>\n",
       "      <td>255</td>\n",
       "      <td>271</td>\n",
       "      <td>409</td>\n",
       "      <td>690644</td>\n",
       "      <td>1551</td>\n",
       "      <td>1094</td>\n",
       "      <td>1051818</td>\n",
       "      <td>94177</td>\n",
       "      <td>66067</td>\n",
       "      <td>255</td>\n",
       "    </tr>\n",
       "  </tbody>\n",
       "</table>\n",
       "</div>"
      ],
      "text/plain": [
       "             NR_CPF                      NOME   DATA_NASC   GENERO  \\\n",
       "count       1066508                   1066508     1066508  1066497   \n",
       "unique       112003                    110142       16185        2   \n",
       "top     08609123880  Maria Aparecida Da Silva  05/08/1976        F   \n",
       "freq            255                       271         409   690644   \n",
       "\n",
       "             NM_ESCOLA    CD_MEC     FUNCAO            NOME_DISCIPLINA  \\\n",
       "count          1063244   1063244    1066508                    1051818   \n",
       "unique            4218      4239          6                         34   \n",
       "top     ANCHIETA PADRE  35048744  Professor  LINGUA ESTRANGEIRA INGLES   \n",
       "freq              1551      1094    1051818                      94177   \n",
       "\n",
       "                         TURMA                                     EMAIL  \n",
       "count                  1051818                                   1018148  \n",
       "unique                     516                                    106229  \n",
       "top     1ª SERIE A MANHA ANUAL  samuelfrias@professor.educacao.sp.gov.br  \n",
       "freq                     66067                                       255  "
      ]
     },
     "execution_count": 39,
     "metadata": {},
     "output_type": "execute_result"
    }
   ],
   "source": [
    "df_gestao.describe()"
   ]
  },
  {
   "cell_type": "code",
   "execution_count": null,
   "metadata": {},
   "outputs": [],
   "source": []
  }
 ],
 "metadata": {
  "kernelspec": {
   "display_name": "Python 3",
   "language": "python",
   "name": "python3"
  },
  "language_info": {
   "codemirror_mode": {
    "name": "ipython",
    "version": 3
   },
   "file_extension": ".py",
   "mimetype": "text/x-python",
   "name": "python",
   "nbconvert_exporter": "python",
   "pygments_lexer": "ipython3",
   "version": "3.7.3"
  }
 },
 "nbformat": 4,
 "nbformat_minor": 4
}
