{
 "cells": [
  {
   "cell_type": "code",
   "execution_count": 6,
   "metadata": {},
   "outputs": [],
   "source": [
    "import pandas as pd"
   ]
  },
  {
   "cell_type": "code",
   "execution_count": 7,
   "metadata": {},
   "outputs": [],
   "source": [
    "path = 'data/20200608 - GovSP - Report Pagamentos - 2 (1).csv'\n",
    "path2 = 'data/20200608 - GovSP - Report Arquivados (1).csv'\n",
    "path3 = 'data/Merenda_em_Casa_2_Ordem_Pagamento_20200601 (1).xlsx'"
   ]
  },
  {
   "cell_type": "code",
   "execution_count": 8,
   "metadata": {},
   "outputs": [
    {
     "name": "stderr",
     "output_type": "stream",
     "text": [
      "/Users/marcello/anaconda3/lib/python3.7/site-packages/IPython/core/interactiveshell.py:3063: DtypeWarning: Columns (4) have mixed types. Specify dtype option on import or set low_memory=False.\n",
      "  interactivity=interactivity, compiler=compiler, result=result)\n"
     ]
    }
   ],
   "source": [
    "df = pd.read_csv(path)"
   ]
  },
  {
   "cell_type": "code",
   "execution_count": 9,
   "metadata": {},
   "outputs": [
    {
     "name": "stdout",
     "output_type": "stream",
     "text": [
      "(1354004, 5)\n",
      "           cpf  cod_pagamento            data_pagamento  valor_pagamento  \\\n",
      "0  26834300864          44573  2020-04-07T17:41:56.000Z             55.0   \n",
      "1  36328612850          44575  2020-04-07T17:41:57.000Z             55.0   \n",
      "2   6815798895          44576  2020-04-07T17:41:57.000Z             55.0   \n",
      "3  26574824818          44578  2020-04-07T17:41:58.000Z             55.0   \n",
      "4   3058656173          44577  2020-04-07T17:41:58.000Z             55.0   \n",
      "\n",
      "  data_arquivamento_usuario  \n",
      "0                       NaN  \n",
      "1                       NaN  \n",
      "2                       NaN  \n",
      "3                       NaN  \n",
      "4                       NaN  \n"
     ]
    }
   ],
   "source": [
    "print(df.shape)\n",
    "print(df.head())"
   ]
  },
  {
   "cell_type": "code",
   "execution_count": 10,
   "metadata": {},
   "outputs": [
    {
     "name": "stdout",
     "output_type": "stream",
     "text": [
      "Não arquivados: 1353894\n",
      "Arquivados: 110\n"
     ]
    }
   ],
   "source": [
    "print('Não arquivados:', df['data_arquivamento_usuario'].isna().sum())\n",
    "print('Arquivados:', df['data_arquivamento_usuario'].notna().sum())"
   ]
  },
  {
   "cell_type": "code",
   "execution_count": 11,
   "metadata": {},
   "outputs": [
    {
     "data": {
      "text/plain": [
       "(1354004, 5)"
      ]
     },
     "execution_count": 11,
     "metadata": {},
     "output_type": "execute_result"
    }
   ],
   "source": [
    "df.shape"
   ]
  },
  {
   "cell_type": "code",
   "execution_count": 12,
   "metadata": {},
   "outputs": [],
   "source": [
    "df_arquiv = df[df.data_arquivamento_usuario.notna()]"
   ]
  },
  {
   "cell_type": "code",
   "execution_count": 13,
   "metadata": {},
   "outputs": [
    {
     "name": "stdout",
     "output_type": "stream",
     "text": [
      "(110, 5)\n"
     ]
    },
    {
     "data": {
      "text/html": [
       "<div>\n",
       "<style scoped>\n",
       "    .dataframe tbody tr th:only-of-type {\n",
       "        vertical-align: middle;\n",
       "    }\n",
       "\n",
       "    .dataframe tbody tr th {\n",
       "        vertical-align: top;\n",
       "    }\n",
       "\n",
       "    .dataframe thead th {\n",
       "        text-align: right;\n",
       "    }\n",
       "</style>\n",
       "<table border=\"1\" class=\"dataframe\">\n",
       "  <thead>\n",
       "    <tr style=\"text-align: right;\">\n",
       "      <th></th>\n",
       "      <th>cpf</th>\n",
       "      <th>cod_pagamento</th>\n",
       "      <th>data_pagamento</th>\n",
       "      <th>valor_pagamento</th>\n",
       "      <th>data_arquivamento_usuario</th>\n",
       "    </tr>\n",
       "  </thead>\n",
       "  <tbody>\n",
       "    <tr>\n",
       "      <th>27</th>\n",
       "      <td>23082507808</td>\n",
       "      <td>44619</td>\n",
       "      <td>2020-04-07T17:42:39.000Z</td>\n",
       "      <td>55.0</td>\n",
       "      <td>2020-04-08T11:10:25.000Z</td>\n",
       "    </tr>\n",
       "    <tr>\n",
       "      <th>58</th>\n",
       "      <td>31637076886</td>\n",
       "      <td>44670</td>\n",
       "      <td>2020-04-07T17:43:20.000Z</td>\n",
       "      <td>55.0</td>\n",
       "      <td>2020-04-08T11:05:01.000Z</td>\n",
       "    </tr>\n",
       "    <tr>\n",
       "      <th>109</th>\n",
       "      <td>45102340824</td>\n",
       "      <td>44754</td>\n",
       "      <td>2020-04-07T17:44:18.000Z</td>\n",
       "      <td>55.0</td>\n",
       "      <td>2020-04-08T11:07:03.000Z</td>\n",
       "    </tr>\n",
       "    <tr>\n",
       "      <th>121</th>\n",
       "      <td>38766203848</td>\n",
       "      <td>44775</td>\n",
       "      <td>2020-04-07T17:44:29.000Z</td>\n",
       "      <td>55.0</td>\n",
       "      <td>2020-04-08T11:04:48.000Z</td>\n",
       "    </tr>\n",
       "    <tr>\n",
       "      <th>176</th>\n",
       "      <td>22795551829</td>\n",
       "      <td>44854</td>\n",
       "      <td>2020-04-07T17:45:23.000Z</td>\n",
       "      <td>55.0</td>\n",
       "      <td>2020-04-08T11:05:09.000Z</td>\n",
       "    </tr>\n",
       "  </tbody>\n",
       "</table>\n",
       "</div>"
      ],
      "text/plain": [
       "             cpf  cod_pagamento            data_pagamento  valor_pagamento  \\\n",
       "27   23082507808          44619  2020-04-07T17:42:39.000Z             55.0   \n",
       "58   31637076886          44670  2020-04-07T17:43:20.000Z             55.0   \n",
       "109  45102340824          44754  2020-04-07T17:44:18.000Z             55.0   \n",
       "121  38766203848          44775  2020-04-07T17:44:29.000Z             55.0   \n",
       "176  22795551829          44854  2020-04-07T17:45:23.000Z             55.0   \n",
       "\n",
       "    data_arquivamento_usuario  \n",
       "27   2020-04-08T11:10:25.000Z  \n",
       "58   2020-04-08T11:05:01.000Z  \n",
       "109  2020-04-08T11:07:03.000Z  \n",
       "121  2020-04-08T11:04:48.000Z  \n",
       "176  2020-04-08T11:05:09.000Z  "
      ]
     },
     "execution_count": 13,
     "metadata": {},
     "output_type": "execute_result"
    }
   ],
   "source": [
    "print(df_arquiv.shape)\n",
    "df_arquiv.head()"
   ]
  },
  {
   "cell_type": "code",
   "execution_count": 14,
   "metadata": {},
   "outputs": [
    {
     "data": {
      "text/plain": [
       "79"
      ]
     },
     "execution_count": 14,
     "metadata": {},
     "output_type": "execute_result"
    }
   ],
   "source": [
    "df_arquiv['cpf'].nunique()"
   ]
  },
  {
   "cell_type": "code",
   "execution_count": 15,
   "metadata": {},
   "outputs": [],
   "source": [
    "df_arquiv_clean = df_arquiv[['cpf', 'data_arquivamento_usuario']].drop_duplicates()"
   ]
  },
  {
   "cell_type": "code",
   "execution_count": 16,
   "metadata": {},
   "outputs": [
    {
     "name": "stdout",
     "output_type": "stream",
     "text": [
      "(79, 2)\n",
      "             cpf data_arquivamento_usuario\n",
      "27   23082507808  2020-04-08T11:10:25.000Z\n",
      "58   31637076886  2020-04-08T11:05:01.000Z\n",
      "109  45102340824  2020-04-08T11:07:03.000Z\n",
      "121  38766203848  2020-04-08T11:04:48.000Z\n",
      "176  22795551829  2020-04-08T11:05:09.000Z\n"
     ]
    }
   ],
   "source": [
    "print(df_arquiv_clean.shape)\n",
    "print(df_arquiv_clean.head())"
   ]
  },
  {
   "cell_type": "code",
   "execution_count": 17,
   "metadata": {},
   "outputs": [],
   "source": [
    "df2 = pd.read_csv(path2)"
   ]
  },
  {
   "cell_type": "code",
   "execution_count": 18,
   "metadata": {},
   "outputs": [
    {
     "name": "stdout",
     "output_type": "stream",
     "text": [
      "(134, 2)\n",
      "           cpf  usuario_arquivado\n",
      "0  37625421805               True\n",
      "1  60605820953               True\n",
      "2  35795428850               True\n",
      "3  16889038878               True\n",
      "4  33740345861               True\n"
     ]
    }
   ],
   "source": [
    "print(df2.shape)\n",
    "print(df2.head())"
   ]
  },
  {
   "cell_type": "code",
   "execution_count": 19,
   "metadata": {},
   "outputs": [
    {
     "data": {
      "text/html": [
       "<div>\n",
       "<style scoped>\n",
       "    .dataframe tbody tr th:only-of-type {\n",
       "        vertical-align: middle;\n",
       "    }\n",
       "\n",
       "    .dataframe tbody tr th {\n",
       "        vertical-align: top;\n",
       "    }\n",
       "\n",
       "    .dataframe thead th {\n",
       "        text-align: right;\n",
       "    }\n",
       "</style>\n",
       "<table border=\"1\" class=\"dataframe\">\n",
       "  <thead>\n",
       "    <tr style=\"text-align: right;\">\n",
       "      <th></th>\n",
       "      <th>cpf</th>\n",
       "      <th>usuario_arquivado</th>\n",
       "      <th>data_arquivamento_usuario</th>\n",
       "    </tr>\n",
       "  </thead>\n",
       "  <tbody>\n",
       "    <tr>\n",
       "      <th>0</th>\n",
       "      <td>38981870802</td>\n",
       "      <td>True</td>\n",
       "      <td>2020-04-30T18:16:52.000Z</td>\n",
       "    </tr>\n",
       "    <tr>\n",
       "      <th>1</th>\n",
       "      <td>29700395839</td>\n",
       "      <td>True</td>\n",
       "      <td>2020-04-30T18:16:54.000Z</td>\n",
       "    </tr>\n",
       "    <tr>\n",
       "      <th>2</th>\n",
       "      <td>38949099861</td>\n",
       "      <td>True</td>\n",
       "      <td>2020-04-30T18:16:53.000Z</td>\n",
       "    </tr>\n",
       "    <tr>\n",
       "      <th>3</th>\n",
       "      <td>1895399335</td>\n",
       "      <td>True</td>\n",
       "      <td>2020-04-16T20:53:38.000Z</td>\n",
       "    </tr>\n",
       "  </tbody>\n",
       "</table>\n",
       "</div>"
      ],
      "text/plain": [
       "           cpf  usuario_arquivado data_arquivamento_usuario\n",
       "0  38981870802               True  2020-04-30T18:16:52.000Z\n",
       "1  29700395839               True  2020-04-30T18:16:54.000Z\n",
       "2  38949099861               True  2020-04-30T18:16:53.000Z\n",
       "3   1895399335               True  2020-04-16T20:53:38.000Z"
      ]
     },
     "execution_count": 19,
     "metadata": {},
     "output_type": "execute_result"
    }
   ],
   "source": [
    "df3 = pd.merge(df2, df_arquiv_clean, on='cpf', how='inner')\n",
    "df3"
   ]
  },
  {
   "cell_type": "code",
   "execution_count": 20,
   "metadata": {},
   "outputs": [],
   "source": [
    "df4 = pd.read_excel(path3)"
   ]
  },
  {
   "cell_type": "code",
   "execution_count": 21,
   "metadata": {},
   "outputs": [
    {
     "name": "stdout",
     "output_type": "stream",
     "text": [
      "(192409, 4)\n",
      "   CD_ALUNO                              NM_ALUNO  NUM_CPF_PESSOA  \\\n",
      "0  25687017  LUCAS HENRIQUE CAVALCANTE DOS SANTOS    4.449925e+10   \n",
      "1  25687017  LUCAS HENRIQUE CAVALCANTE DOS SANTOS    4.449925e+10   \n",
      "2  25687022          VERONICA CARLA DE SOUSA LIMA    3.943043e+10   \n",
      "3  25687336          EMILLY KAROLINE DANTAS SILVA    5.665133e+10   \n",
      "4  25687336          EMILLY KAROLINE DANTAS SILVA    5.665133e+10   \n",
      "\n",
      "                              NOM_PESSOA  \n",
      "0  ROSALIA PEREIRA CAVALCANTE DOS SANTOS  \n",
      "1  ROSALIA PEREIRA CAVALCANTE DOS SANTOS  \n",
      "2                 VANIA ROBERTA DE SOUSA  \n",
      "3           EMILLY KAROLINE DANTAS SILVA  \n",
      "4           EMILLY KAROLINE DANTAS SILVA  \n"
     ]
    }
   ],
   "source": [
    "print(df4.shape)\n",
    "print(df4.head())"
   ]
  },
  {
   "cell_type": "code",
   "execution_count": 22,
   "metadata": {},
   "outputs": [],
   "source": [
    "df4_distinct = df4.groupby(['NUM_CPF_PESSOA']).count()"
   ]
  },
  {
   "cell_type": "code",
   "execution_count": 23,
   "metadata": {},
   "outputs": [
    {
     "data": {
      "text/html": [
       "<div>\n",
       "<style scoped>\n",
       "    .dataframe tbody tr th:only-of-type {\n",
       "        vertical-align: middle;\n",
       "    }\n",
       "\n",
       "    .dataframe tbody tr th {\n",
       "        vertical-align: top;\n",
       "    }\n",
       "\n",
       "    .dataframe thead th {\n",
       "        text-align: right;\n",
       "    }\n",
       "</style>\n",
       "<table border=\"1\" class=\"dataframe\">\n",
       "  <thead>\n",
       "    <tr style=\"text-align: right;\">\n",
       "      <th></th>\n",
       "      <th>CD_ALUNO</th>\n",
       "      <th>NM_ALUNO</th>\n",
       "      <th>NOM_PESSOA</th>\n",
       "    </tr>\n",
       "    <tr>\n",
       "      <th>NUM_CPF_PESSOA</th>\n",
       "      <th></th>\n",
       "      <th></th>\n",
       "      <th></th>\n",
       "    </tr>\n",
       "  </thead>\n",
       "  <tbody>\n",
       "    <tr>\n",
       "      <th>1418360.0</th>\n",
       "      <td>4</td>\n",
       "      <td>4</td>\n",
       "      <td>4</td>\n",
       "    </tr>\n",
       "    <tr>\n",
       "      <th>2915367.0</th>\n",
       "      <td>2</td>\n",
       "      <td>2</td>\n",
       "      <td>2</td>\n",
       "    </tr>\n",
       "    <tr>\n",
       "      <th>4575407.0</th>\n",
       "      <td>2</td>\n",
       "      <td>2</td>\n",
       "      <td>2</td>\n",
       "    </tr>\n",
       "    <tr>\n",
       "      <th>5847389.0</th>\n",
       "      <td>2</td>\n",
       "      <td>2</td>\n",
       "      <td>2</td>\n",
       "    </tr>\n",
       "    <tr>\n",
       "      <th>7049382.0</th>\n",
       "      <td>2</td>\n",
       "      <td>2</td>\n",
       "      <td>2</td>\n",
       "    </tr>\n",
       "  </tbody>\n",
       "</table>\n",
       "</div>"
      ],
      "text/plain": [
       "                CD_ALUNO  NM_ALUNO  NOM_PESSOA\n",
       "NUM_CPF_PESSOA                                \n",
       "1418360.0              4         4           4\n",
       "2915367.0              2         2           2\n",
       "4575407.0              2         2           2\n",
       "5847389.0              2         2           2\n",
       "7049382.0              2         2           2"
      ]
     },
     "execution_count": 23,
     "metadata": {},
     "output_type": "execute_result"
    }
   ],
   "source": [
    "df4_distinct.head()"
   ]
  },
  {
   "cell_type": "code",
   "execution_count": null,
   "metadata": {},
   "outputs": [],
   "source": []
  }
 ],
 "metadata": {
  "kernelspec": {
   "display_name": "Python 3",
   "language": "python",
   "name": "python3"
  },
  "language_info": {
   "codemirror_mode": {
    "name": "ipython",
    "version": 3
   },
   "file_extension": ".py",
   "mimetype": "text/x-python",
   "name": "python",
   "nbconvert_exporter": "python",
   "pygments_lexer": "ipython3",
   "version": "3.7.3"
  }
 },
 "nbformat": 4,
 "nbformat_minor": 4
}
