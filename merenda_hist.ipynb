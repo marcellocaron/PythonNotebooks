{
 "cells": [
  {
   "cell_type": "markdown",
   "metadata": {},
   "source": [
    "# Import libs"
   ]
  },
  {
   "cell_type": "code",
   "execution_count": 2,
   "metadata": {},
   "outputs": [],
   "source": [
    "import pandas as pd\n",
    "pd.set_option('display.float_format', lambda x: '%.3f' % x)\n",
    "import seaborn as sns\n",
    "import matplotlib.pyplot as plt\n",
    "import numpy as np"
   ]
  },
  {
   "cell_type": "markdown",
   "metadata": {},
   "source": [
    "# Import data"
   ]
  },
  {
   "cell_type": "code",
   "execution_count": 3,
   "metadata": {},
   "outputs": [],
   "source": [
    "path = 'data/Base_nao_pagos_distancia_para_pagos_20200518.xlsx'\n",
    "df = pd.read_excel(path)"
   ]
  },
  {
   "cell_type": "code",
   "execution_count": 4,
   "metadata": {},
   "outputs": [
    {
     "data": {
      "text/html": [
       "<div>\n",
       "<style scoped>\n",
       "    .dataframe tbody tr th:only-of-type {\n",
       "        vertical-align: middle;\n",
       "    }\n",
       "\n",
       "    .dataframe tbody tr th {\n",
       "        vertical-align: top;\n",
       "    }\n",
       "\n",
       "    .dataframe thead th {\n",
       "        text-align: right;\n",
       "    }\n",
       "</style>\n",
       "<table border=\"1\" class=\"dataframe\">\n",
       "  <thead>\n",
       "    <tr style=\"text-align: right;\">\n",
       "      <th></th>\n",
       "      <th>CD_ALUNO_NAO_PAGO</th>\n",
       "      <th>NM_RESPONSAVEL_NAO_PAGO</th>\n",
       "      <th>CD_ALUNO_PAGO</th>\n",
       "      <th>NM_RESPONSAVEL_PAGO</th>\n",
       "      <th>DISTANCIA_EM_METROS</th>\n",
       "      <th>ORDEM</th>\n",
       "      <th>TELEFONE_PICPAY</th>\n",
       "      <th>CD_DDD1</th>\n",
       "      <th>NR_FONE1</th>\n",
       "      <th>CD_DDD2</th>\n",
       "      <th>NR_FONE2</th>\n",
       "      <th>CD_DDD3</th>\n",
       "      <th>NR_FONE3</th>\n",
       "      <th>CD_DDD4</th>\n",
       "      <th>NR_FONE4</th>\n",
       "    </tr>\n",
       "  </thead>\n",
       "  <tbody>\n",
       "    <tr>\n",
       "      <th>0</th>\n",
       "      <td>10013870</td>\n",
       "      <td>JOSE ROZENO DA SILVA</td>\n",
       "      <td>21231735</td>\n",
       "      <td>ANDREA LOURENCO REQUENA</td>\n",
       "      <td>29.781</td>\n",
       "      <td>1</td>\n",
       "      <td>nan</td>\n",
       "      <td>nan</td>\n",
       "      <td>NaN</td>\n",
       "      <td>nan</td>\n",
       "      <td>NaN</td>\n",
       "      <td>19.000</td>\n",
       "      <td>998002531</td>\n",
       "      <td>nan</td>\n",
       "      <td>NaN</td>\n",
       "    </tr>\n",
       "    <tr>\n",
       "      <th>1</th>\n",
       "      <td>10013870</td>\n",
       "      <td>JOSE ROZENO DA SILVA</td>\n",
       "      <td>24247166</td>\n",
       "      <td>SUSANA DA SILVA PORPHIRIO</td>\n",
       "      <td>144.785</td>\n",
       "      <td>2</td>\n",
       "      <td>nan</td>\n",
       "      <td>nan</td>\n",
       "      <td>NaN</td>\n",
       "      <td>nan</td>\n",
       "      <td>NaN</td>\n",
       "      <td>19.000</td>\n",
       "      <td>983115131</td>\n",
       "      <td>nan</td>\n",
       "      <td>NaN</td>\n",
       "    </tr>\n",
       "    <tr>\n",
       "      <th>2</th>\n",
       "      <td>10013870</td>\n",
       "      <td>JOSE ROZENO DA SILVA</td>\n",
       "      <td>27899892</td>\n",
       "      <td>ADRIANA CRISTINA SILVA DOS SANTOS</td>\n",
       "      <td>299.847</td>\n",
       "      <td>3</td>\n",
       "      <td>19994591972.000</td>\n",
       "      <td>nan</td>\n",
       "      <td>NaN</td>\n",
       "      <td>nan</td>\n",
       "      <td>NaN</td>\n",
       "      <td>19.000</td>\n",
       "      <td>994591972</td>\n",
       "      <td>nan</td>\n",
       "      <td>NaN</td>\n",
       "    </tr>\n",
       "    <tr>\n",
       "      <th>3</th>\n",
       "      <td>10013870</td>\n",
       "      <td>JOSE ROZENO DA SILVA</td>\n",
       "      <td>35512424</td>\n",
       "      <td>GILVANETE GONCALVES RAMOS</td>\n",
       "      <td>359.555</td>\n",
       "      <td>4</td>\n",
       "      <td>nan</td>\n",
       "      <td>nan</td>\n",
       "      <td>NaN</td>\n",
       "      <td>nan</td>\n",
       "      <td>NaN</td>\n",
       "      <td>19.000</td>\n",
       "      <td>996997849</td>\n",
       "      <td>nan</td>\n",
       "      <td>NaN</td>\n",
       "    </tr>\n",
       "    <tr>\n",
       "      <th>4</th>\n",
       "      <td>10037134</td>\n",
       "      <td>JOSIANE THAINA PARENTE</td>\n",
       "      <td>27471916</td>\n",
       "      <td>ERICA DE FATIMA MELOTTI</td>\n",
       "      <td>63.184</td>\n",
       "      <td>1</td>\n",
       "      <td>nan</td>\n",
       "      <td>nan</td>\n",
       "      <td>NaN</td>\n",
       "      <td>nan</td>\n",
       "      <td>NaN</td>\n",
       "      <td>14.000</td>\n",
       "      <td>981914492</td>\n",
       "      <td>nan</td>\n",
       "      <td>NaN</td>\n",
       "    </tr>\n",
       "  </tbody>\n",
       "</table>\n",
       "</div>"
      ],
      "text/plain": [
       "   CD_ALUNO_NAO_PAGO NM_RESPONSAVEL_NAO_PAGO  CD_ALUNO_PAGO  \\\n",
       "0           10013870    JOSE ROZENO DA SILVA       21231735   \n",
       "1           10013870    JOSE ROZENO DA SILVA       24247166   \n",
       "2           10013870    JOSE ROZENO DA SILVA       27899892   \n",
       "3           10013870    JOSE ROZENO DA SILVA       35512424   \n",
       "4           10037134  JOSIANE THAINA PARENTE       27471916   \n",
       "\n",
       "                 NM_RESPONSAVEL_PAGO  DISTANCIA_EM_METROS  ORDEM  \\\n",
       "0            ANDREA LOURENCO REQUENA               29.781      1   \n",
       "1          SUSANA DA SILVA PORPHIRIO              144.785      2   \n",
       "2  ADRIANA CRISTINA SILVA DOS SANTOS              299.847      3   \n",
       "3          GILVANETE GONCALVES RAMOS              359.555      4   \n",
       "4            ERICA DE FATIMA MELOTTI               63.184      1   \n",
       "\n",
       "   TELEFONE_PICPAY  CD_DDD1 NR_FONE1  CD_DDD2 NR_FONE2  CD_DDD3   NR_FONE3  \\\n",
       "0              nan      nan      NaN      nan      NaN   19.000  998002531   \n",
       "1              nan      nan      NaN      nan      NaN   19.000  983115131   \n",
       "2  19994591972.000      nan      NaN      nan      NaN   19.000  994591972   \n",
       "3              nan      nan      NaN      nan      NaN   19.000  996997849   \n",
       "4              nan      nan      NaN      nan      NaN   14.000  981914492   \n",
       "\n",
       "   CD_DDD4 NR_FONE4  \n",
       "0      nan      NaN  \n",
       "1      nan      NaN  \n",
       "2      nan      NaN  \n",
       "3      nan      NaN  \n",
       "4      nan      NaN  "
      ]
     },
     "execution_count": 4,
     "metadata": {},
     "output_type": "execute_result"
    }
   ],
   "source": [
    "df.head()"
   ]
  },
  {
   "cell_type": "code",
   "execution_count": 5,
   "metadata": {},
   "outputs": [
    {
     "data": {
      "text/plain": [
       "(415507, 15)"
      ]
     },
     "execution_count": 5,
     "metadata": {},
     "output_type": "execute_result"
    }
   ],
   "source": [
    "df.shape"
   ]
  },
  {
   "cell_type": "code",
   "execution_count": 6,
   "metadata": {},
   "outputs": [
    {
     "data": {
      "text/plain": [
       "CD_ALUNO_NAO_PAGO          415507\n",
       "NM_RESPONSAVEL_NAO_PAGO    406871\n",
       "CD_ALUNO_PAGO              415507\n",
       "NM_RESPONSAVEL_PAGO        415507\n",
       "DISTANCIA_EM_METROS        415507\n",
       "ORDEM                      415507\n",
       "TELEFONE_PICPAY             24159\n",
       "CD_DDD1                     88907\n",
       "NR_FONE1                    88907\n",
       "CD_DDD2                      9071\n",
       "NR_FONE2                     9071\n",
       "CD_DDD3                    376542\n",
       "NR_FONE3                   376542\n",
       "CD_DDD4                     30515\n",
       "NR_FONE4                    30515\n",
       "dtype: int64"
      ]
     },
     "execution_count": 6,
     "metadata": {},
     "output_type": "execute_result"
    }
   ],
   "source": [
    "df.count()"
   ]
  },
  {
   "cell_type": "code",
   "execution_count": 7,
   "metadata": {},
   "outputs": [
    {
     "data": {
      "text/html": [
       "<div>\n",
       "<style scoped>\n",
       "    .dataframe tbody tr th:only-of-type {\n",
       "        vertical-align: middle;\n",
       "    }\n",
       "\n",
       "    .dataframe tbody tr th {\n",
       "        vertical-align: top;\n",
       "    }\n",
       "\n",
       "    .dataframe thead th {\n",
       "        text-align: right;\n",
       "    }\n",
       "</style>\n",
       "<table border=\"1\" class=\"dataframe\">\n",
       "  <thead>\n",
       "    <tr style=\"text-align: right;\">\n",
       "      <th></th>\n",
       "      <th>CD_ALUNO_NAO_PAGO</th>\n",
       "      <th>CD_ALUNO_PAGO</th>\n",
       "      <th>DISTANCIA_EM_METROS</th>\n",
       "      <th>ORDEM</th>\n",
       "      <th>TELEFONE_PICPAY</th>\n",
       "      <th>CD_DDD1</th>\n",
       "      <th>CD_DDD2</th>\n",
       "      <th>CD_DDD3</th>\n",
       "      <th>CD_DDD4</th>\n",
       "    </tr>\n",
       "  </thead>\n",
       "  <tbody>\n",
       "    <tr>\n",
       "      <th>count</th>\n",
       "      <td>415507.000</td>\n",
       "      <td>415507.000</td>\n",
       "      <td>415507.000</td>\n",
       "      <td>415507.000</td>\n",
       "      <td>24159.000</td>\n",
       "      <td>88907.000</td>\n",
       "      <td>9071.000</td>\n",
       "      <td>376542.000</td>\n",
       "      <td>30515.000</td>\n",
       "    </tr>\n",
       "    <tr>\n",
       "      <th>mean</th>\n",
       "      <td>26966896.772</td>\n",
       "      <td>27473219.258</td>\n",
       "      <td>193.022</td>\n",
       "      <td>2.662</td>\n",
       "      <td>14254164366.292</td>\n",
       "      <td>12.097</td>\n",
       "      <td>12.301</td>\n",
       "      <td>13.042</td>\n",
       "      <td>12.578</td>\n",
       "    </tr>\n",
       "    <tr>\n",
       "      <th>std</th>\n",
       "      <td>4413359.609</td>\n",
       "      <td>3640442.750</td>\n",
       "      <td>667.677</td>\n",
       "      <td>1.314</td>\n",
       "      <td>4672973702.715</td>\n",
       "      <td>2.559</td>\n",
       "      <td>3.063</td>\n",
       "      <td>3.498</td>\n",
       "      <td>3.285</td>\n",
       "    </tr>\n",
       "    <tr>\n",
       "      <th>min</th>\n",
       "      <td>940.000</td>\n",
       "      <td>9461.000</td>\n",
       "      <td>0.000</td>\n",
       "      <td>1.000</td>\n",
       "      <td>6798563205.000</td>\n",
       "      <td>0.000</td>\n",
       "      <td>0.000</td>\n",
       "      <td>0.000</td>\n",
       "      <td>0.000</td>\n",
       "    </tr>\n",
       "    <tr>\n",
       "      <th>25%</th>\n",
       "      <td>24792375.000</td>\n",
       "      <td>25324963.000</td>\n",
       "      <td>22.396</td>\n",
       "      <td>2.000</td>\n",
       "      <td>11961209006.000</td>\n",
       "      <td>11.000</td>\n",
       "      <td>11.000</td>\n",
       "      <td>11.000</td>\n",
       "      <td>11.000</td>\n",
       "    </tr>\n",
       "    <tr>\n",
       "      <th>50%</th>\n",
       "      <td>27043602.000</td>\n",
       "      <td>27395908.000</td>\n",
       "      <td>57.307</td>\n",
       "      <td>3.000</td>\n",
       "      <td>11988681728.000</td>\n",
       "      <td>11.000</td>\n",
       "      <td>11.000</td>\n",
       "      <td>11.000</td>\n",
       "      <td>11.000</td>\n",
       "    </tr>\n",
       "    <tr>\n",
       "      <th>75%</th>\n",
       "      <td>29678441.000</td>\n",
       "      <td>29856375.500</td>\n",
       "      <td>117.230</td>\n",
       "      <td>4.000</td>\n",
       "      <td>15997086121.000</td>\n",
       "      <td>11.000</td>\n",
       "      <td>12.000</td>\n",
       "      <td>15.000</td>\n",
       "      <td>13.000</td>\n",
       "    </tr>\n",
       "    <tr>\n",
       "      <th>max</th>\n",
       "      <td>37264967.000</td>\n",
       "      <td>37126106.000</td>\n",
       "      <td>14689.681</td>\n",
       "      <td>5.000</td>\n",
       "      <td>95991409644.000</td>\n",
       "      <td>99.000</td>\n",
       "      <td>99.000</td>\n",
       "      <td>99.000</td>\n",
       "      <td>99.000</td>\n",
       "    </tr>\n",
       "  </tbody>\n",
       "</table>\n",
       "</div>"
      ],
      "text/plain": [
       "       CD_ALUNO_NAO_PAGO  CD_ALUNO_PAGO  DISTANCIA_EM_METROS      ORDEM  \\\n",
       "count         415507.000     415507.000           415507.000 415507.000   \n",
       "mean        26966896.772   27473219.258              193.022      2.662   \n",
       "std          4413359.609    3640442.750              667.677      1.314   \n",
       "min              940.000       9461.000                0.000      1.000   \n",
       "25%         24792375.000   25324963.000               22.396      2.000   \n",
       "50%         27043602.000   27395908.000               57.307      3.000   \n",
       "75%         29678441.000   29856375.500              117.230      4.000   \n",
       "max         37264967.000   37126106.000            14689.681      5.000   \n",
       "\n",
       "       TELEFONE_PICPAY   CD_DDD1  CD_DDD2    CD_DDD3   CD_DDD4  \n",
       "count        24159.000 88907.000 9071.000 376542.000 30515.000  \n",
       "mean   14254164366.292    12.097   12.301     13.042    12.578  \n",
       "std     4672973702.715     2.559    3.063      3.498     3.285  \n",
       "min     6798563205.000     0.000    0.000      0.000     0.000  \n",
       "25%    11961209006.000    11.000   11.000     11.000    11.000  \n",
       "50%    11988681728.000    11.000   11.000     11.000    11.000  \n",
       "75%    15997086121.000    11.000   12.000     15.000    13.000  \n",
       "max    95991409644.000    99.000   99.000     99.000    99.000  "
      ]
     },
     "execution_count": 7,
     "metadata": {},
     "output_type": "execute_result"
    }
   ],
   "source": [
    "df.describe()"
   ]
  },
  {
   "cell_type": "markdown",
   "metadata": {},
   "source": [
    "# Remove null and 0"
   ]
  },
  {
   "cell_type": "code",
   "execution_count": 8,
   "metadata": {},
   "outputs": [],
   "source": [
    "df_sem_null = df.dropna(subset=['NR_FONE3'])"
   ]
  },
  {
   "cell_type": "code",
   "execution_count": 9,
   "metadata": {},
   "outputs": [],
   "source": [
    "#df_sem_null = df_sem_null[df_sem_null.DISTANCIA_EM_METROS <= 2000]"
   ]
  },
  {
   "cell_type": "code",
   "execution_count": 10,
   "metadata": {},
   "outputs": [
    {
     "data": {
      "text/html": [
       "<div>\n",
       "<style scoped>\n",
       "    .dataframe tbody tr th:only-of-type {\n",
       "        vertical-align: middle;\n",
       "    }\n",
       "\n",
       "    .dataframe tbody tr th {\n",
       "        vertical-align: top;\n",
       "    }\n",
       "\n",
       "    .dataframe thead th {\n",
       "        text-align: right;\n",
       "    }\n",
       "</style>\n",
       "<table border=\"1\" class=\"dataframe\">\n",
       "  <thead>\n",
       "    <tr style=\"text-align: right;\">\n",
       "      <th></th>\n",
       "      <th>CD_ALUNO_NAO_PAGO</th>\n",
       "      <th>NM_RESPONSAVEL_NAO_PAGO</th>\n",
       "      <th>CD_ALUNO_PAGO</th>\n",
       "      <th>NM_RESPONSAVEL_PAGO</th>\n",
       "      <th>DISTANCIA_EM_METROS</th>\n",
       "      <th>ORDEM</th>\n",
       "      <th>TELEFONE_PICPAY</th>\n",
       "      <th>CD_DDD1</th>\n",
       "      <th>NR_FONE1</th>\n",
       "      <th>CD_DDD2</th>\n",
       "      <th>NR_FONE2</th>\n",
       "      <th>CD_DDD3</th>\n",
       "      <th>NR_FONE3</th>\n",
       "      <th>CD_DDD4</th>\n",
       "      <th>NR_FONE4</th>\n",
       "    </tr>\n",
       "  </thead>\n",
       "  <tbody>\n",
       "    <tr>\n",
       "      <th>0</th>\n",
       "      <td>10013870</td>\n",
       "      <td>JOSE ROZENO DA SILVA</td>\n",
       "      <td>21231735</td>\n",
       "      <td>ANDREA LOURENCO REQUENA</td>\n",
       "      <td>29.781</td>\n",
       "      <td>1</td>\n",
       "      <td>nan</td>\n",
       "      <td>nan</td>\n",
       "      <td>NaN</td>\n",
       "      <td>nan</td>\n",
       "      <td>NaN</td>\n",
       "      <td>19.000</td>\n",
       "      <td>998002531</td>\n",
       "      <td>nan</td>\n",
       "      <td>NaN</td>\n",
       "    </tr>\n",
       "    <tr>\n",
       "      <th>1</th>\n",
       "      <td>10013870</td>\n",
       "      <td>JOSE ROZENO DA SILVA</td>\n",
       "      <td>24247166</td>\n",
       "      <td>SUSANA DA SILVA PORPHIRIO</td>\n",
       "      <td>144.785</td>\n",
       "      <td>2</td>\n",
       "      <td>nan</td>\n",
       "      <td>nan</td>\n",
       "      <td>NaN</td>\n",
       "      <td>nan</td>\n",
       "      <td>NaN</td>\n",
       "      <td>19.000</td>\n",
       "      <td>983115131</td>\n",
       "      <td>nan</td>\n",
       "      <td>NaN</td>\n",
       "    </tr>\n",
       "    <tr>\n",
       "      <th>2</th>\n",
       "      <td>10013870</td>\n",
       "      <td>JOSE ROZENO DA SILVA</td>\n",
       "      <td>27899892</td>\n",
       "      <td>ADRIANA CRISTINA SILVA DOS SANTOS</td>\n",
       "      <td>299.847</td>\n",
       "      <td>3</td>\n",
       "      <td>19994591972.000</td>\n",
       "      <td>nan</td>\n",
       "      <td>NaN</td>\n",
       "      <td>nan</td>\n",
       "      <td>NaN</td>\n",
       "      <td>19.000</td>\n",
       "      <td>994591972</td>\n",
       "      <td>nan</td>\n",
       "      <td>NaN</td>\n",
       "    </tr>\n",
       "    <tr>\n",
       "      <th>3</th>\n",
       "      <td>10013870</td>\n",
       "      <td>JOSE ROZENO DA SILVA</td>\n",
       "      <td>35512424</td>\n",
       "      <td>GILVANETE GONCALVES RAMOS</td>\n",
       "      <td>359.555</td>\n",
       "      <td>4</td>\n",
       "      <td>nan</td>\n",
       "      <td>nan</td>\n",
       "      <td>NaN</td>\n",
       "      <td>nan</td>\n",
       "      <td>NaN</td>\n",
       "      <td>19.000</td>\n",
       "      <td>996997849</td>\n",
       "      <td>nan</td>\n",
       "      <td>NaN</td>\n",
       "    </tr>\n",
       "    <tr>\n",
       "      <th>4</th>\n",
       "      <td>10037134</td>\n",
       "      <td>JOSIANE THAINA PARENTE</td>\n",
       "      <td>27471916</td>\n",
       "      <td>ERICA DE FATIMA MELOTTI</td>\n",
       "      <td>63.184</td>\n",
       "      <td>1</td>\n",
       "      <td>nan</td>\n",
       "      <td>nan</td>\n",
       "      <td>NaN</td>\n",
       "      <td>nan</td>\n",
       "      <td>NaN</td>\n",
       "      <td>14.000</td>\n",
       "      <td>981914492</td>\n",
       "      <td>nan</td>\n",
       "      <td>NaN</td>\n",
       "    </tr>\n",
       "  </tbody>\n",
       "</table>\n",
       "</div>"
      ],
      "text/plain": [
       "   CD_ALUNO_NAO_PAGO NM_RESPONSAVEL_NAO_PAGO  CD_ALUNO_PAGO  \\\n",
       "0           10013870    JOSE ROZENO DA SILVA       21231735   \n",
       "1           10013870    JOSE ROZENO DA SILVA       24247166   \n",
       "2           10013870    JOSE ROZENO DA SILVA       27899892   \n",
       "3           10013870    JOSE ROZENO DA SILVA       35512424   \n",
       "4           10037134  JOSIANE THAINA PARENTE       27471916   \n",
       "\n",
       "                 NM_RESPONSAVEL_PAGO  DISTANCIA_EM_METROS  ORDEM  \\\n",
       "0            ANDREA LOURENCO REQUENA               29.781      1   \n",
       "1          SUSANA DA SILVA PORPHIRIO              144.785      2   \n",
       "2  ADRIANA CRISTINA SILVA DOS SANTOS              299.847      3   \n",
       "3          GILVANETE GONCALVES RAMOS              359.555      4   \n",
       "4            ERICA DE FATIMA MELOTTI               63.184      1   \n",
       "\n",
       "   TELEFONE_PICPAY  CD_DDD1 NR_FONE1  CD_DDD2 NR_FONE2  CD_DDD3   NR_FONE3  \\\n",
       "0              nan      nan      NaN      nan      NaN   19.000  998002531   \n",
       "1              nan      nan      NaN      nan      NaN   19.000  983115131   \n",
       "2  19994591972.000      nan      NaN      nan      NaN   19.000  994591972   \n",
       "3              nan      nan      NaN      nan      NaN   19.000  996997849   \n",
       "4              nan      nan      NaN      nan      NaN   14.000  981914492   \n",
       "\n",
       "   CD_DDD4 NR_FONE4  \n",
       "0      nan      NaN  \n",
       "1      nan      NaN  \n",
       "2      nan      NaN  \n",
       "3      nan      NaN  \n",
       "4      nan      NaN  "
      ]
     },
     "execution_count": 10,
     "metadata": {},
     "output_type": "execute_result"
    }
   ],
   "source": [
    "df_sem_null.head()"
   ]
  },
  {
   "cell_type": "code",
   "execution_count": 11,
   "metadata": {},
   "outputs": [],
   "source": [
    "df_sem_null_e_zero = df_sem_null[df_sem_null['NR_FONE3'] != '0']"
   ]
  },
  {
   "cell_type": "markdown",
   "metadata": {},
   "source": [
    "# Get only the nearest"
   ]
  },
  {
   "cell_type": "code",
   "execution_count": 12,
   "metadata": {},
   "outputs": [],
   "source": [
    "filter_min = df_sem_null_e_zero.groupby(['CD_ALUNO_NAO_PAGO'], sort=False, as_index=False)['ORDEM'].min()"
   ]
  },
  {
   "cell_type": "code",
   "execution_count": 13,
   "metadata": {},
   "outputs": [
    {
     "data": {
      "text/html": [
       "<div>\n",
       "<style scoped>\n",
       "    .dataframe tbody tr th:only-of-type {\n",
       "        vertical-align: middle;\n",
       "    }\n",
       "\n",
       "    .dataframe tbody tr th {\n",
       "        vertical-align: top;\n",
       "    }\n",
       "\n",
       "    .dataframe thead th {\n",
       "        text-align: right;\n",
       "    }\n",
       "</style>\n",
       "<table border=\"1\" class=\"dataframe\">\n",
       "  <thead>\n",
       "    <tr style=\"text-align: right;\">\n",
       "      <th></th>\n",
       "      <th>CD_ALUNO_NAO_PAGO</th>\n",
       "      <th>ORDEM</th>\n",
       "    </tr>\n",
       "  </thead>\n",
       "  <tbody>\n",
       "    <tr>\n",
       "      <th>0</th>\n",
       "      <td>10013870</td>\n",
       "      <td>1</td>\n",
       "    </tr>\n",
       "    <tr>\n",
       "      <th>1</th>\n",
       "      <td>10037134</td>\n",
       "      <td>1</td>\n",
       "    </tr>\n",
       "    <tr>\n",
       "      <th>2</th>\n",
       "      <td>10038267</td>\n",
       "      <td>1</td>\n",
       "    </tr>\n",
       "    <tr>\n",
       "      <th>3</th>\n",
       "      <td>10038856</td>\n",
       "      <td>1</td>\n",
       "    </tr>\n",
       "    <tr>\n",
       "      <th>4</th>\n",
       "      <td>10047898</td>\n",
       "      <td>1</td>\n",
       "    </tr>\n",
       "  </tbody>\n",
       "</table>\n",
       "</div>"
      ],
      "text/plain": [
       "   CD_ALUNO_NAO_PAGO  ORDEM\n",
       "0           10013870      1\n",
       "1           10037134      1\n",
       "2           10038267      1\n",
       "3           10038856      1\n",
       "4           10047898      1"
      ]
     },
     "execution_count": 13,
     "metadata": {},
     "output_type": "execute_result"
    }
   ],
   "source": [
    "filter_min.head()"
   ]
  },
  {
   "cell_type": "code",
   "execution_count": 14,
   "metadata": {},
   "outputs": [],
   "source": [
    "df_min = pd.merge(df_sem_null_e_zero, filter_min, on=['CD_ALUNO_NAO_PAGO', 'ORDEM'], how='inner')"
   ]
  },
  {
   "cell_type": "code",
   "execution_count": 15,
   "metadata": {},
   "outputs": [
    {
     "data": {
      "text/html": [
       "<div>\n",
       "<style scoped>\n",
       "    .dataframe tbody tr th:only-of-type {\n",
       "        vertical-align: middle;\n",
       "    }\n",
       "\n",
       "    .dataframe tbody tr th {\n",
       "        vertical-align: top;\n",
       "    }\n",
       "\n",
       "    .dataframe thead th {\n",
       "        text-align: right;\n",
       "    }\n",
       "</style>\n",
       "<table border=\"1\" class=\"dataframe\">\n",
       "  <thead>\n",
       "    <tr style=\"text-align: right;\">\n",
       "      <th></th>\n",
       "      <th>CD_ALUNO_NAO_PAGO</th>\n",
       "      <th>NM_RESPONSAVEL_NAO_PAGO</th>\n",
       "      <th>CD_ALUNO_PAGO</th>\n",
       "      <th>NM_RESPONSAVEL_PAGO</th>\n",
       "      <th>DISTANCIA_EM_METROS</th>\n",
       "      <th>ORDEM</th>\n",
       "      <th>TELEFONE_PICPAY</th>\n",
       "      <th>CD_DDD1</th>\n",
       "      <th>NR_FONE1</th>\n",
       "      <th>CD_DDD2</th>\n",
       "      <th>NR_FONE2</th>\n",
       "      <th>CD_DDD3</th>\n",
       "      <th>NR_FONE3</th>\n",
       "      <th>CD_DDD4</th>\n",
       "      <th>NR_FONE4</th>\n",
       "    </tr>\n",
       "  </thead>\n",
       "  <tbody>\n",
       "    <tr>\n",
       "      <th>0</th>\n",
       "      <td>10013870</td>\n",
       "      <td>JOSE ROZENO DA SILVA</td>\n",
       "      <td>21231735</td>\n",
       "      <td>ANDREA LOURENCO REQUENA</td>\n",
       "      <td>29.781</td>\n",
       "      <td>1</td>\n",
       "      <td>nan</td>\n",
       "      <td>nan</td>\n",
       "      <td>NaN</td>\n",
       "      <td>nan</td>\n",
       "      <td>NaN</td>\n",
       "      <td>19.000</td>\n",
       "      <td>998002531</td>\n",
       "      <td>nan</td>\n",
       "      <td>NaN</td>\n",
       "    </tr>\n",
       "    <tr>\n",
       "      <th>1</th>\n",
       "      <td>10037134</td>\n",
       "      <td>JOSIANE THAINA PARENTE</td>\n",
       "      <td>27471916</td>\n",
       "      <td>ERICA DE FATIMA MELOTTI</td>\n",
       "      <td>63.184</td>\n",
       "      <td>1</td>\n",
       "      <td>nan</td>\n",
       "      <td>nan</td>\n",
       "      <td>NaN</td>\n",
       "      <td>nan</td>\n",
       "      <td>NaN</td>\n",
       "      <td>14.000</td>\n",
       "      <td>981914492</td>\n",
       "      <td>nan</td>\n",
       "      <td>NaN</td>\n",
       "    </tr>\n",
       "    <tr>\n",
       "      <th>2</th>\n",
       "      <td>10038267</td>\n",
       "      <td>JOSEIANE INACIO PEREIRA</td>\n",
       "      <td>29893437</td>\n",
       "      <td>MARIO DA CONCEICAO</td>\n",
       "      <td>70.599</td>\n",
       "      <td>1</td>\n",
       "      <td>nan</td>\n",
       "      <td>nan</td>\n",
       "      <td>NaN</td>\n",
       "      <td>nan</td>\n",
       "      <td>NaN</td>\n",
       "      <td>12.000</td>\n",
       "      <td>991910451</td>\n",
       "      <td>nan</td>\n",
       "      <td>NaN</td>\n",
       "    </tr>\n",
       "    <tr>\n",
       "      <th>3</th>\n",
       "      <td>10038856</td>\n",
       "      <td>JOSIANE CANDIDO BUENO DA SILVA</td>\n",
       "      <td>28561475</td>\n",
       "      <td>TATIANA APOLINARIO SOARES</td>\n",
       "      <td>13.073</td>\n",
       "      <td>1</td>\n",
       "      <td>nan</td>\n",
       "      <td>nan</td>\n",
       "      <td>NaN</td>\n",
       "      <td>nan</td>\n",
       "      <td>NaN</td>\n",
       "      <td>19.000</td>\n",
       "      <td>998876526</td>\n",
       "      <td>nan</td>\n",
       "      <td>NaN</td>\n",
       "    </tr>\n",
       "    <tr>\n",
       "      <th>4</th>\n",
       "      <td>10047898</td>\n",
       "      <td>ELZA MARQUES</td>\n",
       "      <td>31701874</td>\n",
       "      <td>ALEXANDRE MARQUES GERALDO</td>\n",
       "      <td>0.000</td>\n",
       "      <td>1</td>\n",
       "      <td>nan</td>\n",
       "      <td>nan</td>\n",
       "      <td>NaN</td>\n",
       "      <td>nan</td>\n",
       "      <td>NaN</td>\n",
       "      <td>11.000</td>\n",
       "      <td>957647210</td>\n",
       "      <td>nan</td>\n",
       "      <td>NaN</td>\n",
       "    </tr>\n",
       "  </tbody>\n",
       "</table>\n",
       "</div>"
      ],
      "text/plain": [
       "   CD_ALUNO_NAO_PAGO         NM_RESPONSAVEL_NAO_PAGO  CD_ALUNO_PAGO  \\\n",
       "0           10013870            JOSE ROZENO DA SILVA       21231735   \n",
       "1           10037134          JOSIANE THAINA PARENTE       27471916   \n",
       "2           10038267         JOSEIANE INACIO PEREIRA       29893437   \n",
       "3           10038856  JOSIANE CANDIDO BUENO DA SILVA       28561475   \n",
       "4           10047898                    ELZA MARQUES       31701874   \n",
       "\n",
       "         NM_RESPONSAVEL_PAGO  DISTANCIA_EM_METROS  ORDEM  TELEFONE_PICPAY  \\\n",
       "0    ANDREA LOURENCO REQUENA               29.781      1              nan   \n",
       "1    ERICA DE FATIMA MELOTTI               63.184      1              nan   \n",
       "2         MARIO DA CONCEICAO               70.599      1              nan   \n",
       "3  TATIANA APOLINARIO SOARES               13.073      1              nan   \n",
       "4  ALEXANDRE MARQUES GERALDO                0.000      1              nan   \n",
       "\n",
       "   CD_DDD1 NR_FONE1  CD_DDD2 NR_FONE2  CD_DDD3   NR_FONE3  CD_DDD4 NR_FONE4  \n",
       "0      nan      NaN      nan      NaN   19.000  998002531      nan      NaN  \n",
       "1      nan      NaN      nan      NaN   14.000  981914492      nan      NaN  \n",
       "2      nan      NaN      nan      NaN   12.000  991910451      nan      NaN  \n",
       "3      nan      NaN      nan      NaN   19.000  998876526      nan      NaN  \n",
       "4      nan      NaN      nan      NaN   11.000  957647210      nan      NaN  "
      ]
     },
     "execution_count": 15,
     "metadata": {},
     "output_type": "execute_result"
    }
   ],
   "source": [
    "df_min.head()"
   ]
  },
  {
   "cell_type": "code",
   "execution_count": 16,
   "metadata": {},
   "outputs": [
    {
     "data": {
      "text/plain": [
       "(101902, 15)"
      ]
     },
     "execution_count": 16,
     "metadata": {},
     "output_type": "execute_result"
    }
   ],
   "source": [
    "df_min.shape"
   ]
  },
  {
   "cell_type": "code",
   "execution_count": 17,
   "metadata": {},
   "outputs": [
    {
     "data": {
      "text/plain": [
       "count   101902.000\n",
       "mean       114.457\n",
       "std        453.977\n",
       "min          0.000\n",
       "25%          8.429\n",
       "50%         29.441\n",
       "75%         70.154\n",
       "max      12562.530\n",
       "Name: DISTANCIA_EM_METROS, dtype: float64"
      ]
     },
     "execution_count": 17,
     "metadata": {},
     "output_type": "execute_result"
    }
   ],
   "source": [
    "df_min['DISTANCIA_EM_METROS'].describe()"
   ]
  },
  {
   "cell_type": "code",
   "execution_count": 18,
   "metadata": {},
   "outputs": [
    {
     "data": {
      "text/plain": [
       "101902"
      ]
     },
     "execution_count": 18,
     "metadata": {},
     "output_type": "execute_result"
    }
   ],
   "source": [
    "len(df_min['CD_ALUNO_NAO_PAGO'].value_counts())"
   ]
  },
  {
   "cell_type": "markdown",
   "metadata": {},
   "source": [
    "# Plot the distribution"
   ]
  },
  {
   "cell_type": "code",
   "execution_count": 19,
   "metadata": {},
   "outputs": [],
   "source": [
    "x = df_min['DISTANCIA_EM_METROS']"
   ]
  },
  {
   "cell_type": "code",
   "execution_count": 20,
   "metadata": {},
   "outputs": [
    {
     "data": {
      "image/png": "[encoded data removed]",
      "text/plain": [
       "<Figure size 1440x720 with 1 Axes>"
      ]
     },
     "metadata": {
      "needs_background": "light"
     },
     "output_type": "display_data"
    }
   ],
   "source": [
    "plt.figure(figsize=(20,10))\n",
    "plt.title('Distribuição - Todos os registros', fontsize=30)\n",
    "plt.xticks(np.arange(min(x), max(x)+1, 500))\n",
    "sns.distplot(x, bins=100, kde=False, rug=True,\n",
    "            rug_kws={\"color\": \"r\", \"alpha\":0.01, \"linewidth\": 2, \"height\":0.1 }\n",
    "            )\n",
    "plt.ylabel('Frequência', fontsize=20)\n",
    "plt.xlabel('Distância em metros', fontsize=20)\n",
    "plt.show()"
   ]
  },
  {
   "cell_type": "code",
   "execution_count": 21,
   "metadata": {},
   "outputs": [],
   "source": [
    "x = df_min['DISTANCIA_EM_METROS'][df_min['DISTANCIA_EM_METROS'] <= 2000]"
   ]
  },
  {
   "cell_type": "code",
   "execution_count": 22,
   "metadata": {},
   "outputs": [
    {
     "data": {
      "image/png": "[encoded data removed]",
      "text/plain": [
       "<Figure size 1440x720 with 1 Axes>"
      ]
     },
     "metadata": {
      "needs_background": "light"
     },
     "output_type": "display_data"
    }
   ],
   "source": [
    "plt.figure(figsize=(20,10))\n",
    "plt.title('Distribuição - Apenas com distância <= 2km', fontsize=30)\n",
    "plt.xticks(np.arange(min(x), max(x)+1, 100))\n",
    "sns.distplot(x, bins=100, kde=False, rug=True,\n",
    "                        rug_kws={\"color\": \"r\", \"alpha\":0.01, \"linewidth\": 2, \"height\":0.1 })\n",
    "plt.ylabel('Frequência', fontsize=20)\n",
    "plt.xlabel('Distância em metros', fontsize=20)\n",
    "plt.show()"
   ]
  },
  {
   "cell_type": "code",
   "execution_count": 23,
   "metadata": {},
   "outputs": [],
   "source": [
    "x = df_min['DISTANCIA_EM_METROS'][df_min['DISTANCIA_EM_METROS'] <= 1000]"
   ]
  },
  {
   "cell_type": "code",
   "execution_count": 24,
   "metadata": {},
   "outputs": [
    {
     "data": {
      "image/png": "[encoded data removed]",
      "text/plain": [
       "<Figure size 1440x720 with 1 Axes>"
      ]
     },
     "metadata": {
      "needs_background": "light"
     },
     "output_type": "display_data"
    }
   ],
   "source": [
    "plt.figure(figsize=(20,10))\n",
    "plt.title('Distribuição - Apenas com distância <= 1km', fontsize=30)\n",
    "plt.xticks(np.arange(min(x), max(x)+1, 50))\n",
    "plt.ylabel('Frequência')\n",
    "sns.distplot(x, bins=100, kde=False, rug=True,\n",
    "                        rug_kws={\"color\": \"r\", \"alpha\":0.01, \"linewidth\": 2, \"height\":0.1 })\n",
    "plt.ylabel('Frequência', fontsize=20)\n",
    "plt.xlabel('Distância em metros', fontsize=20)\n",
    "plt.show()"
   ]
  },
  {
   "cell_type": "markdown",
   "metadata": {},
   "source": [
    "# Generate final file with distance <= 50 meters"
   ]
  },
  {
   "cell_type": "code",
   "execution_count": 25,
   "metadata": {},
   "outputs": [
    {
     "data": {
      "text/html": [
       "<div>\n",
       "<style scoped>\n",
       "    .dataframe tbody tr th:only-of-type {\n",
       "        vertical-align: middle;\n",
       "    }\n",
       "\n",
       "    .dataframe tbody tr th {\n",
       "        vertical-align: top;\n",
       "    }\n",
       "\n",
       "    .dataframe thead th {\n",
       "        text-align: right;\n",
       "    }\n",
       "</style>\n",
       "<table border=\"1\" class=\"dataframe\">\n",
       "  <thead>\n",
       "    <tr style=\"text-align: right;\">\n",
       "      <th></th>\n",
       "      <th>CD_ALUNO_NAO_PAGO</th>\n",
       "      <th>NM_RESPONSAVEL_NAO_PAGO</th>\n",
       "      <th>CD_ALUNO_PAGO</th>\n",
       "      <th>NM_RESPONSAVEL_PAGO</th>\n",
       "      <th>DISTANCIA_EM_METROS</th>\n",
       "      <th>ORDEM</th>\n",
       "      <th>TELEFONE_PICPAY</th>\n",
       "      <th>CD_DDD1</th>\n",
       "      <th>NR_FONE1</th>\n",
       "      <th>CD_DDD2</th>\n",
       "      <th>NR_FONE2</th>\n",
       "      <th>CD_DDD3</th>\n",
       "      <th>NR_FONE3</th>\n",
       "      <th>CD_DDD4</th>\n",
       "      <th>NR_FONE4</th>\n",
       "    </tr>\n",
       "  </thead>\n",
       "  <tbody>\n",
       "    <tr>\n",
       "      <th>0</th>\n",
       "      <td>10013870</td>\n",
       "      <td>JOSE ROZENO DA SILVA</td>\n",
       "      <td>21231735</td>\n",
       "      <td>ANDREA LOURENCO REQUENA</td>\n",
       "      <td>29.781</td>\n",
       "      <td>1</td>\n",
       "      <td>nan</td>\n",
       "      <td>nan</td>\n",
       "      <td>NaN</td>\n",
       "      <td>nan</td>\n",
       "      <td>NaN</td>\n",
       "      <td>19.000</td>\n",
       "      <td>998002531</td>\n",
       "      <td>nan</td>\n",
       "      <td>NaN</td>\n",
       "    </tr>\n",
       "    <tr>\n",
       "      <th>1</th>\n",
       "      <td>10037134</td>\n",
       "      <td>JOSIANE THAINA PARENTE</td>\n",
       "      <td>27471916</td>\n",
       "      <td>ERICA DE FATIMA MELOTTI</td>\n",
       "      <td>63.184</td>\n",
       "      <td>1</td>\n",
       "      <td>nan</td>\n",
       "      <td>nan</td>\n",
       "      <td>NaN</td>\n",
       "      <td>nan</td>\n",
       "      <td>NaN</td>\n",
       "      <td>14.000</td>\n",
       "      <td>981914492</td>\n",
       "      <td>nan</td>\n",
       "      <td>NaN</td>\n",
       "    </tr>\n",
       "    <tr>\n",
       "      <th>2</th>\n",
       "      <td>10038267</td>\n",
       "      <td>JOSEIANE INACIO PEREIRA</td>\n",
       "      <td>29893437</td>\n",
       "      <td>MARIO DA CONCEICAO</td>\n",
       "      <td>70.599</td>\n",
       "      <td>1</td>\n",
       "      <td>nan</td>\n",
       "      <td>nan</td>\n",
       "      <td>NaN</td>\n",
       "      <td>nan</td>\n",
       "      <td>NaN</td>\n",
       "      <td>12.000</td>\n",
       "      <td>991910451</td>\n",
       "      <td>nan</td>\n",
       "      <td>NaN</td>\n",
       "    </tr>\n",
       "    <tr>\n",
       "      <th>3</th>\n",
       "      <td>10038856</td>\n",
       "      <td>JOSIANE CANDIDO BUENO DA SILVA</td>\n",
       "      <td>28561475</td>\n",
       "      <td>TATIANA APOLINARIO SOARES</td>\n",
       "      <td>13.073</td>\n",
       "      <td>1</td>\n",
       "      <td>nan</td>\n",
       "      <td>nan</td>\n",
       "      <td>NaN</td>\n",
       "      <td>nan</td>\n",
       "      <td>NaN</td>\n",
       "      <td>19.000</td>\n",
       "      <td>998876526</td>\n",
       "      <td>nan</td>\n",
       "      <td>NaN</td>\n",
       "    </tr>\n",
       "    <tr>\n",
       "      <th>4</th>\n",
       "      <td>10047898</td>\n",
       "      <td>ELZA MARQUES</td>\n",
       "      <td>31701874</td>\n",
       "      <td>ALEXANDRE MARQUES GERALDO</td>\n",
       "      <td>0.000</td>\n",
       "      <td>1</td>\n",
       "      <td>nan</td>\n",
       "      <td>nan</td>\n",
       "      <td>NaN</td>\n",
       "      <td>nan</td>\n",
       "      <td>NaN</td>\n",
       "      <td>11.000</td>\n",
       "      <td>957647210</td>\n",
       "      <td>nan</td>\n",
       "      <td>NaN</td>\n",
       "    </tr>\n",
       "  </tbody>\n",
       "</table>\n",
       "</div>"
      ],
      "text/plain": [
       "   CD_ALUNO_NAO_PAGO         NM_RESPONSAVEL_NAO_PAGO  CD_ALUNO_PAGO  \\\n",
       "0           10013870            JOSE ROZENO DA SILVA       21231735   \n",
       "1           10037134          JOSIANE THAINA PARENTE       27471916   \n",
       "2           10038267         JOSEIANE INACIO PEREIRA       29893437   \n",
       "3           10038856  JOSIANE CANDIDO BUENO DA SILVA       28561475   \n",
       "4           10047898                    ELZA MARQUES       31701874   \n",
       "\n",
       "         NM_RESPONSAVEL_PAGO  DISTANCIA_EM_METROS  ORDEM  TELEFONE_PICPAY  \\\n",
       "0    ANDREA LOURENCO REQUENA               29.781      1              nan   \n",
       "1    ERICA DE FATIMA MELOTTI               63.184      1              nan   \n",
       "2         MARIO DA CONCEICAO               70.599      1              nan   \n",
       "3  TATIANA APOLINARIO SOARES               13.073      1              nan   \n",
       "4  ALEXANDRE MARQUES GERALDO                0.000      1              nan   \n",
       "\n",
       "   CD_DDD1 NR_FONE1  CD_DDD2 NR_FONE2  CD_DDD3   NR_FONE3  CD_DDD4 NR_FONE4  \n",
       "0      nan      NaN      nan      NaN   19.000  998002531      nan      NaN  \n",
       "1      nan      NaN      nan      NaN   14.000  981914492      nan      NaN  \n",
       "2      nan      NaN      nan      NaN   12.000  991910451      nan      NaN  \n",
       "3      nan      NaN      nan      NaN   19.000  998876526      nan      NaN  \n",
       "4      nan      NaN      nan      NaN   11.000  957647210      nan      NaN  "
      ]
     },
     "execution_count": 25,
     "metadata": {},
     "output_type": "execute_result"
    }
   ],
   "source": [
    "df_min.head()"
   ]
  },
  {
   "cell_type": "code",
   "execution_count": 26,
   "metadata": {},
   "outputs": [],
   "source": [
    "df_min = df_min.drop(columns=['TELEFONE_PICPAY', 'CD_DDD1','NR_FONE1','CD_DDD2','NR_FONE2','CD_DDD4','NR_FONE4'])"
   ]
  },
  {
   "cell_type": "code",
   "execution_count": 31,
   "metadata": {},
   "outputs": [],
   "source": [
    "df_min = df_min[df_min.DISTANCIA_EM_METROS <= 50]"
   ]
  },
  {
   "cell_type": "code",
   "execution_count": 32,
   "metadata": {},
   "outputs": [
    {
     "data": {
      "text/html": [
       "<div>\n",
       "<style scoped>\n",
       "    .dataframe tbody tr th:only-of-type {\n",
       "        vertical-align: middle;\n",
       "    }\n",
       "\n",
       "    .dataframe tbody tr th {\n",
       "        vertical-align: top;\n",
       "    }\n",
       "\n",
       "    .dataframe thead th {\n",
       "        text-align: right;\n",
       "    }\n",
       "</style>\n",
       "<table border=\"1\" class=\"dataframe\">\n",
       "  <thead>\n",
       "    <tr style=\"text-align: right;\">\n",
       "      <th></th>\n",
       "      <th>CD_ALUNO_NAO_PAGO</th>\n",
       "      <th>NM_RESPONSAVEL_NAO_PAGO</th>\n",
       "      <th>CD_ALUNO_PAGO</th>\n",
       "      <th>NM_RESPONSAVEL_PAGO</th>\n",
       "      <th>DISTANCIA_EM_METROS</th>\n",
       "      <th>ORDEM</th>\n",
       "      <th>CD_DDD3</th>\n",
       "      <th>NR_FONE3</th>\n",
       "    </tr>\n",
       "  </thead>\n",
       "  <tbody>\n",
       "    <tr>\n",
       "      <th>0</th>\n",
       "      <td>10013870</td>\n",
       "      <td>JOSE ROZENO DA SILVA</td>\n",
       "      <td>21231735</td>\n",
       "      <td>ANDREA LOURENCO REQUENA</td>\n",
       "      <td>29.781</td>\n",
       "      <td>1</td>\n",
       "      <td>19.000</td>\n",
       "      <td>998002531</td>\n",
       "    </tr>\n",
       "    <tr>\n",
       "      <th>3</th>\n",
       "      <td>10038856</td>\n",
       "      <td>JOSIANE CANDIDO BUENO DA SILVA</td>\n",
       "      <td>28561475</td>\n",
       "      <td>TATIANA APOLINARIO SOARES</td>\n",
       "      <td>13.073</td>\n",
       "      <td>1</td>\n",
       "      <td>19.000</td>\n",
       "      <td>998876526</td>\n",
       "    </tr>\n",
       "    <tr>\n",
       "      <th>4</th>\n",
       "      <td>10047898</td>\n",
       "      <td>ELZA MARQUES</td>\n",
       "      <td>31701874</td>\n",
       "      <td>ALEXANDRE MARQUES GERALDO</td>\n",
       "      <td>0.000</td>\n",
       "      <td>1</td>\n",
       "      <td>11.000</td>\n",
       "      <td>957647210</td>\n",
       "    </tr>\n",
       "    <tr>\n",
       "      <th>5</th>\n",
       "      <td>10050255</td>\n",
       "      <td>JOSIANE DO NASCIMENTO RODRIGUES DA SILVA</td>\n",
       "      <td>23764205</td>\n",
       "      <td>TATIANA FATIMA DOS SANTOS</td>\n",
       "      <td>29.647</td>\n",
       "      <td>1</td>\n",
       "      <td>12.000</td>\n",
       "      <td>991989039</td>\n",
       "    </tr>\n",
       "    <tr>\n",
       "      <th>8</th>\n",
       "      <td>10056104</td>\n",
       "      <td>JOSIANE DE MORAIS SANTOS</td>\n",
       "      <td>29136185</td>\n",
       "      <td>PATRICIA APARECIDA DE LIMA DOS SANTOS</td>\n",
       "      <td>37.674</td>\n",
       "      <td>1</td>\n",
       "      <td>16.000</td>\n",
       "      <td>993964866</td>\n",
       "    </tr>\n",
       "  </tbody>\n",
       "</table>\n",
       "</div>"
      ],
      "text/plain": [
       "   CD_ALUNO_NAO_PAGO                   NM_RESPONSAVEL_NAO_PAGO  CD_ALUNO_PAGO  \\\n",
       "0           10013870                      JOSE ROZENO DA SILVA       21231735   \n",
       "3           10038856            JOSIANE CANDIDO BUENO DA SILVA       28561475   \n",
       "4           10047898                              ELZA MARQUES       31701874   \n",
       "5           10050255  JOSIANE DO NASCIMENTO RODRIGUES DA SILVA       23764205   \n",
       "8           10056104                  JOSIANE DE MORAIS SANTOS       29136185   \n",
       "\n",
       "                     NM_RESPONSAVEL_PAGO  DISTANCIA_EM_METROS  ORDEM  CD_DDD3  \\\n",
       "0                ANDREA LOURENCO REQUENA               29.781      1   19.000   \n",
       "3              TATIANA APOLINARIO SOARES               13.073      1   19.000   \n",
       "4              ALEXANDRE MARQUES GERALDO                0.000      1   11.000   \n",
       "5              TATIANA FATIMA DOS SANTOS               29.647      1   12.000   \n",
       "8  PATRICIA APARECIDA DE LIMA DOS SANTOS               37.674      1   16.000   \n",
       "\n",
       "    NR_FONE3  \n",
       "0  998002531  \n",
       "3  998876526  \n",
       "4  957647210  \n",
       "5  991989039  \n",
       "8  993964866  "
      ]
     },
     "execution_count": 32,
     "metadata": {},
     "output_type": "execute_result"
    }
   ],
   "source": [
    "df_min.head()"
   ]
  },
  {
   "cell_type": "code",
   "execution_count": 33,
   "metadata": {},
   "outputs": [
    {
     "data": {
      "text/plain": [
       "(66231, 8)"
      ]
     },
     "execution_count": 33,
     "metadata": {},
     "output_type": "execute_result"
    }
   ],
   "source": [
    "df_min.shape"
   ]
  },
  {
   "cell_type": "code",
   "execution_count": 34,
   "metadata": {},
   "outputs": [],
   "source": [
    "df_min.to_excel('sms_nao_pagos_proximidade.xlsx')"
   ]
  },
  {
   "cell_type": "code",
   "execution_count": null,
   "metadata": {},
   "outputs": [],
   "source": []
  }
 ],
 "metadata": {
  "kernelspec": {
   "display_name": "Python 3",
   "language": "python",
   "name": "python3"
  },
  "language_info": {
   "codemirror_mode": {
    "name": "ipython",
    "version": 3
   },
   "file_extension": ".py",
   "mimetype": "text/x-python",
   "name": "python",
   "nbconvert_exporter": "python",
   "pygments_lexer": "ipython3",
   "version": "3.7.3"
  }
 },
 "nbformat": 4,
 "nbformat_minor": 4
}
