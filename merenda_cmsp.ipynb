{
 "cells": [
  {
   "cell_type": "code",
   "execution_count": 4,
   "metadata": {},
   "outputs": [],
   "source": [
    "import pandas as pd\n",
    "import numpy as np"
   ]
  },
  {
   "cell_type": "code",
   "execution_count": 9,
   "metadata": {},
   "outputs": [],
   "source": [
    "columns = np.arange(1,14)\n",
    "df = pd.read_csv('data/003.csv', names=columns)"
   ]
  },
  {
   "cell_type": "code",
   "execution_count": 10,
   "metadata": {},
   "outputs": [
    {
     "data": {
      "text/html": [
       "<div>\n",
       "<style scoped>\n",
       "    .dataframe tbody tr th:only-of-type {\n",
       "        vertical-align: middle;\n",
       "    }\n",
       "\n",
       "    .dataframe tbody tr th {\n",
       "        vertical-align: top;\n",
       "    }\n",
       "\n",
       "    .dataframe thead th {\n",
       "        text-align: right;\n",
       "    }\n",
       "</style>\n",
       "<table border=\"1\" class=\"dataframe\">\n",
       "  <thead>\n",
       "    <tr style=\"text-align: right;\">\n",
       "      <th></th>\n",
       "      <th>1</th>\n",
       "      <th>2</th>\n",
       "      <th>3</th>\n",
       "      <th>4</th>\n",
       "      <th>5</th>\n",
       "      <th>6</th>\n",
       "      <th>7</th>\n",
       "      <th>8</th>\n",
       "      <th>9</th>\n",
       "      <th>10</th>\n",
       "      <th>11</th>\n",
       "      <th>12</th>\n",
       "      <th>13</th>\n",
       "    </tr>\n",
       "  </thead>\n",
       "  <tbody>\n",
       "    <tr>\n",
       "      <th>0</th>\n",
       "      <td>1</td>\n",
       "      <td>802</td>\n",
       "      <td>ALBANIR DE LIMA ARRAIS</td>\n",
       "      <td>5.328239e+09</td>\n",
       "      <td>1</td>\n",
       "      <td>2020-04-28 00:00:00.0000000</td>\n",
       "      <td>1</td>\n",
       "      <td>2020-04-28 00:00:00.0000000</td>\n",
       "      <td>APROVADO_AUTOMATICAMENTE</td>\n",
       "      <td>NaN</td>\n",
       "      <td>1</td>\n",
       "      <td>0</td>\n",
       "      <td>0</td>\n",
       "    </tr>\n",
       "    <tr>\n",
       "      <th>1</th>\n",
       "      <td>2</td>\n",
       "      <td>940</td>\n",
       "      <td>ALBANEIDE DA CONCEICAO</td>\n",
       "      <td>3.157418e+10</td>\n",
       "      <td>1</td>\n",
       "      <td>2020-06-28 17:56:22.0000000</td>\n",
       "      <td>1</td>\n",
       "      <td>2020-04-15 00:00:00.0000000</td>\n",
       "      <td>APROVACAO_EXTERNA</td>\n",
       "      <td>1.196297e+10</td>\n",
       "      <td>1</td>\n",
       "      <td>1</td>\n",
       "      <td>1</td>\n",
       "    </tr>\n",
       "    <tr>\n",
       "      <th>2</th>\n",
       "      <td>3</td>\n",
       "      <td>1481</td>\n",
       "      <td>APARECIDA PAULA DE OLIVEIRA ATANAZIO</td>\n",
       "      <td>3.005935e+10</td>\n",
       "      <td>1</td>\n",
       "      <td>2020-04-13 00:00:00.0000000</td>\n",
       "      <td>1</td>\n",
       "      <td>2020-04-14 00:00:00.0000000</td>\n",
       "      <td>APROVADO</td>\n",
       "      <td>NaN</td>\n",
       "      <td>1</td>\n",
       "      <td>0</td>\n",
       "      <td>0</td>\n",
       "    </tr>\n",
       "    <tr>\n",
       "      <th>3</th>\n",
       "      <td>4</td>\n",
       "      <td>2178</td>\n",
       "      <td>APARECIDA JESUS DE ALMEIDA DOS SANTOS</td>\n",
       "      <td>2.131734e+10</td>\n",
       "      <td>1</td>\n",
       "      <td>2020-04-13 00:00:00.0000000</td>\n",
       "      <td>1</td>\n",
       "      <td>2020-04-14 00:00:00.0000000</td>\n",
       "      <td>APROVADO</td>\n",
       "      <td>NaN</td>\n",
       "      <td>1</td>\n",
       "      <td>0</td>\n",
       "      <td>0</td>\n",
       "    </tr>\n",
       "    <tr>\n",
       "      <th>4</th>\n",
       "      <td>5</td>\n",
       "      <td>4926</td>\n",
       "      <td>APARECIDA BEZERRA</td>\n",
       "      <td>3.777457e+10</td>\n",
       "      <td>1</td>\n",
       "      <td>2020-04-13 00:00:00.0000000</td>\n",
       "      <td>1</td>\n",
       "      <td>2020-04-14 00:00:00.0000000</td>\n",
       "      <td>APROVADO</td>\n",
       "      <td>NaN</td>\n",
       "      <td>1</td>\n",
       "      <td>0</td>\n",
       "      <td>0</td>\n",
       "    </tr>\n",
       "  </tbody>\n",
       "</table>\n",
       "</div>"
      ],
      "text/plain": [
       "   1     2                                      3             4   5   \\\n",
       "0   1   802                 ALBANIR DE LIMA ARRAIS  5.328239e+09   1   \n",
       "1   2   940                 ALBANEIDE DA CONCEICAO  3.157418e+10   1   \n",
       "2   3  1481   APARECIDA PAULA DE OLIVEIRA ATANAZIO  3.005935e+10   1   \n",
       "3   4  2178  APARECIDA JESUS DE ALMEIDA DOS SANTOS  2.131734e+10   1   \n",
       "4   5  4926                      APARECIDA BEZERRA  3.777457e+10   1   \n",
       "\n",
       "                            6   7                            8   \\\n",
       "0  2020-04-28 00:00:00.0000000   1  2020-04-28 00:00:00.0000000   \n",
       "1  2020-06-28 17:56:22.0000000   1  2020-04-15 00:00:00.0000000   \n",
       "2  2020-04-13 00:00:00.0000000   1  2020-04-14 00:00:00.0000000   \n",
       "3  2020-04-13 00:00:00.0000000   1  2020-04-14 00:00:00.0000000   \n",
       "4  2020-04-13 00:00:00.0000000   1  2020-04-14 00:00:00.0000000   \n",
       "\n",
       "                         9             10  11  12  13  \n",
       "0  APROVADO_AUTOMATICAMENTE           NaN   1   0   0  \n",
       "1         APROVACAO_EXTERNA  1.196297e+10   1   1   1  \n",
       "2                  APROVADO           NaN   1   0   0  \n",
       "3                  APROVADO           NaN   1   0   0  \n",
       "4                  APROVADO           NaN   1   0   0  "
      ]
     },
     "execution_count": 10,
     "metadata": {},
     "output_type": "execute_result"
    }
   ],
   "source": [
    "df.head()"
   ]
  },
  {
   "cell_type": "code",
   "execution_count": 11,
   "metadata": {},
   "outputs": [
    {
     "data": {
      "text/plain": [
       "1     769373\n",
       "2     769373\n",
       "3     767471\n",
       "4     766874\n",
       "5     769373\n",
       "6     685691\n",
       "7     769373\n",
       "8     696618\n",
       "9     697551\n",
       "10     59045\n",
       "11    769373\n",
       "12    769373\n",
       "13    769373\n",
       "dtype: int64"
      ]
     },
     "execution_count": 11,
     "metadata": {},
     "output_type": "execute_result"
    }
   ],
   "source": [
    "df.count()"
   ]
  },
  {
   "cell_type": "code",
   "execution_count": 14,
   "metadata": {},
   "outputs": [
    {
     "data": {
      "text/plain": [
       "Int64Index([1, 2, 3, 4, 5, 6, 7, 8, 9, 10, 11, 12, 13], dtype='int64')"
      ]
     },
     "execution_count": 14,
     "metadata": {},
     "output_type": "execute_result"
    }
   ],
   "source": [
    "df.columns"
   ]
  },
  {
   "cell_type": "code",
   "execution_count": 19,
   "metadata": {},
   "outputs": [
    {
     "name": "stdout",
     "output_type": "stream",
     "text": [
      "CMSP:  337495\n"
     ]
    }
   ],
   "source": [
    "print('CMSP: ',df[12].sum())"
   ]
  },
  {
   "cell_type": "code",
   "execution_count": 20,
   "metadata": {},
   "outputs": [
    {
     "name": "stdout",
     "output_type": "stream",
     "text": [
      "FECHAMENTO:  330746\n"
     ]
    }
   ],
   "source": [
    "print('FECHAMENTO: ',df[13].sum())"
   ]
  },
  {
   "cell_type": "code",
   "execution_count": 54,
   "metadata": {},
   "outputs": [],
   "source": [
    "df_new = df.rename(columns={df.columns[11]: 'CMSP',df.columns[12]: 'FECH'})"
   ]
  },
  {
   "cell_type": "code",
   "execution_count": 55,
   "metadata": {},
   "outputs": [
    {
     "data": {
      "text/html": [
       "<div>\n",
       "<style scoped>\n",
       "    .dataframe tbody tr th:only-of-type {\n",
       "        vertical-align: middle;\n",
       "    }\n",
       "\n",
       "    .dataframe tbody tr th {\n",
       "        vertical-align: top;\n",
       "    }\n",
       "\n",
       "    .dataframe thead th {\n",
       "        text-align: right;\n",
       "    }\n",
       "</style>\n",
       "<table border=\"1\" class=\"dataframe\">\n",
       "  <thead>\n",
       "    <tr style=\"text-align: right;\">\n",
       "      <th></th>\n",
       "      <th>1</th>\n",
       "      <th>2</th>\n",
       "      <th>3</th>\n",
       "      <th>4</th>\n",
       "      <th>5</th>\n",
       "      <th>6</th>\n",
       "      <th>7</th>\n",
       "      <th>8</th>\n",
       "      <th>9</th>\n",
       "      <th>10</th>\n",
       "      <th>11</th>\n",
       "      <th>CMSP</th>\n",
       "      <th>FECH</th>\n",
       "    </tr>\n",
       "  </thead>\n",
       "  <tbody>\n",
       "    <tr>\n",
       "      <th>0</th>\n",
       "      <td>1</td>\n",
       "      <td>802</td>\n",
       "      <td>ALBANIR DE LIMA ARRAIS</td>\n",
       "      <td>5.328239e+09</td>\n",
       "      <td>1</td>\n",
       "      <td>2020-04-28 00:00:00.0000000</td>\n",
       "      <td>1</td>\n",
       "      <td>2020-04-28 00:00:00.0000000</td>\n",
       "      <td>APROVADO_AUTOMATICAMENTE</td>\n",
       "      <td>NaN</td>\n",
       "      <td>1</td>\n",
       "      <td>0</td>\n",
       "      <td>0</td>\n",
       "    </tr>\n",
       "    <tr>\n",
       "      <th>1</th>\n",
       "      <td>2</td>\n",
       "      <td>940</td>\n",
       "      <td>ALBANEIDE DA CONCEICAO</td>\n",
       "      <td>3.157418e+10</td>\n",
       "      <td>1</td>\n",
       "      <td>2020-06-28 17:56:22.0000000</td>\n",
       "      <td>1</td>\n",
       "      <td>2020-04-15 00:00:00.0000000</td>\n",
       "      <td>APROVACAO_EXTERNA</td>\n",
       "      <td>1.196297e+10</td>\n",
       "      <td>1</td>\n",
       "      <td>1</td>\n",
       "      <td>1</td>\n",
       "    </tr>\n",
       "    <tr>\n",
       "      <th>2</th>\n",
       "      <td>3</td>\n",
       "      <td>1481</td>\n",
       "      <td>APARECIDA PAULA DE OLIVEIRA ATANAZIO</td>\n",
       "      <td>3.005935e+10</td>\n",
       "      <td>1</td>\n",
       "      <td>2020-04-13 00:00:00.0000000</td>\n",
       "      <td>1</td>\n",
       "      <td>2020-04-14 00:00:00.0000000</td>\n",
       "      <td>APROVADO</td>\n",
       "      <td>NaN</td>\n",
       "      <td>1</td>\n",
       "      <td>0</td>\n",
       "      <td>0</td>\n",
       "    </tr>\n",
       "    <tr>\n",
       "      <th>3</th>\n",
       "      <td>4</td>\n",
       "      <td>2178</td>\n",
       "      <td>APARECIDA JESUS DE ALMEIDA DOS SANTOS</td>\n",
       "      <td>2.131734e+10</td>\n",
       "      <td>1</td>\n",
       "      <td>2020-04-13 00:00:00.0000000</td>\n",
       "      <td>1</td>\n",
       "      <td>2020-04-14 00:00:00.0000000</td>\n",
       "      <td>APROVADO</td>\n",
       "      <td>NaN</td>\n",
       "      <td>1</td>\n",
       "      <td>0</td>\n",
       "      <td>0</td>\n",
       "    </tr>\n",
       "    <tr>\n",
       "      <th>4</th>\n",
       "      <td>5</td>\n",
       "      <td>4926</td>\n",
       "      <td>APARECIDA BEZERRA</td>\n",
       "      <td>3.777457e+10</td>\n",
       "      <td>1</td>\n",
       "      <td>2020-04-13 00:00:00.0000000</td>\n",
       "      <td>1</td>\n",
       "      <td>2020-04-14 00:00:00.0000000</td>\n",
       "      <td>APROVADO</td>\n",
       "      <td>NaN</td>\n",
       "      <td>1</td>\n",
       "      <td>0</td>\n",
       "      <td>0</td>\n",
       "    </tr>\n",
       "  </tbody>\n",
       "</table>\n",
       "</div>"
      ],
      "text/plain": [
       "   1     2                                      3             4  5  \\\n",
       "0  1   802                 ALBANIR DE LIMA ARRAIS  5.328239e+09  1   \n",
       "1  2   940                 ALBANEIDE DA CONCEICAO  3.157418e+10  1   \n",
       "2  3  1481   APARECIDA PAULA DE OLIVEIRA ATANAZIO  3.005935e+10  1   \n",
       "3  4  2178  APARECIDA JESUS DE ALMEIDA DOS SANTOS  2.131734e+10  1   \n",
       "4  5  4926                      APARECIDA BEZERRA  3.777457e+10  1   \n",
       "\n",
       "                             6  7                            8  \\\n",
       "0  2020-04-28 00:00:00.0000000  1  2020-04-28 00:00:00.0000000   \n",
       "1  2020-06-28 17:56:22.0000000  1  2020-04-15 00:00:00.0000000   \n",
       "2  2020-04-13 00:00:00.0000000  1  2020-04-14 00:00:00.0000000   \n",
       "3  2020-04-13 00:00:00.0000000  1  2020-04-14 00:00:00.0000000   \n",
       "4  2020-04-13 00:00:00.0000000  1  2020-04-14 00:00:00.0000000   \n",
       "\n",
       "                          9            10  11  CMSP  FECH  \n",
       "0  APROVADO_AUTOMATICAMENTE           NaN   1     0     0  \n",
       "1         APROVACAO_EXTERNA  1.196297e+10   1     1     1  \n",
       "2                  APROVADO           NaN   1     0     0  \n",
       "3                  APROVADO           NaN   1     0     0  \n",
       "4                  APROVADO           NaN   1     0     0  "
      ]
     },
     "execution_count": 55,
     "metadata": {},
     "output_type": "execute_result"
    }
   ],
   "source": [
    "df_new.head()"
   ]
  },
  {
   "cell_type": "code",
   "execution_count": 57,
   "metadata": {},
   "outputs": [
    {
     "data": {
      "text/plain": [
       "1       330746\n",
       "2       330746\n",
       "3       329973\n",
       "4       329725\n",
       "5       330746\n",
       "6       306578\n",
       "7       330746\n",
       "8       306792\n",
       "9       309772\n",
       "10       19131\n",
       "11      330746\n",
       "CMSP    330746\n",
       "FECH    330746\n",
       "dtype: int64"
      ]
     },
     "execution_count": 57,
     "metadata": {},
     "output_type": "execute_result"
    }
   ],
   "source": [
    "df_new.query('CMSP == 1 & FECH == 1').count()"
   ]
  }
 ],
 "metadata": {
  "kernelspec": {
   "display_name": "Python 3",
   "language": "python",
   "name": "python3"
  },
  "language_info": {
   "codemirror_mode": {
    "name": "ipython",
    "version": 3
   },
   "file_extension": ".py",
   "mimetype": "text/x-python",
   "name": "python",
   "nbconvert_exporter": "python",
   "pygments_lexer": "ipython3",
   "version": "3.7.3"
  }
 },
 "nbformat": 4,
 "nbformat_minor": 4
}
