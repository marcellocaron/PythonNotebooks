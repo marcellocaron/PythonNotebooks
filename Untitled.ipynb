{
 "cells": [
  {
   "cell_type": "code",
   "execution_count": 2,
   "metadata": {},
   "outputs": [
    {
     "name": "stderr",
     "output_type": "stream",
     "text": [
      "/Users/marcello/anaconda3/lib/python3.7/site-packages/statsmodels/tools/_testing.py:19: FutureWarning: pandas.util.testing is deprecated. Use the functions in the public API at pandas.testing instead.\n",
      "  import pandas.util.testing as tm\n"
     ]
    }
   ],
   "source": [
    "import pandas as pd\n",
    "import seaborn as sns\n",
    "import numpy as np\n",
    "import matplotlib.pyplot as plt"
   ]
  },
  {
   "cell_type": "code",
   "execution_count": 3,
   "metadata": {},
   "outputs": [],
   "source": [
    "path = 'data/relatorio_alunos_app.csv'"
   ]
  },
  {
   "cell_type": "code",
   "execution_count": 4,
   "metadata": {},
   "outputs": [],
   "source": [
    "df = pd.read_csv(path, sep=';', encoding= 'unicode_escape')"
   ]
  },
  {
   "cell_type": "code",
   "execution_count": 5,
   "metadata": {},
   "outputs": [
    {
     "data": {
      "text/html": [
       "<div>\n",
       "<style scoped>\n",
       "    .dataframe tbody tr th:only-of-type {\n",
       "        vertical-align: middle;\n",
       "    }\n",
       "\n",
       "    .dataframe tbody tr th {\n",
       "        vertical-align: top;\n",
       "    }\n",
       "\n",
       "    .dataframe thead th {\n",
       "        text-align: right;\n",
       "    }\n",
       "</style>\n",
       "<table border=\"1\" class=\"dataframe\">\n",
       "  <thead>\n",
       "    <tr style=\"text-align: right;\">\n",
       "      <th></th>\n",
       "      <th>NM_DIRETORIA</th>\n",
       "      <th>NM_MUNICIPIO</th>\n",
       "      <th>REGIAO</th>\n",
       "      <th>CD_ESCOLA</th>\n",
       "      <th>NM_COMPLETO_ESCOLA</th>\n",
       "      <th>NM_TIPO_ENSINO</th>\n",
       "      <th>NR_SERIE</th>\n",
       "      <th>CD_TURMA</th>\n",
       "      <th>DS_TURMA</th>\n",
       "      <th>NR_ALUNO</th>\n",
       "      <th>NM_ALUNO</th>\n",
       "      <th>RA</th>\n",
       "      <th>PRIMEIRO_ACESSO</th>\n",
       "      <th>TEMPO_TOTAL_APP</th>\n",
       "      <th>QTD_DIAS_ACESSADOS</th>\n",
       "      <th>TEMPO_MEDIO_POR_DIA</th>\n",
       "      <th>ULTIMO_ACESSO</th>\n",
       "      <th>TEMPO_TOTAL_APP_ULTIMOS_7_DIAS</th>\n",
       "      <th>QTD_DIAS_ACESSADOS_ULTIMOS_7_DIAS</th>\n",
       "    </tr>\n",
       "  </thead>\n",
       "  <tbody>\n",
       "    <tr>\n",
       "      <th>1566106</th>\n",
       "      <td>SOROCABA</td>\n",
       "      <td>SOROCABA</td>\n",
       "      <td>Interior</td>\n",
       "      <td>922742</td>\n",
       "      <td>ROBERTO PASCHOALICK PROFESSOR</td>\n",
       "      <td>ENSINO FUNDAMENTAL DE 9 ANOS</td>\n",
       "      <td>8</td>\n",
       "      <td>36644909</td>\n",
       "      <td>8° ANO A INTEGRAL ANUAL</td>\n",
       "      <td>2</td>\n",
       "      <td>ANA LETICIA MIUKI IKEDA BORBA</td>\n",
       "      <td>0001101058778 SP</td>\n",
       "      <td>2020-05-27</td>\n",
       "      <td>214.422500</td>\n",
       "      <td>10.0</td>\n",
       "      <td>21.442250</td>\n",
       "      <td>2020-06-15</td>\n",
       "      <td>28.793611</td>\n",
       "      <td>6.0</td>\n",
       "    </tr>\n",
       "    <tr>\n",
       "      <th>1947232</th>\n",
       "      <td>CATANDUVA</td>\n",
       "      <td>CATANDUVA</td>\n",
       "      <td>Interior</td>\n",
       "      <td>26682</td>\n",
       "      <td>NICOLA MASTROCOLA</td>\n",
       "      <td>ENSINO FUNDAMENTAL DE 9 ANOS</td>\n",
       "      <td>7</td>\n",
       "      <td>36561454</td>\n",
       "      <td>7° ANO A TARDE ANUAL</td>\n",
       "      <td>18</td>\n",
       "      <td>LUCAS FRAGOSO DE SOUZA</td>\n",
       "      <td>0001104630400 SP</td>\n",
       "      <td>2020-05-15</td>\n",
       "      <td>174.548056</td>\n",
       "      <td>15.0</td>\n",
       "      <td>11.636537</td>\n",
       "      <td>2020-06-15</td>\n",
       "      <td>60.617222</td>\n",
       "      <td>6.0</td>\n",
       "    </tr>\n",
       "    <tr>\n",
       "      <th>777241</th>\n",
       "      <td>LESTE 4</td>\n",
       "      <td>SAO PAULO</td>\n",
       "      <td>Capital</td>\n",
       "      <td>908939</td>\n",
       "      <td>LIBERATO GROSSI PROF</td>\n",
       "      <td>ENSINO FUNDAMENTAL DE 9 ANOS</td>\n",
       "      <td>3</td>\n",
       "      <td>36539971</td>\n",
       "      <td>3° ANO A TARDE ANUAL</td>\n",
       "      <td>9</td>\n",
       "      <td>ISADORA CHAVES VIOLANTE CLEMENTE</td>\n",
       "      <td>0001144629755SP</td>\n",
       "      <td>2020-05-18</td>\n",
       "      <td>168.905833</td>\n",
       "      <td>13.0</td>\n",
       "      <td>12.992756</td>\n",
       "      <td>2020-06-15</td>\n",
       "      <td>13.181944</td>\n",
       "      <td>5.0</td>\n",
       "    </tr>\n",
       "    <tr>\n",
       "      <th>795831</th>\n",
       "      <td>JABOTICABAL</td>\n",
       "      <td>JABOTICABAL</td>\n",
       "      <td>Interior</td>\n",
       "      <td>23565</td>\n",
       "      <td>AURELIO ARROBAS MARTINS</td>\n",
       "      <td>EJA ENSINO MEDIO</td>\n",
       "      <td>2</td>\n",
       "      <td>36525056</td>\n",
       "      <td>2° TERMO A NOITE 1° SEMESTRE</td>\n",
       "      <td>24</td>\n",
       "      <td>JOHNATAN CAMPELO FERREIRA</td>\n",
       "      <td>0001013833570 SP</td>\n",
       "      <td>2020-05-23</td>\n",
       "      <td>151.528333</td>\n",
       "      <td>12.0</td>\n",
       "      <td>12.627361</td>\n",
       "      <td>2020-06-15</td>\n",
       "      <td>36.466389</td>\n",
       "      <td>3.0</td>\n",
       "    </tr>\n",
       "    <tr>\n",
       "      <th>2719946</th>\n",
       "      <td>OSASCO</td>\n",
       "      <td>OSASCO</td>\n",
       "      <td>Grande São Paulo</td>\n",
       "      <td>10716</td>\n",
       "      <td>JOSE MARIA RODRIGUES LEITE PROFESSOR</td>\n",
       "      <td>ENSINO FUNDAMENTAL DE 9 ANOS</td>\n",
       "      <td>9</td>\n",
       "      <td>36649648</td>\n",
       "      <td>9° ANO C TARDE ANUAL</td>\n",
       "      <td>7</td>\n",
       "      <td>DOUGLAS FURLAN SAKATAUSKAS</td>\n",
       "      <td>0001080055551 SP</td>\n",
       "      <td>2020-05-18</td>\n",
       "      <td>137.298056</td>\n",
       "      <td>15.0</td>\n",
       "      <td>9.153204</td>\n",
       "      <td>2020-06-15</td>\n",
       "      <td>42.073889</td>\n",
       "      <td>6.0</td>\n",
       "    </tr>\n",
       "  </tbody>\n",
       "</table>\n",
       "</div>"
      ],
      "text/plain": [
       "        NM_DIRETORIA NM_MUNICIPIO            REGIAO  CD_ESCOLA  \\\n",
       "1566106     SOROCABA     SOROCABA          Interior     922742   \n",
       "1947232    CATANDUVA    CATANDUVA          Interior      26682   \n",
       "777241       LESTE 4    SAO PAULO           Capital     908939   \n",
       "795831   JABOTICABAL  JABOTICABAL          Interior      23565   \n",
       "2719946       OSASCO       OSASCO  Grande São Paulo      10716   \n",
       "\n",
       "                           NM_COMPLETO_ESCOLA                NM_TIPO_ENSINO  \\\n",
       "1566106         ROBERTO PASCHOALICK PROFESSOR  ENSINO FUNDAMENTAL DE 9 ANOS   \n",
       "1947232                     NICOLA MASTROCOLA  ENSINO FUNDAMENTAL DE 9 ANOS   \n",
       "777241                   LIBERATO GROSSI PROF  ENSINO FUNDAMENTAL DE 9 ANOS   \n",
       "795831                AURELIO ARROBAS MARTINS              EJA ENSINO MEDIO   \n",
       "2719946  JOSE MARIA RODRIGUES LEITE PROFESSOR  ENSINO FUNDAMENTAL DE 9 ANOS   \n",
       "\n",
       "         NR_SERIE  CD_TURMA                      DS_TURMA  NR_ALUNO  \\\n",
       "1566106         8  36644909       8° ANO A INTEGRAL ANUAL         2   \n",
       "1947232         7  36561454          7° ANO A TARDE ANUAL        18   \n",
       "777241          3  36539971          3° ANO A TARDE ANUAL         9   \n",
       "795831          2  36525056  2° TERMO A NOITE 1° SEMESTRE        24   \n",
       "2719946         9  36649648          9° ANO C TARDE ANUAL         7   \n",
       "\n",
       "                                 NM_ALUNO                RA PRIMEIRO_ACESSO  \\\n",
       "1566106     ANA LETICIA MIUKI IKEDA BORBA  0001101058778 SP      2020-05-27   \n",
       "1947232            LUCAS FRAGOSO DE SOUZA  0001104630400 SP      2020-05-15   \n",
       "777241   ISADORA CHAVES VIOLANTE CLEMENTE   0001144629755SP      2020-05-18   \n",
       "795831          JOHNATAN CAMPELO FERREIRA  0001013833570 SP      2020-05-23   \n",
       "2719946        DOUGLAS FURLAN SAKATAUSKAS  0001080055551 SP      2020-05-18   \n",
       "\n",
       "         TEMPO_TOTAL_APP  QTD_DIAS_ACESSADOS  TEMPO_MEDIO_POR_DIA  \\\n",
       "1566106       214.422500                10.0            21.442250   \n",
       "1947232       174.548056                15.0            11.636537   \n",
       "777241        168.905833                13.0            12.992756   \n",
       "795831        151.528333                12.0            12.627361   \n",
       "2719946       137.298056                15.0             9.153204   \n",
       "\n",
       "        ULTIMO_ACESSO  TEMPO_TOTAL_APP_ULTIMOS_7_DIAS  \\\n",
       "1566106    2020-06-15                       28.793611   \n",
       "1947232    2020-06-15                       60.617222   \n",
       "777241     2020-06-15                       13.181944   \n",
       "795831     2020-06-15                       36.466389   \n",
       "2719946    2020-06-15                       42.073889   \n",
       "\n",
       "         QTD_DIAS_ACESSADOS_ULTIMOS_7_DIAS  \n",
       "1566106                                6.0  \n",
       "1947232                                6.0  \n",
       "777241                                 5.0  \n",
       "795831                                 3.0  \n",
       "2719946                                6.0  "
      ]
     },
     "execution_count": 5,
     "metadata": {},
     "output_type": "execute_result"
    }
   ],
   "source": [
    "df.sort_values(by=['TEMPO_TOTAL_APP'], ascending=False).head()"
   ]
  },
  {
   "cell_type": "code",
   "execution_count": 6,
   "metadata": {},
   "outputs": [
    {
     "data": {
      "text/plain": [
       "(3309555, 19)"
      ]
     },
     "execution_count": 6,
     "metadata": {},
     "output_type": "execute_result"
    }
   ],
   "source": [
    "df.shape"
   ]
  },
  {
   "cell_type": "code",
   "execution_count": 13,
   "metadata": {},
   "outputs": [
    {
     "data": {
      "image/png": "[encoded data removed]",
      "text/plain": [
       "<Figure size 1440x720 with 1 Axes>"
      ]
     },
     "metadata": {
      "needs_background": "light"
     },
     "output_type": "display_data"
    }
   ],
   "source": [
    "x = df[['TEMPO_TOTAL_APP']].fillna(0)\n",
    "#x = x[x > 0]\n",
    "\n",
    "\n",
    "x = x.query('TEMPO_TOTAL_APP > 0')\n",
    "plt.figure(figsize=(20,10))\n",
    "sns.distplot(x, bins = 100, kde=False, rug=True,\n",
    "                        rug_kws={\"color\": \"r\", \"alpha\":0.1, \"linewidth\": 2, \"height\":0.1 })\n",
    "plt.show()"
   ]
  },
  {
   "cell_type": "code",
   "execution_count": null,
   "metadata": {},
   "outputs": [],
   "source": []
  }
 ],
 "metadata": {
  "kernelspec": {
   "display_name": "Python 3",
   "language": "python",
   "name": "python3"
  },
  "language_info": {
   "codemirror_mode": {
    "name": "ipython",
    "version": 3
   },
   "file_extension": ".py",
   "mimetype": "text/x-python",
   "name": "python",
   "nbconvert_exporter": "python",
   "pygments_lexer": "ipython3",
   "version": "3.7.3"
  }
 },
 "nbformat": 4,
 "nbformat_minor": 4
}
