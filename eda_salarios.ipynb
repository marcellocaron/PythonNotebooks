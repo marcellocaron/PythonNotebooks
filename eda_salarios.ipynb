{
 "cells": [
  {
   "cell_type": "code",
   "execution_count": 3,
   "metadata": {},
   "outputs": [],
   "source": [
    "import pandas as pd\n",
    "import seaborn as sns\n",
    "import matplotlib.pyplot as plt"
   ]
  },
  {
   "cell_type": "code",
   "execution_count": 4,
   "metadata": {},
   "outputs": [],
   "source": [
    "path = 'data/salarios.txt'"
   ]
  },
  {
   "cell_type": "code",
   "execution_count": 5,
   "metadata": {},
   "outputs": [],
   "source": [
    "df = pd.read_csv(path, encoding='latin-1', sep=';', decimal=',', thousands='.')"
   ]
  },
  {
   "cell_type": "code",
   "execution_count": 6,
   "metadata": {},
   "outputs": [
    {
     "data": {
      "text/html": [
       "<div>\n",
       "<style scoped>\n",
       "    .dataframe tbody tr th:only-of-type {\n",
       "        vertical-align: middle;\n",
       "    }\n",
       "\n",
       "    .dataframe tbody tr th {\n",
       "        vertical-align: top;\n",
       "    }\n",
       "\n",
       "    .dataframe thead th {\n",
       "        text-align: right;\n",
       "    }\n",
       "</style>\n",
       "<table border=\"1\" class=\"dataframe\">\n",
       "  <thead>\n",
       "    <tr style=\"text-align: right;\">\n",
       "      <th></th>\n",
       "      <th>ANO</th>\n",
       "      <th>MÊS</th>\n",
       "      <th>MATRÍCULA</th>\n",
       "      <th>NOME</th>\n",
       "      <th>CARGO</th>\n",
       "      <th>FUNÇÃO GRATIFICADA</th>\n",
       "      <th>TEMPO DE SERVIÇO (ANOS)</th>\n",
       "      <th>REMUNERAÇÃO DO MÊS</th>\n",
       "      <th>VERBA EVENTUAL</th>\n",
       "    </tr>\n",
       "  </thead>\n",
       "  <tbody>\n",
       "    <tr>\n",
       "      <th>0</th>\n",
       "      <td>2020</td>\n",
       "      <td>4</td>\n",
       "      <td>17476/1</td>\n",
       "      <td>PLINIO GOMIDE RAMOS</td>\n",
       "      <td>COORDENADOR IV</td>\n",
       "      <td>NaN</td>\n",
       "      <td>53</td>\n",
       "      <td>14807.12</td>\n",
       "      <td>6784.42</td>\n",
       "    </tr>\n",
       "    <tr>\n",
       "      <th>1</th>\n",
       "      <td>2020</td>\n",
       "      <td>4</td>\n",
       "      <td>22208/1</td>\n",
       "      <td>LUIZ CARLOS TEIXEIRA</td>\n",
       "      <td>PROCURADOR I</td>\n",
       "      <td>NaN</td>\n",
       "      <td>51</td>\n",
       "      <td>20864.80</td>\n",
       "      <td>15096.66</td>\n",
       "    </tr>\n",
       "    <tr>\n",
       "      <th>2</th>\n",
       "      <td>2020</td>\n",
       "      <td>4</td>\n",
       "      <td>33021/1</td>\n",
       "      <td>JOSE ROBERTO CORREA</td>\n",
       "      <td>PROCURADOR I</td>\n",
       "      <td>NaN</td>\n",
       "      <td>47</td>\n",
       "      <td>19054.66</td>\n",
       "      <td>8149.49</td>\n",
       "    </tr>\n",
       "    <tr>\n",
       "      <th>3</th>\n",
       "      <td>2020</td>\n",
       "      <td>4</td>\n",
       "      <td>36560/3</td>\n",
       "      <td>CELSO ANTONIO DE SOUZA</td>\n",
       "      <td>ASSESSOR DE CHEFIA</td>\n",
       "      <td>ASSESSOR DE CHEFIA</td>\n",
       "      <td>0</td>\n",
       "      <td>5886.93</td>\n",
       "      <td>0.00</td>\n",
       "    </tr>\n",
       "    <tr>\n",
       "      <th>4</th>\n",
       "      <td>2020</td>\n",
       "      <td>4</td>\n",
       "      <td>41571/1</td>\n",
       "      <td>JOAO FRIGGI NETO</td>\n",
       "      <td>PROCURADOR I</td>\n",
       "      <td>NaN</td>\n",
       "      <td>46</td>\n",
       "      <td>22262.85</td>\n",
       "      <td>15741.81</td>\n",
       "    </tr>\n",
       "  </tbody>\n",
       "</table>\n",
       "</div>"
      ],
      "text/plain": [
       "    ANO  MÊS MATRÍCULA                    NOME               CARGO  \\\n",
       "0  2020    4   17476/1     PLINIO GOMIDE RAMOS      COORDENADOR IV   \n",
       "1  2020    4   22208/1    LUIZ CARLOS TEIXEIRA        PROCURADOR I   \n",
       "2  2020    4   33021/1     JOSE ROBERTO CORREA        PROCURADOR I   \n",
       "3  2020    4   36560/3  CELSO ANTONIO DE SOUZA  ASSESSOR DE CHEFIA   \n",
       "4  2020    4   41571/1        JOAO FRIGGI NETO        PROCURADOR I   \n",
       "\n",
       "   FUNÇÃO GRATIFICADA  TEMPO DE SERVIÇO (ANOS)  REMUNERAÇÃO DO MÊS  \\\n",
       "0                 NaN                       53            14807.12   \n",
       "1                 NaN                       51            20864.80   \n",
       "2                 NaN                       47            19054.66   \n",
       "3  ASSESSOR DE CHEFIA                        0             5886.93   \n",
       "4                 NaN                       46            22262.85   \n",
       "\n",
       "   VERBA EVENTUAL  \n",
       "0         6784.42  \n",
       "1        15096.66  \n",
       "2         8149.49  \n",
       "3            0.00  \n",
       "4        15741.81  "
      ]
     },
     "execution_count": 6,
     "metadata": {},
     "output_type": "execute_result"
    }
   ],
   "source": [
    "df.head()"
   ]
  },
  {
   "cell_type": "code",
   "execution_count": 7,
   "metadata": {},
   "outputs": [
    {
     "data": {
      "text/plain": [
       "(9033, 9)"
      ]
     },
     "execution_count": 7,
     "metadata": {},
     "output_type": "execute_result"
    }
   ],
   "source": [
    "df.shape"
   ]
  },
  {
   "cell_type": "code",
   "execution_count": 8,
   "metadata": {},
   "outputs": [
    {
     "data": {
      "image/png": "[encoded data removed]",
      "text/plain": [
       "<Figure size 1440x576 with 1 Axes>"
      ]
     },
     "metadata": {
      "needs_background": "light"
     },
     "output_type": "display_data"
    }
   ],
   "source": [
    "media = round(df['REMUNERAÇÃO DO MÊS'].mean(),0)\n",
    "mediana = round(df['REMUNERAÇÃO DO MÊS'].median(),0)\n",
    "\n",
    "#df['REMUNERAÇÃO DO MÊS'].astype('float')\n",
    "plt.figure(figsize=(20,8))\n",
    "sns.distplot(df['REMUNERAÇÃO DO MÊS'], kde=False)\n",
    "plt.axvline(media,ymin=0, ymax=0.75, color='r')\n",
    "plt.text(media + 100,1000,'Média: R$' + str(int(media)),fontsize=20)\n",
    "plt.axvline(mediana)\n",
    "plt.text(mediana + 100,1500,'Mediana: R$' + str(int(mediana)),fontsize=20)\n",
    "plt.show()"
   ]
  },
  {
   "cell_type": "code",
   "execution_count": 10,
   "metadata": {},
   "outputs": [
    {
     "data": {
      "text/plain": [
       "1.688929566596761"
      ]
     },
     "execution_count": 10,
     "metadata": {},
     "output_type": "execute_result"
    }
   ],
   "source": [
    "cond = df['REMUNERAÇÃO DO MÊS'] < 100000\n",
    "df['REMUNERAÇÃO DO MÊS'][cond].skew()"
   ]
  },
  {
   "cell_type": "code",
   "execution_count": 11,
   "metadata": {},
   "outputs": [
    {
     "data": {
      "text/plain": [
       "3.5862786554325887"
      ]
     },
     "execution_count": 11,
     "metadata": {},
     "output_type": "execute_result"
    }
   ],
   "source": [
    "\n",
    "df['REMUNERAÇÃO DO MÊS'][cond].kurt()"
   ]
  },
  {
   "cell_type": "code",
   "execution_count": 39,
   "metadata": {},
   "outputs": [],
   "source": [
    "teste = pd.DataFrame([-i for i in df['REMUNERAÇÃO DO MÊS']])"
   ]
  },
  {
   "cell_type": "code",
   "execution_count": 40,
   "metadata": {},
   "outputs": [
    {
     "data": {
      "text/plain": [
       "<matplotlib.axes._subplots.AxesSubplot at 0x1294d3e48>"
      ]
     },
     "execution_count": 40,
     "metadata": {},
     "output_type": "execute_result"
    },
    {
     "data": {
      "image/png": "[encoded data removed]",
      "text/plain": [
       "<Figure size 432x288 with 1 Axes>"
      ]
     },
     "metadata": {
      "needs_background": "light"
     },
     "output_type": "display_data"
    }
   ],
   "source": [
    "sns.distplot(teste, kde=False)"
   ]
  },
  {
   "cell_type": "code",
   "execution_count": 14,
   "metadata": {},
   "outputs": [
    {
     "name": "stdout",
     "output_type": "stream",
     "text": [
      "0   -1.68893\n",
      "dtype: float64\n",
      "0    3.586279\n",
      "dtype: float64\n"
     ]
    }
   ],
   "source": [
    "print(teste.skew())\n",
    "print(teste.kurt())"
   ]
  },
  {
   "cell_type": "code",
   "execution_count": 41,
   "metadata": {},
   "outputs": [
    {
     "data": {
      "text/plain": [
       "count     9033.000000\n",
       "mean      5145.013220\n",
       "std       3790.945114\n",
       "min          0.000000\n",
       "25%       2668.020000\n",
       "50%       3645.420000\n",
       "75%       6905.230000\n",
       "max      31771.720000\n",
       "Name: REMUNERAÇÃO DO MÊS, dtype: float64"
      ]
     },
     "execution_count": 41,
     "metadata": {},
     "output_type": "execute_result"
    }
   ],
   "source": [
    "df['REMUNERAÇÃO DO MÊS'].describe()"
   ]
  },
  {
   "cell_type": "code",
   "execution_count": 38,
   "metadata": {},
   "outputs": [
    {
     "data": {
      "text/html": [
       "<div>\n",
       "<style scoped>\n",
       "    .dataframe tbody tr th:only-of-type {\n",
       "        vertical-align: middle;\n",
       "    }\n",
       "\n",
       "    .dataframe tbody tr th {\n",
       "        vertical-align: top;\n",
       "    }\n",
       "\n",
       "    .dataframe thead th {\n",
       "        text-align: right;\n",
       "    }\n",
       "</style>\n",
       "<table border=\"1\" class=\"dataframe\">\n",
       "  <thead>\n",
       "    <tr style=\"text-align: right;\">\n",
       "      <th></th>\n",
       "      <th>0</th>\n",
       "    </tr>\n",
       "  </thead>\n",
       "  <tbody>\n",
       "    <tr>\n",
       "      <th>0</th>\n",
       "      <td>-14807.12</td>\n",
       "    </tr>\n",
       "    <tr>\n",
       "      <th>1</th>\n",
       "      <td>-20864.80</td>\n",
       "    </tr>\n",
       "    <tr>\n",
       "      <th>2</th>\n",
       "      <td>-19054.66</td>\n",
       "    </tr>\n",
       "    <tr>\n",
       "      <th>3</th>\n",
       "      <td>-5886.93</td>\n",
       "    </tr>\n",
       "    <tr>\n",
       "      <th>4</th>\n",
       "      <td>-22262.85</td>\n",
       "    </tr>\n",
       "  </tbody>\n",
       "</table>\n",
       "</div>"
      ],
      "text/plain": [
       "          0\n",
       "0 -14807.12\n",
       "1 -20864.80\n",
       "2 -19054.66\n",
       "3  -5886.93\n",
       "4 -22262.85"
      ]
     },
     "execution_count": 38,
     "metadata": {},
     "output_type": "execute_result"
    }
   ],
   "source": [
    "teste.head()"
   ]
  },
  {
   "cell_type": "code",
   "execution_count": 42,
   "metadata": {},
   "outputs": [],
   "source": [
    "df_list = df['REMUNERAÇÃO DO MÊS']\n",
    "teste_df = pd.DataFrame({'teste': df_list})"
   ]
  },
  {
   "cell_type": "code",
   "execution_count": 43,
   "metadata": {},
   "outputs": [
    {
     "data": {
      "text/html": [
       "<div>\n",
       "<style scoped>\n",
       "    .dataframe tbody tr th:only-of-type {\n",
       "        vertical-align: middle;\n",
       "    }\n",
       "\n",
       "    .dataframe tbody tr th {\n",
       "        vertical-align: top;\n",
       "    }\n",
       "\n",
       "    .dataframe thead th {\n",
       "        text-align: right;\n",
       "    }\n",
       "</style>\n",
       "<table border=\"1\" class=\"dataframe\">\n",
       "  <thead>\n",
       "    <tr style=\"text-align: right;\">\n",
       "      <th></th>\n",
       "      <th>teste</th>\n",
       "    </tr>\n",
       "  </thead>\n",
       "  <tbody>\n",
       "    <tr>\n",
       "      <th>0</th>\n",
       "      <td>14807.12</td>\n",
       "    </tr>\n",
       "    <tr>\n",
       "      <th>1</th>\n",
       "      <td>20864.80</td>\n",
       "    </tr>\n",
       "    <tr>\n",
       "      <th>2</th>\n",
       "      <td>19054.66</td>\n",
       "    </tr>\n",
       "    <tr>\n",
       "      <th>3</th>\n",
       "      <td>5886.93</td>\n",
       "    </tr>\n",
       "    <tr>\n",
       "      <th>4</th>\n",
       "      <td>22262.85</td>\n",
       "    </tr>\n",
       "    <tr>\n",
       "      <th>...</th>\n",
       "      <td>...</td>\n",
       "    </tr>\n",
       "    <tr>\n",
       "      <th>9028</th>\n",
       "      <td>200.94</td>\n",
       "    </tr>\n",
       "    <tr>\n",
       "      <th>9029</th>\n",
       "      <td>50.24</td>\n",
       "    </tr>\n",
       "    <tr>\n",
       "      <th>9030</th>\n",
       "      <td>4302.86</td>\n",
       "    </tr>\n",
       "    <tr>\n",
       "      <th>9031</th>\n",
       "      <td>4302.86</td>\n",
       "    </tr>\n",
       "    <tr>\n",
       "      <th>9032</th>\n",
       "      <td>50.24</td>\n",
       "    </tr>\n",
       "  </tbody>\n",
       "</table>\n",
       "<p>9033 rows × 1 columns</p>\n",
       "</div>"
      ],
      "text/plain": [
       "         teste\n",
       "0     14807.12\n",
       "1     20864.80\n",
       "2     19054.66\n",
       "3      5886.93\n",
       "4     22262.85\n",
       "...        ...\n",
       "9028    200.94\n",
       "9029     50.24\n",
       "9030   4302.86\n",
       "9031   4302.86\n",
       "9032     50.24\n",
       "\n",
       "[9033 rows x 1 columns]"
      ]
     },
     "execution_count": 43,
     "metadata": {},
     "output_type": "execute_result"
    }
   ],
   "source": [
    "teste_df"
   ]
  },
  {
   "cell_type": "code",
   "execution_count": 44,
   "metadata": {},
   "outputs": [
    {
     "data": {
      "text/html": [
       "<div>\n",
       "<style scoped>\n",
       "    .dataframe tbody tr th:only-of-type {\n",
       "        vertical-align: middle;\n",
       "    }\n",
       "\n",
       "    .dataframe tbody tr th {\n",
       "        vertical-align: top;\n",
       "    }\n",
       "\n",
       "    .dataframe thead th {\n",
       "        text-align: right;\n",
       "    }\n",
       "</style>\n",
       "<table border=\"1\" class=\"dataframe\">\n",
       "  <thead>\n",
       "    <tr style=\"text-align: right;\">\n",
       "      <th></th>\n",
       "      <th>teste</th>\n",
       "    </tr>\n",
       "  </thead>\n",
       "  <tbody>\n",
       "    <tr>\n",
       "      <th>2</th>\n",
       "      <td>19054.66</td>\n",
       "    </tr>\n",
       "    <tr>\n",
       "      <th>12</th>\n",
       "      <td>18440.00</td>\n",
       "    </tr>\n",
       "    <tr>\n",
       "      <th>16</th>\n",
       "      <td>16804.10</td>\n",
       "    </tr>\n",
       "    <tr>\n",
       "      <th>27</th>\n",
       "      <td>16021.92</td>\n",
       "    </tr>\n",
       "    <tr>\n",
       "      <th>33</th>\n",
       "      <td>17407.09</td>\n",
       "    </tr>\n",
       "    <tr>\n",
       "      <th>...</th>\n",
       "      <td>...</td>\n",
       "    </tr>\n",
       "    <tr>\n",
       "      <th>4720</th>\n",
       "      <td>16505.18</td>\n",
       "    </tr>\n",
       "    <tr>\n",
       "      <th>4806</th>\n",
       "      <td>15505.07</td>\n",
       "    </tr>\n",
       "    <tr>\n",
       "      <th>4878</th>\n",
       "      <td>17589.52</td>\n",
       "    </tr>\n",
       "    <tr>\n",
       "      <th>7254</th>\n",
       "      <td>15775.34</td>\n",
       "    </tr>\n",
       "    <tr>\n",
       "      <th>7271</th>\n",
       "      <td>15716.67</td>\n",
       "    </tr>\n",
       "  </tbody>\n",
       "</table>\n",
       "<p>191 rows × 1 columns</p>\n",
       "</div>"
      ],
      "text/plain": [
       "         teste\n",
       "2     19054.66\n",
       "12    18440.00\n",
       "16    16804.10\n",
       "27    16021.92\n",
       "33    17407.09\n",
       "...        ...\n",
       "4720  16505.18\n",
       "4806  15505.07\n",
       "4878  17589.52\n",
       "7254  15775.34\n",
       "7271  15716.67\n",
       "\n",
       "[191 rows x 1 columns]"
      ]
     },
     "execution_count": 44,
     "metadata": {},
     "output_type": "execute_result"
    }
   ],
   "source": [
    "teste_df.query('15000 <= teste <= 20000')"
   ]
  },
  {
   "cell_type": "code",
   "execution_count": null,
   "metadata": {},
   "outputs": [],
   "source": []
  }
 ],
 "metadata": {
  "kernelspec": {
   "display_name": "Python 3",
   "language": "python",
   "name": "python3"
  },
  "language_info": {
   "codemirror_mode": {
    "name": "ipython",
    "version": 3
   },
   "file_extension": ".py",
   "mimetype": "text/x-python",
   "name": "python",
   "nbconvert_exporter": "python",
   "pygments_lexer": "ipython3",
   "version": "3.7.3"
  }
 },
 "nbformat": 4,
 "nbformat_minor": 4
}
