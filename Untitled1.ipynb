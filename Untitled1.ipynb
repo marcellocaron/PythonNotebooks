{
 "cells": [
  {
   "cell_type": "code",
   "execution_count": 1,
   "metadata": {},
   "outputs": [],
   "source": [
    "import pandas as pd"
   ]
  },
  {
   "cell_type": "code",
   "execution_count": 2,
   "metadata": {},
   "outputs": [],
   "source": [
    "path = 'data/20200706 - GovSP - Report Pagamentos.csv'"
   ]
  },
  {
   "cell_type": "code",
   "execution_count": 3,
   "metadata": {},
   "outputs": [
    {
     "name": "stderr",
     "output_type": "stream",
     "text": [
      "/Users/marcello/anaconda3/lib/python3.7/site-packages/IPython/core/interactiveshell.py:3063: DtypeWarning: Columns (4) have mixed types.Specify dtype option on import or set low_memory=False.\n",
      "  interactivity=interactivity, compiler=compiler, result=result)\n"
     ]
    }
   ],
   "source": [
    "df = pd.read_csv(path)"
   ]
  },
  {
   "cell_type": "code",
   "execution_count": 4,
   "metadata": {},
   "outputs": [
    {
     "data": {
      "text/html": [
       "<div>\n",
       "<style scoped>\n",
       "    .dataframe tbody tr th:only-of-type {\n",
       "        vertical-align: middle;\n",
       "    }\n",
       "\n",
       "    .dataframe tbody tr th {\n",
       "        vertical-align: top;\n",
       "    }\n",
       "\n",
       "    .dataframe thead th {\n",
       "        text-align: right;\n",
       "    }\n",
       "</style>\n",
       "<table border=\"1\" class=\"dataframe\">\n",
       "  <thead>\n",
       "    <tr style=\"text-align: right;\">\n",
       "      <th></th>\n",
       "      <th>cpf</th>\n",
       "      <th>cod_pagamento</th>\n",
       "      <th>data_pagamento</th>\n",
       "      <th>valor_pagamento</th>\n",
       "      <th>data_arquivamento_usuario</th>\n",
       "    </tr>\n",
       "  </thead>\n",
       "  <tbody>\n",
       "    <tr>\n",
       "      <th>0</th>\n",
       "      <td>37940655817</td>\n",
       "      <td>152731</td>\n",
       "      <td>2020-04-10T05:12:11.000Z</td>\n",
       "      <td>55.0</td>\n",
       "      <td>NaN</td>\n",
       "    </tr>\n",
       "    <tr>\n",
       "      <th>1</th>\n",
       "      <td>37566208837</td>\n",
       "      <td>152732</td>\n",
       "      <td>2020-04-10T05:12:12.000Z</td>\n",
       "      <td>55.0</td>\n",
       "      <td>NaN</td>\n",
       "    </tr>\n",
       "    <tr>\n",
       "      <th>2</th>\n",
       "      <td>24611555852</td>\n",
       "      <td>152733</td>\n",
       "      <td>2020-04-10T05:12:14.000Z</td>\n",
       "      <td>55.0</td>\n",
       "      <td>NaN</td>\n",
       "    </tr>\n",
       "    <tr>\n",
       "      <th>3</th>\n",
       "      <td>23250776831</td>\n",
       "      <td>152734</td>\n",
       "      <td>2020-04-10T05:12:35.000Z</td>\n",
       "      <td>55.0</td>\n",
       "      <td>NaN</td>\n",
       "    </tr>\n",
       "    <tr>\n",
       "      <th>4</th>\n",
       "      <td>36133401869</td>\n",
       "      <td>152735</td>\n",
       "      <td>2020-04-10T05:13:32.000Z</td>\n",
       "      <td>55.0</td>\n",
       "      <td>NaN</td>\n",
       "    </tr>\n",
       "  </tbody>\n",
       "</table>\n",
       "</div>"
      ],
      "text/plain": [
       "           cpf  cod_pagamento            data_pagamento  valor_pagamento  \\\n",
       "0  37940655817         152731  2020-04-10T05:12:11.000Z             55.0   \n",
       "1  37566208837         152732  2020-04-10T05:12:12.000Z             55.0   \n",
       "2  24611555852         152733  2020-04-10T05:12:14.000Z             55.0   \n",
       "3  23250776831         152734  2020-04-10T05:12:35.000Z             55.0   \n",
       "4  36133401869         152735  2020-04-10T05:13:32.000Z             55.0   \n",
       "\n",
       "  data_arquivamento_usuario  \n",
       "0                       NaN  \n",
       "1                       NaN  \n",
       "2                       NaN  \n",
       "3                       NaN  \n",
       "4                       NaN  "
      ]
     },
     "execution_count": 4,
     "metadata": {},
     "output_type": "execute_result"
    }
   ],
   "source": [
    "df.head()"
   ]
  },
  {
   "cell_type": "code",
   "execution_count": 7,
   "metadata": {},
   "outputs": [],
   "source": [
    "cond1 = df['cpf'] == 34094087893"
   ]
  },
  {
   "cell_type": "code",
   "execution_count": 8,
   "metadata": {},
   "outputs": [
    {
     "data": {
      "text/html": [
       "<div>\n",
       "<style scoped>\n",
       "    .dataframe tbody tr th:only-of-type {\n",
       "        vertical-align: middle;\n",
       "    }\n",
       "\n",
       "    .dataframe tbody tr th {\n",
       "        vertical-align: top;\n",
       "    }\n",
       "\n",
       "    .dataframe thead th {\n",
       "        text-align: right;\n",
       "    }\n",
       "</style>\n",
       "<table border=\"1\" class=\"dataframe\">\n",
       "  <thead>\n",
       "    <tr style=\"text-align: right;\">\n",
       "      <th></th>\n",
       "      <th>cpf</th>\n",
       "      <th>cod_pagamento</th>\n",
       "      <th>data_pagamento</th>\n",
       "      <th>valor_pagamento</th>\n",
       "      <th>data_arquivamento_usuario</th>\n",
       "    </tr>\n",
       "  </thead>\n",
       "  <tbody>\n",
       "    <tr>\n",
       "      <th>462396</th>\n",
       "      <td>34094087893</td>\n",
       "      <td>7321515</td>\n",
       "      <td>2020-07-02T21:52:47.000Z</td>\n",
       "      <td>55.0</td>\n",
       "      <td>NaN</td>\n",
       "    </tr>\n",
       "    <tr>\n",
       "      <th>462581</th>\n",
       "      <td>34094087893</td>\n",
       "      <td>7322041</td>\n",
       "      <td>2020-07-02T21:53:40.000Z</td>\n",
       "      <td>55.0</td>\n",
       "      <td>NaN</td>\n",
       "    </tr>\n",
       "    <tr>\n",
       "      <th>462645</th>\n",
       "      <td>34094087893</td>\n",
       "      <td>7322246</td>\n",
       "      <td>2020-07-02T21:54:01.000Z</td>\n",
       "      <td>55.0</td>\n",
       "      <td>NaN</td>\n",
       "    </tr>\n",
       "    <tr>\n",
       "      <th>462651</th>\n",
       "      <td>34094087893</td>\n",
       "      <td>7322250</td>\n",
       "      <td>2020-07-02T21:54:02.000Z</td>\n",
       "      <td>55.0</td>\n",
       "      <td>NaN</td>\n",
       "    </tr>\n",
       "    <tr>\n",
       "      <th>462828</th>\n",
       "      <td>34094087893</td>\n",
       "      <td>7322677</td>\n",
       "      <td>2020-07-02T21:54:44.000Z</td>\n",
       "      <td>55.0</td>\n",
       "      <td>NaN</td>\n",
       "    </tr>\n",
       "    <tr>\n",
       "      <th>462876</th>\n",
       "      <td>34094087893</td>\n",
       "      <td>7322821</td>\n",
       "      <td>2020-07-02T21:54:58.000Z</td>\n",
       "      <td>55.0</td>\n",
       "      <td>NaN</td>\n",
       "    </tr>\n",
       "  </tbody>\n",
       "</table>\n",
       "</div>"
      ],
      "text/plain": [
       "                cpf  cod_pagamento            data_pagamento  valor_pagamento  \\\n",
       "462396  34094087893        7321515  2020-07-02T21:52:47.000Z             55.0   \n",
       "462581  34094087893        7322041  2020-07-02T21:53:40.000Z             55.0   \n",
       "462645  34094087893        7322246  2020-07-02T21:54:01.000Z             55.0   \n",
       "462651  34094087893        7322250  2020-07-02T21:54:02.000Z             55.0   \n",
       "462828  34094087893        7322677  2020-07-02T21:54:44.000Z             55.0   \n",
       "462876  34094087893        7322821  2020-07-02T21:54:58.000Z             55.0   \n",
       "\n",
       "       data_arquivamento_usuario  \n",
       "462396                       NaN  \n",
       "462581                       NaN  \n",
       "462645                       NaN  \n",
       "462651                       NaN  \n",
       "462828                       NaN  \n",
       "462876                       NaN  "
      ]
     },
     "execution_count": 8,
     "metadata": {},
     "output_type": "execute_result"
    }
   ],
   "source": [
    "df[cond1]"
   ]
  },
  {
   "cell_type": "code",
   "execution_count": null,
   "metadata": {},
   "outputs": [],
   "source": []
  }
 ],
 "metadata": {
  "kernelspec": {
   "display_name": "Python 3",
   "language": "python",
   "name": "python3"
  },
  "language_info": {
   "codemirror_mode": {
    "name": "ipython",
    "version": 3
   },
   "file_extension": ".py",
   "mimetype": "text/x-python",
   "name": "python",
   "nbconvert_exporter": "python",
   "pygments_lexer": "ipython3",
   "version": "3.7.3"
  }
 },
 "nbformat": 4,
 "nbformat_minor": 4
}
