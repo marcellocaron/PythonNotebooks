{
 "cells": [
  {
   "cell_type": "code",
   "execution_count": 10,
   "metadata": {},
   "outputs": [],
   "source": [
    "import pandas as pd"
   ]
  },
  {
   "cell_type": "code",
   "execution_count": 63,
   "metadata": {},
   "outputs": [],
   "source": [
    "pd.set_option('display.float_format', lambda x: '%.3f' % x)"
   ]
  },
  {
   "cell_type": "code",
   "execution_count": 11,
   "metadata": {},
   "outputs": [],
   "source": [
    "mail = pd.read_csv('data/DRAGONLEARN_PROFESSOR_2_EMAIL.csv')"
   ]
  },
  {
   "cell_type": "code",
   "execution_count": 29,
   "metadata": {},
   "outputs": [
    {
     "data": {
      "text/html": [
       "<div>\n",
       "<style scoped>\n",
       "    .dataframe tbody tr th:only-of-type {\n",
       "        vertical-align: middle;\n",
       "    }\n",
       "\n",
       "    .dataframe tbody tr th {\n",
       "        vertical-align: top;\n",
       "    }\n",
       "\n",
       "    .dataframe thead th {\n",
       "        text-align: right;\n",
       "    }\n",
       "</style>\n",
       "<table border=\"1\" class=\"dataframe\">\n",
       "  <thead>\n",
       "    <tr style=\"text-align: right;\">\n",
       "      <th></th>\n",
       "      <th>NR_CPF</th>\n",
       "      <th>EMAIL</th>\n",
       "    </tr>\n",
       "  </thead>\n",
       "  <tbody>\n",
       "    <tr>\n",
       "      <th>0</th>\n",
       "      <td>32877611884</td>\n",
       "      <td>patricia.rosa02@educacao.sp.gov.br</td>\n",
       "    </tr>\n",
       "    <tr>\n",
       "      <th>1</th>\n",
       "      <td>6501584825</td>\n",
       "      <td>cleuzenir.cruzue@educacao.sp.gov.br</td>\n",
       "    </tr>\n",
       "    <tr>\n",
       "      <th>2</th>\n",
       "      <td>5902187869</td>\n",
       "      <td>jorge.boldrin@educacao.sp.gov.br</td>\n",
       "    </tr>\n",
       "    <tr>\n",
       "      <th>3</th>\n",
       "      <td>36992830899</td>\n",
       "      <td>milena.bueno@educacao.sp.gov.br</td>\n",
       "    </tr>\n",
       "    <tr>\n",
       "      <th>4</th>\n",
       "      <td>21727010841</td>\n",
       "      <td>livia.ribeiro01@educacao.sp.gov.br</td>\n",
       "    </tr>\n",
       "  </tbody>\n",
       "</table>\n",
       "</div>"
      ],
      "text/plain": [
       "        NR_CPF                                EMAIL\n",
       "0  32877611884   patricia.rosa02@educacao.sp.gov.br\n",
       "1   6501584825  cleuzenir.cruzue@educacao.sp.gov.br\n",
       "2   5902187869     jorge.boldrin@educacao.sp.gov.br\n",
       "3  36992830899      milena.bueno@educacao.sp.gov.br\n",
       "4  21727010841   livia.ribeiro01@educacao.sp.gov.br"
      ]
     },
     "execution_count": 29,
     "metadata": {},
     "output_type": "execute_result"
    }
   ],
   "source": [
    "mail.head()"
   ]
  },
  {
   "cell_type": "code",
   "execution_count": 43,
   "metadata": {},
   "outputs": [],
   "source": [
    "prof = pd.read_csv('data/DRAGONLEARN_PROFESSOR_3.csv', sep=',',low_memory=False)"
   ]
  },
  {
   "cell_type": "code",
   "execution_count": 44,
   "metadata": {},
   "outputs": [
    {
     "data": {
      "text/html": [
       "<div>\n",
       "<style scoped>\n",
       "    .dataframe tbody tr th:only-of-type {\n",
       "        vertical-align: middle;\n",
       "    }\n",
       "\n",
       "    .dataframe tbody tr th {\n",
       "        vertical-align: top;\n",
       "    }\n",
       "\n",
       "    .dataframe thead th {\n",
       "        text-align: right;\n",
       "    }\n",
       "</style>\n",
       "<table border=\"1\" class=\"dataframe\">\n",
       "  <thead>\n",
       "    <tr style=\"text-align: right;\">\n",
       "      <th></th>\n",
       "      <th>NOME</th>\n",
       "      <th>SOBRENOME</th>\n",
       "      <th>EMAIL_1</th>\n",
       "      <th>DT_NASCIMENTO</th>\n",
       "      <th>TELEFONE</th>\n",
       "      <th>EMAIL_DIRETOR</th>\n",
       "      <th>TIPO_ESCOLA</th>\n",
       "      <th>DIRETORIA</th>\n",
       "      <th>NOME_ESCOLA</th>\n",
       "      <th>NR_CPF</th>\n",
       "    </tr>\n",
       "  </thead>\n",
       "  <tbody>\n",
       "    <tr>\n",
       "      <th>0</th>\n",
       "      <td>ABADIR</td>\n",
       "      <td>ROCHA MACIEL</td>\n",
       "      <td>abadir@professor.educacao.sp.gov.br</td>\n",
       "      <td>12.02.1960</td>\n",
       "      <td>NaN</td>\n",
       "      <td>paula.lima@educacao.sp.gov.br</td>\n",
       "      <td>Estadual</td>\n",
       "      <td>MARILIA</td>\n",
       "      <td>NASIB CURY</td>\n",
       "      <td>7.095088e+10</td>\n",
       "    </tr>\n",
       "    <tr>\n",
       "      <th>1</th>\n",
       "      <td>ABDO</td>\n",
       "      <td>DROUBI</td>\n",
       "      <td>abdodroubi@professor.educacao.sp.gov.br</td>\n",
       "      <td>12.01.1967</td>\n",
       "      <td>NaN</td>\n",
       "      <td>jose.junior06@educacao.sp.gov.br</td>\n",
       "      <td>Estadual</td>\n",
       "      <td>BARRETOS</td>\n",
       "      <td>PAULINA NUNES DE MORAES PROFESSORA</td>\n",
       "      <td>6.474330e+09</td>\n",
       "    </tr>\n",
       "    <tr>\n",
       "      <th>2</th>\n",
       "      <td>ABDO</td>\n",
       "      <td>DROUBI</td>\n",
       "      <td>abdodroubi@professor.educacao.sp.gov.br</td>\n",
       "      <td>12.01.1967</td>\n",
       "      <td>NaN</td>\n",
       "      <td>priscilla.silva01@educacao.sp.gov.br</td>\n",
       "      <td>Estadual</td>\n",
       "      <td>BARRETOS</td>\n",
       "      <td>PAULINA NUNES DE MORAES PROFESSORA</td>\n",
       "      <td>6.474330e+09</td>\n",
       "    </tr>\n",
       "    <tr>\n",
       "      <th>3</th>\n",
       "      <td>ABDOU</td>\n",
       "      <td>EID JUNIOR</td>\n",
       "      <td>abdou@professor.educacao.sp.gov.br</td>\n",
       "      <td>01.04.1986</td>\n",
       "      <td>NaN</td>\n",
       "      <td>alessandro.pedro@educacao.sp.gov.br</td>\n",
       "      <td>Estadual</td>\n",
       "      <td>JAU</td>\n",
       "      <td>PRADO MAJOR</td>\n",
       "      <td>3.762335e+10</td>\n",
       "    </tr>\n",
       "    <tr>\n",
       "      <th>4</th>\n",
       "      <td>ABEL</td>\n",
       "      <td>ALOISIO FERREIRA</td>\n",
       "      <td>abelferreira@professor.educacao.sp.gov.br</td>\n",
       "      <td>04.01.1980</td>\n",
       "      <td>NaN</td>\n",
       "      <td>renato.schmidt@educacao.sp.gov.br</td>\n",
       "      <td>Estadual</td>\n",
       "      <td>CAPIVARI</td>\n",
       "      <td>HELIO CERQUEIRA LEITE PROFESSOR</td>\n",
       "      <td>2.759698e+10</td>\n",
       "    </tr>\n",
       "  </tbody>\n",
       "</table>\n",
       "</div>"
      ],
      "text/plain": [
       "     NOME         SOBRENOME                                    EMAIL_1  \\\n",
       "0  ABADIR      ROCHA MACIEL        abadir@professor.educacao.sp.gov.br   \n",
       "1    ABDO            DROUBI    abdodroubi@professor.educacao.sp.gov.br   \n",
       "2    ABDO            DROUBI    abdodroubi@professor.educacao.sp.gov.br   \n",
       "3   ABDOU        EID JUNIOR         abdou@professor.educacao.sp.gov.br   \n",
       "4    ABEL  ALOISIO FERREIRA  abelferreira@professor.educacao.sp.gov.br   \n",
       "\n",
       "  DT_NASCIMENTO  TELEFONE                         EMAIL_DIRETOR TIPO_ESCOLA  \\\n",
       "0    12.02.1960       NaN         paula.lima@educacao.sp.gov.br    Estadual   \n",
       "1    12.01.1967       NaN      jose.junior06@educacao.sp.gov.br    Estadual   \n",
       "2    12.01.1967       NaN  priscilla.silva01@educacao.sp.gov.br    Estadual   \n",
       "3    01.04.1986       NaN   alessandro.pedro@educacao.sp.gov.br    Estadual   \n",
       "4    04.01.1980       NaN     renato.schmidt@educacao.sp.gov.br    Estadual   \n",
       "\n",
       "  DIRETORIA                         NOME_ESCOLA        NR_CPF  \n",
       "0   MARILIA                          NASIB CURY  7.095088e+10  \n",
       "1  BARRETOS  PAULINA NUNES DE MORAES PROFESSORA  6.474330e+09  \n",
       "2  BARRETOS  PAULINA NUNES DE MORAES PROFESSORA  6.474330e+09  \n",
       "3       JAU                         PRADO MAJOR  3.762335e+10  \n",
       "4  CAPIVARI     HELIO CERQUEIRA LEITE PROFESSOR  2.759698e+10  "
      ]
     },
     "execution_count": 44,
     "metadata": {},
     "output_type": "execute_result"
    }
   ],
   "source": [
    "prof.head()"
   ]
  },
  {
   "cell_type": "code",
   "execution_count": 45,
   "metadata": {},
   "outputs": [
    {
     "data": {
      "text/plain": [
       "(128807, 10)"
      ]
     },
     "execution_count": 45,
     "metadata": {},
     "output_type": "execute_result"
    }
   ],
   "source": [
    "prof.shape"
   ]
  },
  {
   "cell_type": "code",
   "execution_count": 37,
   "metadata": {},
   "outputs": [
    {
     "data": {
      "text/plain": [
       "(21867, 2)"
      ]
     },
     "execution_count": 37,
     "metadata": {},
     "output_type": "execute_result"
    }
   ],
   "source": [
    "mail.shape"
   ]
  },
  {
   "cell_type": "code",
   "execution_count": 39,
   "metadata": {},
   "outputs": [
    {
     "data": {
      "text/plain": [
       "Index(['(128806 linhas afetadas)'], dtype='object')"
      ]
     },
     "execution_count": 39,
     "metadata": {},
     "output_type": "execute_result"
    }
   ],
   "source": [
    "prof.columns"
   ]
  },
  {
   "cell_type": "code",
   "execution_count": 46,
   "metadata": {},
   "outputs": [
    {
     "data": {
      "text/plain": [
       "6525"
      ]
     },
     "execution_count": 46,
     "metadata": {},
     "output_type": "execute_result"
    }
   ],
   "source": [
    "prof['EMAIL_1'].isna().sum()   # or s.isnull().sum() for older pandas versions"
   ]
  },
  {
   "cell_type": "code",
   "execution_count": 51,
   "metadata": {},
   "outputs": [],
   "source": [
    "prof_new = prof.merge(mail, how='left', on='NR_CPF')"
   ]
  },
  {
   "cell_type": "code",
   "execution_count": 52,
   "metadata": {},
   "outputs": [
    {
     "data": {
      "text/html": [
       "<div>\n",
       "<style scoped>\n",
       "    .dataframe tbody tr th:only-of-type {\n",
       "        vertical-align: middle;\n",
       "    }\n",
       "\n",
       "    .dataframe tbody tr th {\n",
       "        vertical-align: top;\n",
       "    }\n",
       "\n",
       "    .dataframe thead th {\n",
       "        text-align: right;\n",
       "    }\n",
       "</style>\n",
       "<table border=\"1\" class=\"dataframe\">\n",
       "  <thead>\n",
       "    <tr style=\"text-align: right;\">\n",
       "      <th></th>\n",
       "      <th>NOME</th>\n",
       "      <th>SOBRENOME</th>\n",
       "      <th>EMAIL_1</th>\n",
       "      <th>DT_NASCIMENTO</th>\n",
       "      <th>TELEFONE</th>\n",
       "      <th>EMAIL_DIRETOR</th>\n",
       "      <th>TIPO_ESCOLA</th>\n",
       "      <th>DIRETORIA</th>\n",
       "      <th>NOME_ESCOLA</th>\n",
       "      <th>NR_CPF</th>\n",
       "      <th>EMAIL</th>\n",
       "    </tr>\n",
       "  </thead>\n",
       "  <tbody>\n",
       "    <tr>\n",
       "      <th>0</th>\n",
       "      <td>ABADIR</td>\n",
       "      <td>ROCHA MACIEL</td>\n",
       "      <td>abadir@professor.educacao.sp.gov.br</td>\n",
       "      <td>12.02.1960</td>\n",
       "      <td>NaN</td>\n",
       "      <td>paula.lima@educacao.sp.gov.br</td>\n",
       "      <td>Estadual</td>\n",
       "      <td>MARILIA</td>\n",
       "      <td>NASIB CURY</td>\n",
       "      <td>7.095088e+10</td>\n",
       "      <td>NaN</td>\n",
       "    </tr>\n",
       "    <tr>\n",
       "      <th>1</th>\n",
       "      <td>ABDO</td>\n",
       "      <td>DROUBI</td>\n",
       "      <td>abdodroubi@professor.educacao.sp.gov.br</td>\n",
       "      <td>12.01.1967</td>\n",
       "      <td>NaN</td>\n",
       "      <td>jose.junior06@educacao.sp.gov.br</td>\n",
       "      <td>Estadual</td>\n",
       "      <td>BARRETOS</td>\n",
       "      <td>PAULINA NUNES DE MORAES PROFESSORA</td>\n",
       "      <td>6.474330e+09</td>\n",
       "      <td>NaN</td>\n",
       "    </tr>\n",
       "    <tr>\n",
       "      <th>2</th>\n",
       "      <td>ABDO</td>\n",
       "      <td>DROUBI</td>\n",
       "      <td>abdodroubi@professor.educacao.sp.gov.br</td>\n",
       "      <td>12.01.1967</td>\n",
       "      <td>NaN</td>\n",
       "      <td>priscilla.silva01@educacao.sp.gov.br</td>\n",
       "      <td>Estadual</td>\n",
       "      <td>BARRETOS</td>\n",
       "      <td>PAULINA NUNES DE MORAES PROFESSORA</td>\n",
       "      <td>6.474330e+09</td>\n",
       "      <td>NaN</td>\n",
       "    </tr>\n",
       "    <tr>\n",
       "      <th>3</th>\n",
       "      <td>ABDOU</td>\n",
       "      <td>EID JUNIOR</td>\n",
       "      <td>abdou@professor.educacao.sp.gov.br</td>\n",
       "      <td>01.04.1986</td>\n",
       "      <td>NaN</td>\n",
       "      <td>alessandro.pedro@educacao.sp.gov.br</td>\n",
       "      <td>Estadual</td>\n",
       "      <td>JAU</td>\n",
       "      <td>PRADO MAJOR</td>\n",
       "      <td>3.762335e+10</td>\n",
       "      <td>NaN</td>\n",
       "    </tr>\n",
       "    <tr>\n",
       "      <th>4</th>\n",
       "      <td>ABEL</td>\n",
       "      <td>ALOISIO FERREIRA</td>\n",
       "      <td>abelferreira@professor.educacao.sp.gov.br</td>\n",
       "      <td>04.01.1980</td>\n",
       "      <td>NaN</td>\n",
       "      <td>renato.schmidt@educacao.sp.gov.br</td>\n",
       "      <td>Estadual</td>\n",
       "      <td>CAPIVARI</td>\n",
       "      <td>HELIO CERQUEIRA LEITE PROFESSOR</td>\n",
       "      <td>2.759698e+10</td>\n",
       "      <td>abel.ferreira@educacao.sp.gov.br</td>\n",
       "    </tr>\n",
       "  </tbody>\n",
       "</table>\n",
       "</div>"
      ],
      "text/plain": [
       "     NOME         SOBRENOME                                    EMAIL_1  \\\n",
       "0  ABADIR      ROCHA MACIEL        abadir@professor.educacao.sp.gov.br   \n",
       "1    ABDO            DROUBI    abdodroubi@professor.educacao.sp.gov.br   \n",
       "2    ABDO            DROUBI    abdodroubi@professor.educacao.sp.gov.br   \n",
       "3   ABDOU        EID JUNIOR         abdou@professor.educacao.sp.gov.br   \n",
       "4    ABEL  ALOISIO FERREIRA  abelferreira@professor.educacao.sp.gov.br   \n",
       "\n",
       "  DT_NASCIMENTO  TELEFONE                         EMAIL_DIRETOR TIPO_ESCOLA  \\\n",
       "0    12.02.1960       NaN         paula.lima@educacao.sp.gov.br    Estadual   \n",
       "1    12.01.1967       NaN      jose.junior06@educacao.sp.gov.br    Estadual   \n",
       "2    12.01.1967       NaN  priscilla.silva01@educacao.sp.gov.br    Estadual   \n",
       "3    01.04.1986       NaN   alessandro.pedro@educacao.sp.gov.br    Estadual   \n",
       "4    04.01.1980       NaN     renato.schmidt@educacao.sp.gov.br    Estadual   \n",
       "\n",
       "  DIRETORIA                         NOME_ESCOLA        NR_CPF  \\\n",
       "0   MARILIA                          NASIB CURY  7.095088e+10   \n",
       "1  BARRETOS  PAULINA NUNES DE MORAES PROFESSORA  6.474330e+09   \n",
       "2  BARRETOS  PAULINA NUNES DE MORAES PROFESSORA  6.474330e+09   \n",
       "3       JAU                         PRADO MAJOR  3.762335e+10   \n",
       "4  CAPIVARI     HELIO CERQUEIRA LEITE PROFESSOR  2.759698e+10   \n",
       "\n",
       "                              EMAIL  \n",
       "0                               NaN  \n",
       "1                               NaN  \n",
       "2                               NaN  \n",
       "3                               NaN  \n",
       "4  abel.ferreira@educacao.sp.gov.br  "
      ]
     },
     "execution_count": 52,
     "metadata": {},
     "output_type": "execute_result"
    }
   ],
   "source": [
    "prof_new.head()"
   ]
  },
  {
   "cell_type": "code",
   "execution_count": 53,
   "metadata": {},
   "outputs": [
    {
     "data": {
      "text/plain": [
       "(128807, 11)"
      ]
     },
     "execution_count": 53,
     "metadata": {},
     "output_type": "execute_result"
    }
   ],
   "source": [
    "prof_new.shape"
   ]
  },
  {
   "cell_type": "code",
   "execution_count": 54,
   "metadata": {},
   "outputs": [
    {
     "data": {
      "text/plain": [
       "6525"
      ]
     },
     "execution_count": 54,
     "metadata": {},
     "output_type": "execute_result"
    }
   ],
   "source": [
    "prof_new['EMAIL_1'].isna().sum()   # or s.isnull().sum() for older pandas versions"
   ]
  },
  {
   "cell_type": "code",
   "execution_count": 55,
   "metadata": {},
   "outputs": [
    {
     "data": {
      "text/plain": [
       "6525"
      ]
     },
     "execution_count": 55,
     "metadata": {},
     "output_type": "execute_result"
    }
   ],
   "source": [
    "prof_new['EMAIL_1'].isna().sum()   # or s.isnull().sum() for older pandas versions"
   ]
  },
  {
   "cell_type": "code",
   "execution_count": 57,
   "metadata": {},
   "outputs": [],
   "source": [
    "prof_null = prof_new[prof_new.EMAIL_1.isna() & prof_new.EMAIL_1.isna()]  # or s.isnull().sum() for older pandas versions"
   ]
  },
  {
   "cell_type": "code",
   "execution_count": 64,
   "metadata": {},
   "outputs": [
    {
     "data": {
      "text/html": [
       "<div>\n",
       "<style scoped>\n",
       "    .dataframe tbody tr th:only-of-type {\n",
       "        vertical-align: middle;\n",
       "    }\n",
       "\n",
       "    .dataframe tbody tr th {\n",
       "        vertical-align: top;\n",
       "    }\n",
       "\n",
       "    .dataframe thead th {\n",
       "        text-align: right;\n",
       "    }\n",
       "</style>\n",
       "<table border=\"1\" class=\"dataframe\">\n",
       "  <thead>\n",
       "    <tr style=\"text-align: right;\">\n",
       "      <th></th>\n",
       "      <th>NOME</th>\n",
       "      <th>SOBRENOME</th>\n",
       "      <th>EMAIL_1</th>\n",
       "      <th>DT_NASCIMENTO</th>\n",
       "      <th>TELEFONE</th>\n",
       "      <th>EMAIL_DIRETOR</th>\n",
       "      <th>TIPO_ESCOLA</th>\n",
       "      <th>DIRETORIA</th>\n",
       "      <th>NOME_ESCOLA</th>\n",
       "      <th>NR_CPF</th>\n",
       "      <th>EMAIL</th>\n",
       "    </tr>\n",
       "  </thead>\n",
       "  <tbody>\n",
       "    <tr>\n",
       "      <th>8</th>\n",
       "      <td>ABEL</td>\n",
       "      <td>ROBSON BARBOSA SOARES</td>\n",
       "      <td>NaN</td>\n",
       "      <td>03.02.1976</td>\n",
       "      <td>nan</td>\n",
       "      <td>claudia.batista1@educacao.sp.gov.br</td>\n",
       "      <td>Estadual</td>\n",
       "      <td>SAO VICENTE</td>\n",
       "      <td>LUIZ D AUREA PROFESSOR</td>\n",
       "      <td>17692426864.000</td>\n",
       "      <td>NaN</td>\n",
       "    </tr>\n",
       "    <tr>\n",
       "      <th>29</th>\n",
       "      <td>ABIGAIL</td>\n",
       "      <td>NEIDE DA SILVA SANTOS</td>\n",
       "      <td>NaN</td>\n",
       "      <td>10.07.1982</td>\n",
       "      <td>nan</td>\n",
       "      <td>eric.colo@educacao.sp.gov.br</td>\n",
       "      <td>Estadual</td>\n",
       "      <td>SUL 1</td>\n",
       "      <td>JOAO AMOS COMENIUS</td>\n",
       "      <td>30886172810.000</td>\n",
       "      <td>NaN</td>\n",
       "    </tr>\n",
       "    <tr>\n",
       "      <th>57</th>\n",
       "      <td>ABNER</td>\n",
       "      <td>MIGUEL RODRIGUES PEREIRA</td>\n",
       "      <td>NaN</td>\n",
       "      <td>09.05.1993</td>\n",
       "      <td>nan</td>\n",
       "      <td>silvia.souza03@educacao.sp.gov.br</td>\n",
       "      <td>Estadual</td>\n",
       "      <td>TABOAO DA SERRA</td>\n",
       "      <td>JACQUES KLEIN</td>\n",
       "      <td>42441421859.000</td>\n",
       "      <td>NaN</td>\n",
       "    </tr>\n",
       "    <tr>\n",
       "      <th>63</th>\n",
       "      <td>ABRAAO</td>\n",
       "      <td>LOPES SAMPAIO</td>\n",
       "      <td>NaN</td>\n",
       "      <td>21.05.1964</td>\n",
       "      <td>nan</td>\n",
       "      <td>aguinaldo.costa@educacao.sp.gov.br</td>\n",
       "      <td>Estadual</td>\n",
       "      <td>JUNDIAI</td>\n",
       "      <td>ODILON LEITE FERRAZ</td>\n",
       "      <td>37824090434.000</td>\n",
       "      <td>NaN</td>\n",
       "    </tr>\n",
       "    <tr>\n",
       "      <th>107</th>\n",
       "      <td>ADABERON</td>\n",
       "      <td>BATISTA FERRO</td>\n",
       "      <td>NaN</td>\n",
       "      <td>26.12.1977</td>\n",
       "      <td>nan</td>\n",
       "      <td>silvana.cruz@educacao.sp.gov.br</td>\n",
       "      <td>Estadual</td>\n",
       "      <td>LESTE 1</td>\n",
       "      <td>ERMELINO MATARAZZO</td>\n",
       "      <td>18592362865.000</td>\n",
       "      <td>NaN</td>\n",
       "    </tr>\n",
       "  </tbody>\n",
       "</table>\n",
       "</div>"
      ],
      "text/plain": [
       "         NOME                 SOBRENOME EMAIL_1 DT_NASCIMENTO  TELEFONE  \\\n",
       "8        ABEL     ROBSON BARBOSA SOARES     NaN    03.02.1976       nan   \n",
       "29    ABIGAIL     NEIDE DA SILVA SANTOS     NaN    10.07.1982       nan   \n",
       "57      ABNER  MIGUEL RODRIGUES PEREIRA     NaN    09.05.1993       nan   \n",
       "63     ABRAAO             LOPES SAMPAIO     NaN    21.05.1964       nan   \n",
       "107  ADABERON             BATISTA FERRO     NaN    26.12.1977       nan   \n",
       "\n",
       "                           EMAIL_DIRETOR TIPO_ESCOLA        DIRETORIA  \\\n",
       "8    claudia.batista1@educacao.sp.gov.br    Estadual      SAO VICENTE   \n",
       "29          eric.colo@educacao.sp.gov.br    Estadual            SUL 1   \n",
       "57     silvia.souza03@educacao.sp.gov.br    Estadual  TABOAO DA SERRA   \n",
       "63    aguinaldo.costa@educacao.sp.gov.br    Estadual          JUNDIAI   \n",
       "107      silvana.cruz@educacao.sp.gov.br    Estadual          LESTE 1   \n",
       "\n",
       "                NOME_ESCOLA          NR_CPF EMAIL  \n",
       "8    LUIZ D AUREA PROFESSOR 17692426864.000   NaN  \n",
       "29       JOAO AMOS COMENIUS 30886172810.000   NaN  \n",
       "57            JACQUES KLEIN 42441421859.000   NaN  \n",
       "63      ODILON LEITE FERRAZ 37824090434.000   NaN  \n",
       "107      ERMELINO MATARAZZO 18592362865.000   NaN  "
      ]
     },
     "execution_count": 64,
     "metadata": {},
     "output_type": "execute_result"
    }
   ],
   "source": [
    "prof_null.head()"
   ]
  },
  {
   "cell_type": "code",
   "execution_count": 62,
   "metadata": {},
   "outputs": [
    {
     "data": {
      "text/plain": [
       "NOME              object\n",
       "SOBRENOME         object\n",
       "EMAIL_1           object\n",
       "DT_NASCIMENTO     object\n",
       "TELEFONE         float64\n",
       "EMAIL_DIRETOR     object\n",
       "TIPO_ESCOLA       object\n",
       "DIRETORIA         object\n",
       "NOME_ESCOLA       object\n",
       "NR_CPF           float64\n",
       "EMAIL             object\n",
       "dtype: object"
      ]
     },
     "execution_count": 62,
     "metadata": {},
     "output_type": "execute_result"
    }
   ],
   "source": [
    "prof_null.dtypes"
   ]
  },
  {
   "cell_type": "code",
   "execution_count": null,
   "metadata": {},
   "outputs": [],
   "source": []
  }
 ],
 "metadata": {
  "kernelspec": {
   "display_name": "Python 3",
   "language": "python",
   "name": "python3"
  },
  "language_info": {
   "codemirror_mode": {
    "name": "ipython",
    "version": 3
   },
   "file_extension": ".py",
   "mimetype": "text/x-python",
   "name": "python",
   "nbconvert_exporter": "python",
   "pygments_lexer": "ipython3",
   "version": "3.7.3"
  }
 },
 "nbformat": 4,
 "nbformat_minor": 4
}
