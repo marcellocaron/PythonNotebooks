{
 "cells": [
  {
   "cell_type": "code",
   "execution_count": 2,
   "metadata": {},
   "outputs": [],
   "source": [
    "import pandas as pd\n",
    "import seaborn as sns\n",
    "import matplotlib.pyplot as plt\n",
    "import numpy as np"
   ]
  },
  {
   "cell_type": "code",
   "execution_count": 3,
   "metadata": {},
   "outputs": [
    {
     "data": {
      "text/plain": [
       "'/Users/marcello/Python Notebooks'"
      ]
     },
     "execution_count": 3,
     "metadata": {},
     "output_type": "execute_result"
    }
   ],
   "source": [
    "pwd"
   ]
  },
  {
   "cell_type": "code",
   "execution_count": 4,
   "metadata": {},
   "outputs": [],
   "source": [
    "#df = pd.read_csv('Downloads/20200505_cmsp_cmspi_name.csv')\n",
    "df = pd.read_csv('data/20200505_cmsp_cmspi_name.csv')"
   ]
  },
  {
   "cell_type": "code",
   "execution_count": 5,
   "metadata": {},
   "outputs": [
    {
     "data": {
      "text/plain": [
       "(1516659, 4)"
      ]
     },
     "execution_count": 5,
     "metadata": {},
     "output_type": "execute_result"
    }
   ],
   "source": [
    "df.shape"
   ]
  },
  {
   "cell_type": "code",
   "execution_count": 6,
   "metadata": {},
   "outputs": [
    {
     "data": {
      "text/html": [
       "<div>\n",
       "<style scoped>\n",
       "    .dataframe tbody tr th:only-of-type {\n",
       "        vertical-align: middle;\n",
       "    }\n",
       "\n",
       "    .dataframe tbody tr th {\n",
       "        vertical-align: top;\n",
       "    }\n",
       "\n",
       "    .dataframe thead th {\n",
       "        text-align: right;\n",
       "    }\n",
       "</style>\n",
       "<table border=\"1\" class=\"dataframe\">\n",
       "  <thead>\n",
       "    <tr style=\"text-align: right;\">\n",
       "      <th></th>\n",
       "      <th>eduspId</th>\n",
       "      <th>name</th>\n",
       "      <th>nick</th>\n",
       "      <th>createdAt</th>\n",
       "    </tr>\n",
       "  </thead>\n",
       "  <tbody>\n",
       "    <tr>\n",
       "      <th>0</th>\n",
       "      <td>00001144500618sp</td>\n",
       "      <td>DAVI DOUGLAS JERONIMO DE ANDRADE</td>\n",
       "      <td>_00001144500618-sp</td>\n",
       "      <td>2020-05-05T10:26:22.000Z</td>\n",
       "    </tr>\n",
       "    <tr>\n",
       "      <th>1</th>\n",
       "      <td>1082564266sp</td>\n",
       "      <td>evelyn karolaine</td>\n",
       "      <td>_0001082564266sp-sp</td>\n",
       "      <td>2020-04-30T13:24:24.000Z</td>\n",
       "    </tr>\n",
       "    <tr>\n",
       "      <th>2</th>\n",
       "      <td>00001077715560sp</td>\n",
       "      <td>Yago Matheus Souza Paes</td>\n",
       "      <td>_02072004-sp</td>\n",
       "      <td>2020-04-28T18:39:50.000Z</td>\n",
       "    </tr>\n",
       "    <tr>\n",
       "      <th>3</th>\n",
       "      <td>000109682713xsp</td>\n",
       "      <td>JULIA BEATRIZ MORELLI DOS SANTOS</td>\n",
       "      <td>_04juuuh-sp</td>\n",
       "      <td>2020-04-29T21:55:08.000Z</td>\n",
       "    </tr>\n",
       "    <tr>\n",
       "      <th>4</th>\n",
       "      <td>0001089986518sp</td>\n",
       "      <td>julia mota de Almeida</td>\n",
       "      <td>_089986518-sp</td>\n",
       "      <td>2020-05-05T10:17:17.000Z</td>\n",
       "    </tr>\n",
       "  </tbody>\n",
       "</table>\n",
       "</div>"
      ],
      "text/plain": [
       "            eduspId                              name                 nick  \\\n",
       "0  00001144500618sp  DAVI DOUGLAS JERONIMO DE ANDRADE   _00001144500618-sp   \n",
       "1      1082564266sp                  evelyn karolaine  _0001082564266sp-sp   \n",
       "2  00001077715560sp           Yago Matheus Souza Paes         _02072004-sp   \n",
       "3   000109682713xsp  JULIA BEATRIZ MORELLI DOS SANTOS          _04juuuh-sp   \n",
       "4   0001089986518sp             julia mota de Almeida        _089986518-sp   \n",
       "\n",
       "                  createdAt  \n",
       "0  2020-05-05T10:26:22.000Z  \n",
       "1  2020-04-30T13:24:24.000Z  \n",
       "2  2020-04-28T18:39:50.000Z  \n",
       "3  2020-04-29T21:55:08.000Z  \n",
       "4  2020-05-05T10:17:17.000Z  "
      ]
     },
     "execution_count": 6,
     "metadata": {},
     "output_type": "execute_result"
    }
   ],
   "source": [
    "df.head()"
   ]
  },
  {
   "cell_type": "code",
   "execution_count": 7,
   "metadata": {},
   "outputs": [],
   "source": [
    "#df = df[df['eduspId'].str.contains(\"rg\")]"
   ]
  },
  {
   "cell_type": "code",
   "execution_count": 8,
   "metadata": {},
   "outputs": [
    {
     "data": {
      "text/plain": [
       "(1516659, 4)"
      ]
     },
     "execution_count": 8,
     "metadata": {},
     "output_type": "execute_result"
    }
   ],
   "source": [
    "df.shape"
   ]
  },
  {
   "cell_type": "code",
   "execution_count": 9,
   "metadata": {},
   "outputs": [],
   "source": [
    "#pd.set_option('display.max_rows', 3000)\n",
    "#print(df)"
   ]
  },
  {
   "cell_type": "code",
   "execution_count": 10,
   "metadata": {},
   "outputs": [],
   "source": [
    "a = df['eduspId'].str.lstrip('0')"
   ]
  },
  {
   "cell_type": "code",
   "execution_count": 11,
   "metadata": {},
   "outputs": [],
   "source": [
    "a = a.str.upper()"
   ]
  },
  {
   "cell_type": "code",
   "execution_count": 12,
   "metadata": {},
   "outputs": [],
   "source": [
    "df_ajustado = df.assign(login=a)"
   ]
  },
  {
   "cell_type": "code",
   "execution_count": 13,
   "metadata": {},
   "outputs": [
    {
     "data": {
      "text/html": [
       "<div>\n",
       "<style scoped>\n",
       "    .dataframe tbody tr th:only-of-type {\n",
       "        vertical-align: middle;\n",
       "    }\n",
       "\n",
       "    .dataframe tbody tr th {\n",
       "        vertical-align: top;\n",
       "    }\n",
       "\n",
       "    .dataframe thead th {\n",
       "        text-align: right;\n",
       "    }\n",
       "</style>\n",
       "<table border=\"1\" class=\"dataframe\">\n",
       "  <thead>\n",
       "    <tr style=\"text-align: right;\">\n",
       "      <th></th>\n",
       "      <th>eduspId</th>\n",
       "      <th>name</th>\n",
       "      <th>nick</th>\n",
       "      <th>createdAt</th>\n",
       "      <th>login</th>\n",
       "    </tr>\n",
       "  </thead>\n",
       "  <tbody>\n",
       "    <tr>\n",
       "      <th>0</th>\n",
       "      <td>00001144500618sp</td>\n",
       "      <td>DAVI DOUGLAS JERONIMO DE ANDRADE</td>\n",
       "      <td>_00001144500618-sp</td>\n",
       "      <td>2020-05-05T10:26:22.000Z</td>\n",
       "      <td>1144500618SP</td>\n",
       "    </tr>\n",
       "    <tr>\n",
       "      <th>1</th>\n",
       "      <td>1082564266sp</td>\n",
       "      <td>evelyn karolaine</td>\n",
       "      <td>_0001082564266sp-sp</td>\n",
       "      <td>2020-04-30T13:24:24.000Z</td>\n",
       "      <td>1082564266SP</td>\n",
       "    </tr>\n",
       "    <tr>\n",
       "      <th>2</th>\n",
       "      <td>00001077715560sp</td>\n",
       "      <td>Yago Matheus Souza Paes</td>\n",
       "      <td>_02072004-sp</td>\n",
       "      <td>2020-04-28T18:39:50.000Z</td>\n",
       "      <td>1077715560SP</td>\n",
       "    </tr>\n",
       "    <tr>\n",
       "      <th>3</th>\n",
       "      <td>000109682713xsp</td>\n",
       "      <td>JULIA BEATRIZ MORELLI DOS SANTOS</td>\n",
       "      <td>_04juuuh-sp</td>\n",
       "      <td>2020-04-29T21:55:08.000Z</td>\n",
       "      <td>109682713XSP</td>\n",
       "    </tr>\n",
       "    <tr>\n",
       "      <th>4</th>\n",
       "      <td>0001089986518sp</td>\n",
       "      <td>julia mota de Almeida</td>\n",
       "      <td>_089986518-sp</td>\n",
       "      <td>2020-05-05T10:17:17.000Z</td>\n",
       "      <td>1089986518SP</td>\n",
       "    </tr>\n",
       "  </tbody>\n",
       "</table>\n",
       "</div>"
      ],
      "text/plain": [
       "            eduspId                              name                 nick  \\\n",
       "0  00001144500618sp  DAVI DOUGLAS JERONIMO DE ANDRADE   _00001144500618-sp   \n",
       "1      1082564266sp                  evelyn karolaine  _0001082564266sp-sp   \n",
       "2  00001077715560sp           Yago Matheus Souza Paes         _02072004-sp   \n",
       "3   000109682713xsp  JULIA BEATRIZ MORELLI DOS SANTOS          _04juuuh-sp   \n",
       "4   0001089986518sp             julia mota de Almeida        _089986518-sp   \n",
       "\n",
       "                  createdAt         login  \n",
       "0  2020-05-05T10:26:22.000Z  1144500618SP  \n",
       "1  2020-04-30T13:24:24.000Z  1082564266SP  \n",
       "2  2020-04-28T18:39:50.000Z  1077715560SP  \n",
       "3  2020-04-29T21:55:08.000Z  109682713XSP  \n",
       "4  2020-05-05T10:17:17.000Z  1089986518SP  "
      ]
     },
     "execution_count": 13,
     "metadata": {},
     "output_type": "execute_result"
    }
   ],
   "source": [
    "df_ajustado.head()"
   ]
  },
  {
   "cell_type": "code",
   "execution_count": 14,
   "metadata": {},
   "outputs": [
    {
     "data": {
      "text/plain": [
       "(1516659, 5)"
      ]
     },
     "execution_count": 14,
     "metadata": {},
     "output_type": "execute_result"
    }
   ],
   "source": [
    "df_ajustado.shape"
   ]
  },
  {
   "cell_type": "code",
   "execution_count": 24,
   "metadata": {},
   "outputs": [
    {
     "data": {
      "text/plain": [
       "(1465782, 2)"
      ]
     },
     "execution_count": 24,
     "metadata": {},
     "output_type": "execute_result"
    }
   ],
   "source": [
    "columns = ['login', 'name']\n",
    "df_ajustado = df_ajustado[columns].drop_duplicates()\n",
    "df_ajustado.head()\n",
    "df_ajustado.shape"
   ]
  },
  {
   "cell_type": "code",
   "execution_count": 25,
   "metadata": {},
   "outputs": [],
   "source": [
    "alunos = pd.read_csv('data/alunos.csv', sep=';')"
   ]
  },
  {
   "cell_type": "code",
   "execution_count": 26,
   "metadata": {},
   "outputs": [
    {
     "data": {
      "text/html": [
       "<div>\n",
       "<style scoped>\n",
       "    .dataframe tbody tr th:only-of-type {\n",
       "        vertical-align: middle;\n",
       "    }\n",
       "\n",
       "    .dataframe tbody tr th {\n",
       "        vertical-align: top;\n",
       "    }\n",
       "\n",
       "    .dataframe thead th {\n",
       "        text-align: right;\n",
       "    }\n",
       "</style>\n",
       "<table border=\"1\" class=\"dataframe\">\n",
       "  <thead>\n",
       "    <tr style=\"text-align: right;\">\n",
       "      <th></th>\n",
       "      <th>nm_login</th>\n",
       "      <th>cd_escola</th>\n",
       "      <th>nm_completo_escola</th>\n",
       "      <th>nm_diretoria</th>\n",
       "      <th>cd_tipo_ensino_equivalente</th>\n",
       "      <th>nr_serie_equivalente</th>\n",
       "      <th>cd_aluno</th>\n",
       "    </tr>\n",
       "  </thead>\n",
       "  <tbody>\n",
       "    <tr>\n",
       "      <th>0</th>\n",
       "      <td>00001095141120SP</td>\n",
       "      <td>32165</td>\n",
       "      <td>JOSE SANCHES POSTIGO DEPUTADO</td>\n",
       "      <td>SANTO ANASTACIO</td>\n",
       "      <td>14</td>\n",
       "      <td>7</td>\n",
       "      <td>26985331</td>\n",
       "    </tr>\n",
       "    <tr>\n",
       "      <th>1</th>\n",
       "      <td>00001114747798SP</td>\n",
       "      <td>32165</td>\n",
       "      <td>JOSE SANCHES POSTIGO DEPUTADO</td>\n",
       "      <td>SANTO ANASTACIO</td>\n",
       "      <td>14</td>\n",
       "      <td>7</td>\n",
       "      <td>28945996</td>\n",
       "    </tr>\n",
       "    <tr>\n",
       "      <th>2</th>\n",
       "      <td>00001074567456SP</td>\n",
       "      <td>32165</td>\n",
       "      <td>JOSE SANCHES POSTIGO DEPUTADO</td>\n",
       "      <td>SANTO ANASTACIO</td>\n",
       "      <td>14</td>\n",
       "      <td>7</td>\n",
       "      <td>24927968</td>\n",
       "    </tr>\n",
       "    <tr>\n",
       "      <th>3</th>\n",
       "      <td>00001075378400SP</td>\n",
       "      <td>32165</td>\n",
       "      <td>JOSE SANCHES POSTIGO DEPUTADO</td>\n",
       "      <td>SANTO ANASTACIO</td>\n",
       "      <td>14</td>\n",
       "      <td>7</td>\n",
       "      <td>25009063</td>\n",
       "    </tr>\n",
       "    <tr>\n",
       "      <th>4</th>\n",
       "      <td>0000107865122XSP</td>\n",
       "      <td>32165</td>\n",
       "      <td>JOSE SANCHES POSTIGO DEPUTADO</td>\n",
       "      <td>SANTO ANASTACIO</td>\n",
       "      <td>14</td>\n",
       "      <td>7</td>\n",
       "      <td>25336343</td>\n",
       "    </tr>\n",
       "  </tbody>\n",
       "</table>\n",
       "</div>"
      ],
      "text/plain": [
       "           nm_login  cd_escola             nm_completo_escola  \\\n",
       "0  00001095141120SP      32165  JOSE SANCHES POSTIGO DEPUTADO   \n",
       "1  00001114747798SP      32165  JOSE SANCHES POSTIGO DEPUTADO   \n",
       "2  00001074567456SP      32165  JOSE SANCHES POSTIGO DEPUTADO   \n",
       "3  00001075378400SP      32165  JOSE SANCHES POSTIGO DEPUTADO   \n",
       "4  0000107865122XSP      32165  JOSE SANCHES POSTIGO DEPUTADO   \n",
       "\n",
       "      nm_diretoria  cd_tipo_ensino_equivalente  nr_serie_equivalente  cd_aluno  \n",
       "0  SANTO ANASTACIO                          14                     7  26985331  \n",
       "1  SANTO ANASTACIO                          14                     7  28945996  \n",
       "2  SANTO ANASTACIO                          14                     7  24927968  \n",
       "3  SANTO ANASTACIO                          14                     7  25009063  \n",
       "4  SANTO ANASTACIO                          14                     7  25336343  "
      ]
     },
     "execution_count": 26,
     "metadata": {},
     "output_type": "execute_result"
    }
   ],
   "source": [
    "alunos.head()"
   ]
  },
  {
   "cell_type": "code",
   "execution_count": 27,
   "metadata": {},
   "outputs": [
    {
     "data": {
      "text/plain": [
       "(3328155, 7)"
      ]
     },
     "execution_count": 27,
     "metadata": {},
     "output_type": "execute_result"
    }
   ],
   "source": [
    "alunos.shape"
   ]
  },
  {
   "cell_type": "code",
   "execution_count": 28,
   "metadata": {},
   "outputs": [],
   "source": [
    "b = alunos['nm_login'].str.lstrip('0')"
   ]
  },
  {
   "cell_type": "code",
   "execution_count": 29,
   "metadata": {},
   "outputs": [],
   "source": [
    "alunos_ajustado = alunos.assign(login=b)"
   ]
  },
  {
   "cell_type": "code",
   "execution_count": 30,
   "metadata": {},
   "outputs": [
    {
     "data": {
      "text/html": [
       "<div>\n",
       "<style scoped>\n",
       "    .dataframe tbody tr th:only-of-type {\n",
       "        vertical-align: middle;\n",
       "    }\n",
       "\n",
       "    .dataframe tbody tr th {\n",
       "        vertical-align: top;\n",
       "    }\n",
       "\n",
       "    .dataframe thead th {\n",
       "        text-align: right;\n",
       "    }\n",
       "</style>\n",
       "<table border=\"1\" class=\"dataframe\">\n",
       "  <thead>\n",
       "    <tr style=\"text-align: right;\">\n",
       "      <th></th>\n",
       "      <th>nm_login</th>\n",
       "      <th>cd_escola</th>\n",
       "      <th>nm_completo_escola</th>\n",
       "      <th>nm_diretoria</th>\n",
       "      <th>cd_tipo_ensino_equivalente</th>\n",
       "      <th>nr_serie_equivalente</th>\n",
       "      <th>cd_aluno</th>\n",
       "      <th>login</th>\n",
       "    </tr>\n",
       "  </thead>\n",
       "  <tbody>\n",
       "    <tr>\n",
       "      <th>0</th>\n",
       "      <td>00001095141120SP</td>\n",
       "      <td>32165</td>\n",
       "      <td>JOSE SANCHES POSTIGO DEPUTADO</td>\n",
       "      <td>SANTO ANASTACIO</td>\n",
       "      <td>14</td>\n",
       "      <td>7</td>\n",
       "      <td>26985331</td>\n",
       "      <td>1095141120SP</td>\n",
       "    </tr>\n",
       "    <tr>\n",
       "      <th>1</th>\n",
       "      <td>00001114747798SP</td>\n",
       "      <td>32165</td>\n",
       "      <td>JOSE SANCHES POSTIGO DEPUTADO</td>\n",
       "      <td>SANTO ANASTACIO</td>\n",
       "      <td>14</td>\n",
       "      <td>7</td>\n",
       "      <td>28945996</td>\n",
       "      <td>1114747798SP</td>\n",
       "    </tr>\n",
       "    <tr>\n",
       "      <th>2</th>\n",
       "      <td>00001074567456SP</td>\n",
       "      <td>32165</td>\n",
       "      <td>JOSE SANCHES POSTIGO DEPUTADO</td>\n",
       "      <td>SANTO ANASTACIO</td>\n",
       "      <td>14</td>\n",
       "      <td>7</td>\n",
       "      <td>24927968</td>\n",
       "      <td>1074567456SP</td>\n",
       "    </tr>\n",
       "    <tr>\n",
       "      <th>3</th>\n",
       "      <td>00001075378400SP</td>\n",
       "      <td>32165</td>\n",
       "      <td>JOSE SANCHES POSTIGO DEPUTADO</td>\n",
       "      <td>SANTO ANASTACIO</td>\n",
       "      <td>14</td>\n",
       "      <td>7</td>\n",
       "      <td>25009063</td>\n",
       "      <td>1075378400SP</td>\n",
       "    </tr>\n",
       "    <tr>\n",
       "      <th>4</th>\n",
       "      <td>0000107865122XSP</td>\n",
       "      <td>32165</td>\n",
       "      <td>JOSE SANCHES POSTIGO DEPUTADO</td>\n",
       "      <td>SANTO ANASTACIO</td>\n",
       "      <td>14</td>\n",
       "      <td>7</td>\n",
       "      <td>25336343</td>\n",
       "      <td>107865122XSP</td>\n",
       "    </tr>\n",
       "  </tbody>\n",
       "</table>\n",
       "</div>"
      ],
      "text/plain": [
       "           nm_login  cd_escola             nm_completo_escola  \\\n",
       "0  00001095141120SP      32165  JOSE SANCHES POSTIGO DEPUTADO   \n",
       "1  00001114747798SP      32165  JOSE SANCHES POSTIGO DEPUTADO   \n",
       "2  00001074567456SP      32165  JOSE SANCHES POSTIGO DEPUTADO   \n",
       "3  00001075378400SP      32165  JOSE SANCHES POSTIGO DEPUTADO   \n",
       "4  0000107865122XSP      32165  JOSE SANCHES POSTIGO DEPUTADO   \n",
       "\n",
       "      nm_diretoria  cd_tipo_ensino_equivalente  nr_serie_equivalente  \\\n",
       "0  SANTO ANASTACIO                          14                     7   \n",
       "1  SANTO ANASTACIO                          14                     7   \n",
       "2  SANTO ANASTACIO                          14                     7   \n",
       "3  SANTO ANASTACIO                          14                     7   \n",
       "4  SANTO ANASTACIO                          14                     7   \n",
       "\n",
       "   cd_aluno         login  \n",
       "0  26985331  1095141120SP  \n",
       "1  28945996  1114747798SP  \n",
       "2  24927968  1074567456SP  \n",
       "3  25009063  1075378400SP  \n",
       "4  25336343  107865122XSP  "
      ]
     },
     "execution_count": 30,
     "metadata": {},
     "output_type": "execute_result"
    }
   ],
   "source": [
    "alunos_ajustado.head()"
   ]
  },
  {
   "cell_type": "code",
   "execution_count": 31,
   "metadata": {},
   "outputs": [
    {
     "data": {
      "text/html": [
       "<div>\n",
       "<style scoped>\n",
       "    .dataframe tbody tr th:only-of-type {\n",
       "        vertical-align: middle;\n",
       "    }\n",
       "\n",
       "    .dataframe tbody tr th {\n",
       "        vertical-align: top;\n",
       "    }\n",
       "\n",
       "    .dataframe thead th {\n",
       "        text-align: right;\n",
       "    }\n",
       "</style>\n",
       "<table border=\"1\" class=\"dataframe\">\n",
       "  <thead>\n",
       "    <tr style=\"text-align: right;\">\n",
       "      <th></th>\n",
       "      <th>nm_login</th>\n",
       "      <th>cd_escola</th>\n",
       "      <th>nm_completo_escola</th>\n",
       "      <th>nm_diretoria</th>\n",
       "      <th>cd_tipo_ensino_equivalente</th>\n",
       "      <th>nr_serie_equivalente</th>\n",
       "      <th>cd_aluno</th>\n",
       "      <th>login</th>\n",
       "    </tr>\n",
       "  </thead>\n",
       "  <tbody>\n",
       "    <tr>\n",
       "      <th>2513628</th>\n",
       "      <td>00001144500618SP</td>\n",
       "      <td>4509</td>\n",
       "      <td>MARIA ODILA GUIMARAES BUENO PROFESSORA</td>\n",
       "      <td>CENTRO SUL</td>\n",
       "      <td>14</td>\n",
       "      <td>1</td>\n",
       "      <td>31916233</td>\n",
       "      <td>1144500618SP</td>\n",
       "    </tr>\n",
       "  </tbody>\n",
       "</table>\n",
       "</div>"
      ],
      "text/plain": [
       "                 nm_login  cd_escola                      nm_completo_escola  \\\n",
       "2513628  00001144500618SP       4509  MARIA ODILA GUIMARAES BUENO PROFESSORA   \n",
       "\n",
       "        nm_diretoria  cd_tipo_ensino_equivalente  nr_serie_equivalente  \\\n",
       "2513628   CENTRO SUL                          14                     1   \n",
       "\n",
       "         cd_aluno         login  \n",
       "2513628  31916233  1144500618SP  "
      ]
     },
     "execution_count": 31,
     "metadata": {},
     "output_type": "execute_result"
    }
   ],
   "source": [
    "alunos_ajustado[alunos_ajustado['login'] == '1144500618SP']"
   ]
  },
  {
   "cell_type": "code",
   "execution_count": 32,
   "metadata": {},
   "outputs": [],
   "source": [
    "alunos_join = alunos_ajustado.merge(df_ajustado, how='left', left_on='login', right_on='login')"
   ]
  },
  {
   "cell_type": "code",
   "execution_count": 33,
   "metadata": {},
   "outputs": [
    {
     "data": {
      "text/html": [
       "<div>\n",
       "<style scoped>\n",
       "    .dataframe tbody tr th:only-of-type {\n",
       "        vertical-align: middle;\n",
       "    }\n",
       "\n",
       "    .dataframe tbody tr th {\n",
       "        vertical-align: top;\n",
       "    }\n",
       "\n",
       "    .dataframe thead th {\n",
       "        text-align: right;\n",
       "    }\n",
       "</style>\n",
       "<table border=\"1\" class=\"dataframe\">\n",
       "  <thead>\n",
       "    <tr style=\"text-align: right;\">\n",
       "      <th></th>\n",
       "      <th>nm_login</th>\n",
       "      <th>cd_escola</th>\n",
       "      <th>nm_completo_escola</th>\n",
       "      <th>nm_diretoria</th>\n",
       "      <th>cd_tipo_ensino_equivalente</th>\n",
       "      <th>nr_serie_equivalente</th>\n",
       "      <th>cd_aluno</th>\n",
       "      <th>login</th>\n",
       "      <th>name</th>\n",
       "    </tr>\n",
       "  </thead>\n",
       "  <tbody>\n",
       "    <tr>\n",
       "      <th>0</th>\n",
       "      <td>00001095141120SP</td>\n",
       "      <td>32165</td>\n",
       "      <td>JOSE SANCHES POSTIGO DEPUTADO</td>\n",
       "      <td>SANTO ANASTACIO</td>\n",
       "      <td>14</td>\n",
       "      <td>7</td>\n",
       "      <td>26985331</td>\n",
       "      <td>1095141120SP</td>\n",
       "      <td>YASMIN VIEIRA LACERDA</td>\n",
       "    </tr>\n",
       "    <tr>\n",
       "      <th>1</th>\n",
       "      <td>00001114747798SP</td>\n",
       "      <td>32165</td>\n",
       "      <td>JOSE SANCHES POSTIGO DEPUTADO</td>\n",
       "      <td>SANTO ANASTACIO</td>\n",
       "      <td>14</td>\n",
       "      <td>7</td>\n",
       "      <td>28945996</td>\n",
       "      <td>1114747798SP</td>\n",
       "      <td>NaN</td>\n",
       "    </tr>\n",
       "    <tr>\n",
       "      <th>2</th>\n",
       "      <td>00001074567456SP</td>\n",
       "      <td>32165</td>\n",
       "      <td>JOSE SANCHES POSTIGO DEPUTADO</td>\n",
       "      <td>SANTO ANASTACIO</td>\n",
       "      <td>14</td>\n",
       "      <td>7</td>\n",
       "      <td>24927968</td>\n",
       "      <td>1074567456SP</td>\n",
       "      <td>NaN</td>\n",
       "    </tr>\n",
       "    <tr>\n",
       "      <th>3</th>\n",
       "      <td>00001075378400SP</td>\n",
       "      <td>32165</td>\n",
       "      <td>JOSE SANCHES POSTIGO DEPUTADO</td>\n",
       "      <td>SANTO ANASTACIO</td>\n",
       "      <td>14</td>\n",
       "      <td>7</td>\n",
       "      <td>25009063</td>\n",
       "      <td>1075378400SP</td>\n",
       "      <td>NaN</td>\n",
       "    </tr>\n",
       "    <tr>\n",
       "      <th>4</th>\n",
       "      <td>0000107865122XSP</td>\n",
       "      <td>32165</td>\n",
       "      <td>JOSE SANCHES POSTIGO DEPUTADO</td>\n",
       "      <td>SANTO ANASTACIO</td>\n",
       "      <td>14</td>\n",
       "      <td>7</td>\n",
       "      <td>25336343</td>\n",
       "      <td>107865122XSP</td>\n",
       "      <td>NaN</td>\n",
       "    </tr>\n",
       "  </tbody>\n",
       "</table>\n",
       "</div>"
      ],
      "text/plain": [
       "           nm_login  cd_escola             nm_completo_escola  \\\n",
       "0  00001095141120SP      32165  JOSE SANCHES POSTIGO DEPUTADO   \n",
       "1  00001114747798SP      32165  JOSE SANCHES POSTIGO DEPUTADO   \n",
       "2  00001074567456SP      32165  JOSE SANCHES POSTIGO DEPUTADO   \n",
       "3  00001075378400SP      32165  JOSE SANCHES POSTIGO DEPUTADO   \n",
       "4  0000107865122XSP      32165  JOSE SANCHES POSTIGO DEPUTADO   \n",
       "\n",
       "      nm_diretoria  cd_tipo_ensino_equivalente  nr_serie_equivalente  \\\n",
       "0  SANTO ANASTACIO                          14                     7   \n",
       "1  SANTO ANASTACIO                          14                     7   \n",
       "2  SANTO ANASTACIO                          14                     7   \n",
       "3  SANTO ANASTACIO                          14                     7   \n",
       "4  SANTO ANASTACIO                          14                     7   \n",
       "\n",
       "   cd_aluno         login                   name  \n",
       "0  26985331  1095141120SP  YASMIN VIEIRA LACERDA  \n",
       "1  28945996  1114747798SP                    NaN  \n",
       "2  24927968  1074567456SP                    NaN  \n",
       "3  25009063  1075378400SP                    NaN  \n",
       "4  25336343  107865122XSP                    NaN  "
      ]
     },
     "execution_count": 33,
     "metadata": {},
     "output_type": "execute_result"
    }
   ],
   "source": [
    "alunos_join.head()"
   ]
  },
  {
   "cell_type": "code",
   "execution_count": 34,
   "metadata": {},
   "outputs": [
    {
     "data": {
      "text/plain": [
       "(3334116, 9)"
      ]
     },
     "execution_count": 34,
     "metadata": {},
     "output_type": "execute_result"
    }
   ],
   "source": [
    "alunos_join.shape"
   ]
  },
  {
   "cell_type": "code",
   "execution_count": 35,
   "metadata": {},
   "outputs": [
    {
     "data": {
      "text/plain": [
       "1458890"
      ]
     },
     "execution_count": 35,
     "metadata": {},
     "output_type": "execute_result"
    }
   ],
   "source": [
    "alunos_join['name'].notna().sum()   # or s.isnull().sum() for older pandas versions"
   ]
  },
  {
   "cell_type": "markdown",
   "metadata": {},
   "source": [
    "# Criar dataframe de escolas"
   ]
  },
  {
   "cell_type": "code",
   "execution_count": 36,
   "metadata": {},
   "outputs": [],
   "source": [
    "escolas = alunos.groupby('cd_escola').size().to_frame(name='qtd')"
   ]
  },
  {
   "cell_type": "code",
   "execution_count": 37,
   "metadata": {},
   "outputs": [
    {
     "data": {
      "text/html": [
       "<div>\n",
       "<style scoped>\n",
       "    .dataframe tbody tr th:only-of-type {\n",
       "        vertical-align: middle;\n",
       "    }\n",
       "\n",
       "    .dataframe tbody tr th {\n",
       "        vertical-align: top;\n",
       "    }\n",
       "\n",
       "    .dataframe thead th {\n",
       "        text-align: right;\n",
       "    }\n",
       "</style>\n",
       "<table border=\"1\" class=\"dataframe\">\n",
       "  <thead>\n",
       "    <tr style=\"text-align: right;\">\n",
       "      <th></th>\n",
       "      <th>qtd</th>\n",
       "    </tr>\n",
       "    <tr>\n",
       "      <th>cd_escola</th>\n",
       "      <th></th>\n",
       "    </tr>\n",
       "  </thead>\n",
       "  <tbody>\n",
       "    <tr>\n",
       "      <th>12</th>\n",
       "      <td>559</td>\n",
       "    </tr>\n",
       "    <tr>\n",
       "      <th>24</th>\n",
       "      <td>2088</td>\n",
       "    </tr>\n",
       "    <tr>\n",
       "      <th>36</th>\n",
       "      <td>2009</td>\n",
       "    </tr>\n",
       "    <tr>\n",
       "      <th>48</th>\n",
       "      <td>977</td>\n",
       "    </tr>\n",
       "    <tr>\n",
       "      <th>59</th>\n",
       "      <td>1000</td>\n",
       "    </tr>\n",
       "  </tbody>\n",
       "</table>\n",
       "</div>"
      ],
      "text/plain": [
       "            qtd\n",
       "cd_escola      \n",
       "12          559\n",
       "24         2088\n",
       "36         2009\n",
       "48          977\n",
       "59         1000"
      ]
     },
     "execution_count": 37,
     "metadata": {},
     "output_type": "execute_result"
    }
   ],
   "source": [
    "escolas.head()"
   ]
  },
  {
   "cell_type": "markdown",
   "metadata": {},
   "source": [
    "# Criar dataframe escolas CMSP"
   ]
  },
  {
   "cell_type": "code",
   "execution_count": 39,
   "metadata": {},
   "outputs": [],
   "source": [
    "escolas_cmsp = alunos_join.dropna(subset=['name'])"
   ]
  },
  {
   "cell_type": "code",
   "execution_count": 40,
   "metadata": {},
   "outputs": [],
   "source": [
    "escolas_cmsp = escolas_cmsp.groupby('cd_escola').size().to_frame(name='qtd')"
   ]
  },
  {
   "cell_type": "code",
   "execution_count": 41,
   "metadata": {},
   "outputs": [
    {
     "data": {
      "text/html": [
       "<div>\n",
       "<style scoped>\n",
       "    .dataframe tbody tr th:only-of-type {\n",
       "        vertical-align: middle;\n",
       "    }\n",
       "\n",
       "    .dataframe tbody tr th {\n",
       "        vertical-align: top;\n",
       "    }\n",
       "\n",
       "    .dataframe thead th {\n",
       "        text-align: right;\n",
       "    }\n",
       "</style>\n",
       "<table border=\"1\" class=\"dataframe\">\n",
       "  <thead>\n",
       "    <tr style=\"text-align: right;\">\n",
       "      <th></th>\n",
       "      <th>qtd</th>\n",
       "    </tr>\n",
       "    <tr>\n",
       "      <th>cd_escola</th>\n",
       "      <th></th>\n",
       "    </tr>\n",
       "  </thead>\n",
       "  <tbody>\n",
       "    <tr>\n",
       "      <th>12</th>\n",
       "      <td>522</td>\n",
       "    </tr>\n",
       "    <tr>\n",
       "      <th>24</th>\n",
       "      <td>616</td>\n",
       "    </tr>\n",
       "    <tr>\n",
       "      <th>36</th>\n",
       "      <td>1143</td>\n",
       "    </tr>\n",
       "    <tr>\n",
       "      <th>48</th>\n",
       "      <td>281</td>\n",
       "    </tr>\n",
       "    <tr>\n",
       "      <th>59</th>\n",
       "      <td>425</td>\n",
       "    </tr>\n",
       "  </tbody>\n",
       "</table>\n",
       "</div>"
      ],
      "text/plain": [
       "            qtd\n",
       "cd_escola      \n",
       "12          522\n",
       "24          616\n",
       "36         1143\n",
       "48          281\n",
       "59          425"
      ]
     },
     "execution_count": 41,
     "metadata": {},
     "output_type": "execute_result"
    }
   ],
   "source": [
    "escolas_cmsp.head()"
   ]
  },
  {
   "cell_type": "markdown",
   "metadata": {},
   "source": [
    "# Join nos dataframes"
   ]
  },
  {
   "cell_type": "code",
   "execution_count": 42,
   "metadata": {},
   "outputs": [],
   "source": [
    "escolas_join = escolas.merge(escolas_cmsp, how='left', on='cd_escola')"
   ]
  },
  {
   "cell_type": "code",
   "execution_count": 43,
   "metadata": {},
   "outputs": [
    {
     "data": {
      "text/html": [
       "<div>\n",
       "<style scoped>\n",
       "    .dataframe tbody tr th:only-of-type {\n",
       "        vertical-align: middle;\n",
       "    }\n",
       "\n",
       "    .dataframe tbody tr th {\n",
       "        vertical-align: top;\n",
       "    }\n",
       "\n",
       "    .dataframe thead th {\n",
       "        text-align: right;\n",
       "    }\n",
       "</style>\n",
       "<table border=\"1\" class=\"dataframe\">\n",
       "  <thead>\n",
       "    <tr style=\"text-align: right;\">\n",
       "      <th></th>\n",
       "      <th>qtd_x</th>\n",
       "      <th>qtd_y</th>\n",
       "    </tr>\n",
       "    <tr>\n",
       "      <th>cd_escola</th>\n",
       "      <th></th>\n",
       "      <th></th>\n",
       "    </tr>\n",
       "  </thead>\n",
       "  <tbody>\n",
       "    <tr>\n",
       "      <th>12</th>\n",
       "      <td>559</td>\n",
       "      <td>522.0</td>\n",
       "    </tr>\n",
       "    <tr>\n",
       "      <th>24</th>\n",
       "      <td>2088</td>\n",
       "      <td>616.0</td>\n",
       "    </tr>\n",
       "    <tr>\n",
       "      <th>36</th>\n",
       "      <td>2009</td>\n",
       "      <td>1143.0</td>\n",
       "    </tr>\n",
       "    <tr>\n",
       "      <th>48</th>\n",
       "      <td>977</td>\n",
       "      <td>281.0</td>\n",
       "    </tr>\n",
       "    <tr>\n",
       "      <th>59</th>\n",
       "      <td>1000</td>\n",
       "      <td>425.0</td>\n",
       "    </tr>\n",
       "  </tbody>\n",
       "</table>\n",
       "</div>"
      ],
      "text/plain": [
       "           qtd_x   qtd_y\n",
       "cd_escola               \n",
       "12           559   522.0\n",
       "24          2088   616.0\n",
       "36          2009  1143.0\n",
       "48           977   281.0\n",
       "59          1000   425.0"
      ]
     },
     "execution_count": 43,
     "metadata": {},
     "output_type": "execute_result"
    }
   ],
   "source": [
    "escolas_join.head()"
   ]
  },
  {
   "cell_type": "code",
   "execution_count": 44,
   "metadata": {},
   "outputs": [],
   "source": [
    "escolas_join = escolas_join.assign(pct = escolas_join['qtd_y'] / escolas_join['qtd_x'])"
   ]
  },
  {
   "cell_type": "code",
   "execution_count": 72,
   "metadata": {},
   "outputs": [],
   "source": [
    "escolas_join = escolas_join.reset_index()"
   ]
  },
  {
   "cell_type": "code",
   "execution_count": 74,
   "metadata": {},
   "outputs": [
    {
     "data": {
      "text/html": [
       "<div>\n",
       "<style scoped>\n",
       "    .dataframe tbody tr th:only-of-type {\n",
       "        vertical-align: middle;\n",
       "    }\n",
       "\n",
       "    .dataframe tbody tr th {\n",
       "        vertical-align: top;\n",
       "    }\n",
       "\n",
       "    .dataframe thead th {\n",
       "        text-align: right;\n",
       "    }\n",
       "</style>\n",
       "<table border=\"1\" class=\"dataframe\">\n",
       "  <thead>\n",
       "    <tr style=\"text-align: right;\">\n",
       "      <th></th>\n",
       "      <th>cd_escola</th>\n",
       "      <th>qtd_x</th>\n",
       "      <th>qtd_y</th>\n",
       "      <th>pct</th>\n",
       "    </tr>\n",
       "  </thead>\n",
       "  <tbody>\n",
       "    <tr>\n",
       "      <th>0</th>\n",
       "      <td>12</td>\n",
       "      <td>559</td>\n",
       "      <td>522.0</td>\n",
       "      <td>0.933810</td>\n",
       "    </tr>\n",
       "    <tr>\n",
       "      <th>1</th>\n",
       "      <td>24</td>\n",
       "      <td>2088</td>\n",
       "      <td>616.0</td>\n",
       "      <td>0.295019</td>\n",
       "    </tr>\n",
       "    <tr>\n",
       "      <th>2</th>\n",
       "      <td>36</td>\n",
       "      <td>2009</td>\n",
       "      <td>1143.0</td>\n",
       "      <td>0.568940</td>\n",
       "    </tr>\n",
       "    <tr>\n",
       "      <th>3</th>\n",
       "      <td>48</td>\n",
       "      <td>977</td>\n",
       "      <td>281.0</td>\n",
       "      <td>0.287615</td>\n",
       "    </tr>\n",
       "    <tr>\n",
       "      <th>4</th>\n",
       "      <td>59</td>\n",
       "      <td>1000</td>\n",
       "      <td>425.0</td>\n",
       "      <td>0.425000</td>\n",
       "    </tr>\n",
       "  </tbody>\n",
       "</table>\n",
       "</div>"
      ],
      "text/plain": [
       "   cd_escola  qtd_x   qtd_y       pct\n",
       "0         12    559   522.0  0.933810\n",
       "1         24   2088   616.0  0.295019\n",
       "2         36   2009  1143.0  0.568940\n",
       "3         48    977   281.0  0.287615\n",
       "4         59   1000   425.0  0.425000"
      ]
     },
     "execution_count": 74,
     "metadata": {},
     "output_type": "execute_result"
    }
   ],
   "source": [
    "escolas_join.head()"
   ]
  },
  {
   "cell_type": "markdown",
   "metadata": {},
   "source": [
    "# gerar para Diogo"
   ]
  },
  {
   "cell_type": "code",
   "execution_count": 77,
   "metadata": {},
   "outputs": [],
   "source": [
    "ipvs_escola = pd.read_csv('data/ipvs_escola.csv')\n",
    "ipvs_escola.head()\n",
    "\n",
    "escolas_diogo = escolas_join.merge(ipvs_escola, how='left', left_on='cd_escola', right_on='cie')\n",
    "\n",
    "escolas_diogo.rename(columns={'qtd_x':'total_alunos',\n",
    "                          'qtd_y':'alunos_cmsp',\n",
    "                          'pct':'pct_aluno',\n",
    "                          'ipvs_2010':'ipvs'}, \n",
    "                 inplace=True)\n",
    "\n",
    "escolas_diogo[['cd_escola', 'total_alunos', 'alunos_cmsp', 'ipvs', 'pct_aluno']].head()\n",
    "\n",
    "escolas_diogo.to_csv('data/escolas_CMSP.csv', index=False)"
   ]
  },
  {
   "cell_type": "code",
   "execution_count": 47,
   "metadata": {},
   "outputs": [],
   "source": [
    "escolas_join.loc[escolas_join['pct'] > 1, 'pct'] = 1"
   ]
  },
  {
   "cell_type": "markdown",
   "metadata": {},
   "source": [
    "# Escolas com maior pct (mais de 100 alunos)"
   ]
  },
  {
   "cell_type": "code",
   "execution_count": 48,
   "metadata": {},
   "outputs": [
    {
     "data": {
      "text/html": [
       "<div>\n",
       "<style scoped>\n",
       "    .dataframe tbody tr th:only-of-type {\n",
       "        vertical-align: middle;\n",
       "    }\n",
       "\n",
       "    .dataframe tbody tr th {\n",
       "        vertical-align: top;\n",
       "    }\n",
       "\n",
       "    .dataframe thead th {\n",
       "        text-align: right;\n",
       "    }\n",
       "</style>\n",
       "<table border=\"1\" class=\"dataframe\">\n",
       "  <thead>\n",
       "    <tr style=\"text-align: right;\">\n",
       "      <th></th>\n",
       "      <th>qtd_x</th>\n",
       "      <th>qtd_y</th>\n",
       "      <th>pct</th>\n",
       "    </tr>\n",
       "    <tr>\n",
       "      <th>cd_escola</th>\n",
       "      <th></th>\n",
       "      <th></th>\n",
       "      <th></th>\n",
       "    </tr>\n",
       "  </thead>\n",
       "  <tbody>\n",
       "    <tr>\n",
       "      <th>21696</th>\n",
       "      <td>334</td>\n",
       "      <td>328.0</td>\n",
       "      <td>0.982036</td>\n",
       "    </tr>\n",
       "    <tr>\n",
       "      <th>496376</th>\n",
       "      <td>397</td>\n",
       "      <td>388.0</td>\n",
       "      <td>0.977330</td>\n",
       "    </tr>\n",
       "    <tr>\n",
       "      <th>19720</th>\n",
       "      <td>476</td>\n",
       "      <td>461.0</td>\n",
       "      <td>0.968487</td>\n",
       "    </tr>\n",
       "    <tr>\n",
       "      <th>14965</th>\n",
       "      <td>255</td>\n",
       "      <td>244.0</td>\n",
       "      <td>0.956863</td>\n",
       "    </tr>\n",
       "    <tr>\n",
       "      <th>35361</th>\n",
       "      <td>257</td>\n",
       "      <td>245.0</td>\n",
       "      <td>0.953307</td>\n",
       "    </tr>\n",
       "    <tr>\n",
       "      <th>17231</th>\n",
       "      <td>545</td>\n",
       "      <td>519.0</td>\n",
       "      <td>0.952294</td>\n",
       "    </tr>\n",
       "    <tr>\n",
       "      <th>923874</th>\n",
       "      <td>395</td>\n",
       "      <td>374.0</td>\n",
       "      <td>0.946835</td>\n",
       "    </tr>\n",
       "    <tr>\n",
       "      <th>21763</th>\n",
       "      <td>221</td>\n",
       "      <td>209.0</td>\n",
       "      <td>0.945701</td>\n",
       "    </tr>\n",
       "    <tr>\n",
       "      <th>24077</th>\n",
       "      <td>467</td>\n",
       "      <td>441.0</td>\n",
       "      <td>0.944325</td>\n",
       "    </tr>\n",
       "    <tr>\n",
       "      <th>13936</th>\n",
       "      <td>380</td>\n",
       "      <td>357.0</td>\n",
       "      <td>0.939474</td>\n",
       "    </tr>\n",
       "  </tbody>\n",
       "</table>\n",
       "</div>"
      ],
      "text/plain": [
       "           qtd_x  qtd_y       pct\n",
       "cd_escola                        \n",
       "21696        334  328.0  0.982036\n",
       "496376       397  388.0  0.977330\n",
       "19720        476  461.0  0.968487\n",
       "14965        255  244.0  0.956863\n",
       "35361        257  245.0  0.953307\n",
       "17231        545  519.0  0.952294\n",
       "923874       395  374.0  0.946835\n",
       "21763        221  209.0  0.945701\n",
       "24077        467  441.0  0.944325\n",
       "13936        380  357.0  0.939474"
      ]
     },
     "execution_count": 48,
     "metadata": {},
     "output_type": "execute_result"
    }
   ],
   "source": [
    "escolas_join[escolas_join['qtd_x'] > 100].sort_values(by='pct', ascending=False).head(10)"
   ]
  },
  {
   "cell_type": "markdown",
   "metadata": {},
   "source": [
    "# Escolas com menor pct (mais de 100 alunos)"
   ]
  },
  {
   "cell_type": "code",
   "execution_count": 85,
   "metadata": {},
   "outputs": [
    {
     "data": {
      "text/html": [
       "<div>\n",
       "<style scoped>\n",
       "    .dataframe tbody tr th:only-of-type {\n",
       "        vertical-align: middle;\n",
       "    }\n",
       "\n",
       "    .dataframe tbody tr th {\n",
       "        vertical-align: top;\n",
       "    }\n",
       "\n",
       "    .dataframe thead th {\n",
       "        text-align: right;\n",
       "    }\n",
       "</style>\n",
       "<table border=\"1\" class=\"dataframe\">\n",
       "  <thead>\n",
       "    <tr style=\"text-align: right;\">\n",
       "      <th></th>\n",
       "      <th>qtd_x</th>\n",
       "      <th>qtd_y</th>\n",
       "      <th>pct</th>\n",
       "    </tr>\n",
       "    <tr>\n",
       "      <th>cd_escola</th>\n",
       "      <th></th>\n",
       "      <th></th>\n",
       "      <th></th>\n",
       "    </tr>\n",
       "  </thead>\n",
       "  <tbody>\n",
       "    <tr>\n",
       "      <th>925135</th>\n",
       "      <td>292</td>\n",
       "      <td>2.0</td>\n",
       "      <td>0.006849</td>\n",
       "    </tr>\n",
       "    <tr>\n",
       "      <th>36559</th>\n",
       "      <td>177</td>\n",
       "      <td>2.0</td>\n",
       "      <td>0.011299</td>\n",
       "    </tr>\n",
       "    <tr>\n",
       "      <th>1223</th>\n",
       "      <td>425</td>\n",
       "      <td>7.0</td>\n",
       "      <td>0.016471</td>\n",
       "    </tr>\n",
       "    <tr>\n",
       "      <th>909762</th>\n",
       "      <td>157</td>\n",
       "      <td>4.0</td>\n",
       "      <td>0.025478</td>\n",
       "    </tr>\n",
       "    <tr>\n",
       "      <th>36250</th>\n",
       "      <td>150</td>\n",
       "      <td>4.0</td>\n",
       "      <td>0.026667</td>\n",
       "    </tr>\n",
       "    <tr>\n",
       "      <th>20382</th>\n",
       "      <td>349</td>\n",
       "      <td>10.0</td>\n",
       "      <td>0.028653</td>\n",
       "    </tr>\n",
       "    <tr>\n",
       "      <th>904399</th>\n",
       "      <td>387</td>\n",
       "      <td>12.0</td>\n",
       "      <td>0.031008</td>\n",
       "    </tr>\n",
       "    <tr>\n",
       "      <th>921701</th>\n",
       "      <td>185</td>\n",
       "      <td>7.0</td>\n",
       "      <td>0.037838</td>\n",
       "    </tr>\n",
       "    <tr>\n",
       "      <th>42134</th>\n",
       "      <td>538</td>\n",
       "      <td>21.0</td>\n",
       "      <td>0.039033</td>\n",
       "    </tr>\n",
       "    <tr>\n",
       "      <th>909312</th>\n",
       "      <td>195</td>\n",
       "      <td>8.0</td>\n",
       "      <td>0.041026</td>\n",
       "    </tr>\n",
       "  </tbody>\n",
       "</table>\n",
       "</div>"
      ],
      "text/plain": [
       "           qtd_x  qtd_y       pct\n",
       "cd_escola                        \n",
       "925135       292    2.0  0.006849\n",
       "36559        177    2.0  0.011299\n",
       "1223         425    7.0  0.016471\n",
       "909762       157    4.0  0.025478\n",
       "36250        150    4.0  0.026667\n",
       "20382        349   10.0  0.028653\n",
       "904399       387   12.0  0.031008\n",
       "921701       185    7.0  0.037838\n",
       "42134        538   21.0  0.039033\n",
       "909312       195    8.0  0.041026"
      ]
     },
     "execution_count": 85,
     "metadata": {},
     "output_type": "execute_result"
    }
   ],
   "source": [
    "escolas_join[escolas_join['qtd_x'] > 100].sort_values(by='pct', ascending=True).head(10)"
   ]
  },
  {
   "cell_type": "markdown",
   "metadata": {},
   "source": [
    "# Plotar qtd de escolas por faixa"
   ]
  },
  {
   "cell_type": "code",
   "execution_count": 86,
   "metadata": {},
   "outputs": [],
   "source": [
    "def fn_faixa(valor):\n",
    "    if valor <= 0.25:\n",
    "        faixa = '0% - 25%'\n",
    "    elif valor <= 0.5:\n",
    "        faixa = '25% - 50%'\n",
    "    elif valor <= 0.75:\n",
    "        faixa = '50% - 75%'\n",
    "    else:\n",
    "        faixa = '75% - 100%'\n",
    "    return faixa"
   ]
  },
  {
   "cell_type": "code",
   "execution_count": 87,
   "metadata": {},
   "outputs": [],
   "source": [
    "#escolas_join = escolas_join.assign(faixa = fn_faixa(escolas_join['pct'])\n",
    "escolas_join = (escolas_join.assign(faixa= lambda x: pd.cut(x['pct'], \n",
    "                                              bins=[0, 0.25, 0.5, 0.75, 1],\n",
    "                                              labels=['0% - 25%', '25% - 50%', '50% - 75%', '75% - 100%'])))"
   ]
  },
  {
   "cell_type": "code",
   "execution_count": 88,
   "metadata": {},
   "outputs": [
    {
     "data": {
      "text/html": [
       "<div>\n",
       "<style scoped>\n",
       "    .dataframe tbody tr th:only-of-type {\n",
       "        vertical-align: middle;\n",
       "    }\n",
       "\n",
       "    .dataframe tbody tr th {\n",
       "        vertical-align: top;\n",
       "    }\n",
       "\n",
       "    .dataframe thead th {\n",
       "        text-align: right;\n",
       "    }\n",
       "</style>\n",
       "<table border=\"1\" class=\"dataframe\">\n",
       "  <thead>\n",
       "    <tr style=\"text-align: right;\">\n",
       "      <th></th>\n",
       "      <th>qtd_x</th>\n",
       "      <th>qtd_y</th>\n",
       "      <th>pct</th>\n",
       "      <th>faixa</th>\n",
       "    </tr>\n",
       "    <tr>\n",
       "      <th>cd_escola</th>\n",
       "      <th></th>\n",
       "      <th></th>\n",
       "      <th></th>\n",
       "      <th></th>\n",
       "    </tr>\n",
       "  </thead>\n",
       "  <tbody>\n",
       "    <tr>\n",
       "      <th>12</th>\n",
       "      <td>559</td>\n",
       "      <td>544.0</td>\n",
       "      <td>0.973166</td>\n",
       "      <td>75% - 100%</td>\n",
       "    </tr>\n",
       "    <tr>\n",
       "      <th>24</th>\n",
       "      <td>2088</td>\n",
       "      <td>636.0</td>\n",
       "      <td>0.304598</td>\n",
       "      <td>25% - 50%</td>\n",
       "    </tr>\n",
       "    <tr>\n",
       "      <th>36</th>\n",
       "      <td>2009</td>\n",
       "      <td>1185.0</td>\n",
       "      <td>0.589846</td>\n",
       "      <td>50% - 75%</td>\n",
       "    </tr>\n",
       "    <tr>\n",
       "      <th>48</th>\n",
       "      <td>977</td>\n",
       "      <td>286.0</td>\n",
       "      <td>0.292733</td>\n",
       "      <td>25% - 50%</td>\n",
       "    </tr>\n",
       "    <tr>\n",
       "      <th>59</th>\n",
       "      <td>1000</td>\n",
       "      <td>432.0</td>\n",
       "      <td>0.432000</td>\n",
       "      <td>25% - 50%</td>\n",
       "    </tr>\n",
       "  </tbody>\n",
       "</table>\n",
       "</div>"
      ],
      "text/plain": [
       "           qtd_x   qtd_y       pct       faixa\n",
       "cd_escola                                     \n",
       "12           559   544.0  0.973166  75% - 100%\n",
       "24          2088   636.0  0.304598   25% - 50%\n",
       "36          2009  1185.0  0.589846   50% - 75%\n",
       "48           977   286.0  0.292733   25% - 50%\n",
       "59          1000   432.0  0.432000   25% - 50%"
      ]
     },
     "execution_count": 88,
     "metadata": {},
     "output_type": "execute_result"
    }
   ],
   "source": [
    "escolas_join.head()"
   ]
  },
  {
   "cell_type": "code",
   "execution_count": 125,
   "metadata": {},
   "outputs": [],
   "source": [
    "df_plot = escolas_join.groupby('faixa').count()"
   ]
  },
  {
   "cell_type": "code",
   "execution_count": 130,
   "metadata": {},
   "outputs": [
    {
     "data": {
      "text/html": [
       "<div>\n",
       "<style scoped>\n",
       "    .dataframe tbody tr th:only-of-type {\n",
       "        vertical-align: middle;\n",
       "    }\n",
       "\n",
       "    .dataframe tbody tr th {\n",
       "        vertical-align: top;\n",
       "    }\n",
       "\n",
       "    .dataframe thead th {\n",
       "        text-align: right;\n",
       "    }\n",
       "</style>\n",
       "<table border=\"1\" class=\"dataframe\">\n",
       "  <thead>\n",
       "    <tr style=\"text-align: right;\">\n",
       "      <th></th>\n",
       "      <th>qtd_x</th>\n",
       "      <th>qtd_y</th>\n",
       "      <th>pct</th>\n",
       "    </tr>\n",
       "    <tr>\n",
       "      <th>faixa</th>\n",
       "      <th></th>\n",
       "      <th></th>\n",
       "      <th></th>\n",
       "    </tr>\n",
       "  </thead>\n",
       "  <tbody>\n",
       "    <tr>\n",
       "      <th>0% - 25%</th>\n",
       "      <td>739</td>\n",
       "      <td>739</td>\n",
       "      <td>739</td>\n",
       "    </tr>\n",
       "    <tr>\n",
       "      <th>25% - 50%</th>\n",
       "      <td>2153</td>\n",
       "      <td>2153</td>\n",
       "      <td>2153</td>\n",
       "    </tr>\n",
       "    <tr>\n",
       "      <th>50% - 75%</th>\n",
       "      <td>1712</td>\n",
       "      <td>1712</td>\n",
       "      <td>1712</td>\n",
       "    </tr>\n",
       "    <tr>\n",
       "      <th>75% - 100%</th>\n",
       "      <td>470</td>\n",
       "      <td>470</td>\n",
       "      <td>470</td>\n",
       "    </tr>\n",
       "  </tbody>\n",
       "</table>\n",
       "</div>"
      ],
      "text/plain": [
       "            qtd_x  qtd_y   pct\n",
       "faixa                         \n",
       "0% - 25%      739    739   739\n",
       "25% - 50%    2153   2153  2153\n",
       "50% - 75%    1712   1712  1712\n",
       "75% - 100%    470    470   470"
      ]
     },
     "execution_count": 130,
     "metadata": {},
     "output_type": "execute_result"
    }
   ],
   "source": [
    "df_plot.head()"
   ]
  },
  {
   "cell_type": "code",
   "execution_count": 126,
   "metadata": {},
   "outputs": [],
   "source": [
    "x = df_plot.index\n",
    "y = df_plot['pct']"
   ]
  },
  {
   "cell_type": "code",
   "execution_count": 127,
   "metadata": {},
   "outputs": [
    {
     "data": {
      "image/png": "[encoded data removed]",
      "text/plain": [
       "<Figure size 720x360 with 1 Axes>"
      ]
     },
     "metadata": {
      "needs_background": "light"
     },
     "output_type": "display_data"
    }
   ],
   "source": [
    "%matplotlib inline\n",
    "\n",
    "plt.figure(figsize=(10,5))\n",
    "bar = sns.barplot(x=x, y=y)\n",
    "sns.set_style(\"whitegrid\")\n",
    "plt.ylabel('Quantidade de escolas')\n",
    "plt.xlabel('Faixa')\n",
    "plt.yticks(np.arange(0, 2500, step=250))\n",
    "plt.title('Quantidade de escolas por faixa')\n",
    "plt.show()"
   ]
  },
  {
   "cell_type": "markdown",
   "metadata": {},
   "source": [
    "# Dataframe de séries"
   ]
  },
  {
   "cell_type": "code",
   "execution_count": 133,
   "metadata": {},
   "outputs": [],
   "source": [
    "series = alunos.groupby(['cd_tipo_ensino_equivalente','nr_serie_equivalente']).size().to_frame(name='qtd')"
   ]
  },
  {
   "cell_type": "code",
   "execution_count": 134,
   "metadata": {},
   "outputs": [
    {
     "data": {
      "text/html": [
       "<div>\n",
       "<style scoped>\n",
       "    .dataframe tbody tr th:only-of-type {\n",
       "        vertical-align: middle;\n",
       "    }\n",
       "\n",
       "    .dataframe tbody tr th {\n",
       "        vertical-align: top;\n",
       "    }\n",
       "\n",
       "    .dataframe thead th {\n",
       "        text-align: right;\n",
       "    }\n",
       "</style>\n",
       "<table border=\"1\" class=\"dataframe\">\n",
       "  <thead>\n",
       "    <tr style=\"text-align: right;\">\n",
       "      <th></th>\n",
       "      <th></th>\n",
       "      <th>qtd</th>\n",
       "    </tr>\n",
       "    <tr>\n",
       "      <th>cd_tipo_ensino_equivalente</th>\n",
       "      <th>nr_serie_equivalente</th>\n",
       "      <th></th>\n",
       "    </tr>\n",
       "  </thead>\n",
       "  <tbody>\n",
       "    <tr>\n",
       "      <th rowspan=\"4\" valign=\"top\">2</th>\n",
       "      <th>0</th>\n",
       "      <td>9315</td>\n",
       "    </tr>\n",
       "    <tr>\n",
       "      <th>1</th>\n",
       "      <td>493936</td>\n",
       "    </tr>\n",
       "    <tr>\n",
       "      <th>2</th>\n",
       "      <td>437744</td>\n",
       "    </tr>\n",
       "    <tr>\n",
       "      <th>3</th>\n",
       "      <td>363446</td>\n",
       "    </tr>\n",
       "    <tr>\n",
       "      <th rowspan=\"10\" valign=\"top\">14</th>\n",
       "      <th>0</th>\n",
       "      <td>16940</td>\n",
       "    </tr>\n",
       "    <tr>\n",
       "      <th>1</th>\n",
       "      <td>112412</td>\n",
       "    </tr>\n",
       "    <tr>\n",
       "      <th>2</th>\n",
       "      <td>125423</td>\n",
       "    </tr>\n",
       "    <tr>\n",
       "      <th>3</th>\n",
       "      <td>133499</td>\n",
       "    </tr>\n",
       "    <tr>\n",
       "      <th>4</th>\n",
       "      <td>125539</td>\n",
       "    </tr>\n",
       "    <tr>\n",
       "      <th>5</th>\n",
       "      <td>126955</td>\n",
       "    </tr>\n",
       "    <tr>\n",
       "      <th>6</th>\n",
       "      <td>347433</td>\n",
       "    </tr>\n",
       "    <tr>\n",
       "      <th>7</th>\n",
       "      <td>338802</td>\n",
       "    </tr>\n",
       "    <tr>\n",
       "      <th>8</th>\n",
       "      <td>346230</td>\n",
       "    </tr>\n",
       "    <tr>\n",
       "      <th>9</th>\n",
       "      <td>350481</td>\n",
       "    </tr>\n",
       "  </tbody>\n",
       "</table>\n",
       "</div>"
      ],
      "text/plain": [
       "                                                    qtd\n",
       "cd_tipo_ensino_equivalente nr_serie_equivalente        \n",
       "2                          0                       9315\n",
       "                           1                     493936\n",
       "                           2                     437744\n",
       "                           3                     363446\n",
       "14                         0                      16940\n",
       "                           1                     112412\n",
       "                           2                     125423\n",
       "                           3                     133499\n",
       "                           4                     125539\n",
       "                           5                     126955\n",
       "                           6                     347433\n",
       "                           7                     338802\n",
       "                           8                     346230\n",
       "                           9                     350481"
      ]
     },
     "execution_count": 134,
     "metadata": {},
     "output_type": "execute_result"
    }
   ],
   "source": [
    "series"
   ]
  },
  {
   "cell_type": "markdown",
   "metadata": {},
   "source": [
    "# Dataframe de séries CMSP"
   ]
  },
  {
   "cell_type": "code",
   "execution_count": 135,
   "metadata": {},
   "outputs": [],
   "source": [
    "series_cmsp = alunos_join.dropna(subset=['nick'])"
   ]
  },
  {
   "cell_type": "code",
   "execution_count": 138,
   "metadata": {},
   "outputs": [],
   "source": [
    "series_cmsp = series_cmsp.groupby(['cd_tipo_ensino_equivalente','nr_serie_equivalente']).size().to_frame(name='qtd')"
   ]
  },
  {
   "cell_type": "code",
   "execution_count": 139,
   "metadata": {},
   "outputs": [
    {
     "data": {
      "text/html": [
       "<div>\n",
       "<style scoped>\n",
       "    .dataframe tbody tr th:only-of-type {\n",
       "        vertical-align: middle;\n",
       "    }\n",
       "\n",
       "    .dataframe tbody tr th {\n",
       "        vertical-align: top;\n",
       "    }\n",
       "\n",
       "    .dataframe thead th {\n",
       "        text-align: right;\n",
       "    }\n",
       "</style>\n",
       "<table border=\"1\" class=\"dataframe\">\n",
       "  <thead>\n",
       "    <tr style=\"text-align: right;\">\n",
       "      <th></th>\n",
       "      <th></th>\n",
       "      <th>qtd</th>\n",
       "    </tr>\n",
       "    <tr>\n",
       "      <th>cd_tipo_ensino_equivalente</th>\n",
       "      <th>nr_serie_equivalente</th>\n",
       "      <th></th>\n",
       "    </tr>\n",
       "  </thead>\n",
       "  <tbody>\n",
       "    <tr>\n",
       "      <th rowspan=\"3\" valign=\"top\">2</th>\n",
       "      <th>1</th>\n",
       "      <td>243438</td>\n",
       "    </tr>\n",
       "    <tr>\n",
       "      <th>2</th>\n",
       "      <td>238700</td>\n",
       "    </tr>\n",
       "    <tr>\n",
       "      <th>3</th>\n",
       "      <td>200782</td>\n",
       "    </tr>\n",
       "    <tr>\n",
       "      <th rowspan=\"10\" valign=\"top\">14</th>\n",
       "      <th>0</th>\n",
       "      <td>251</td>\n",
       "    </tr>\n",
       "    <tr>\n",
       "      <th>1</th>\n",
       "      <td>23650</td>\n",
       "    </tr>\n",
       "    <tr>\n",
       "      <th>2</th>\n",
       "      <td>27390</td>\n",
       "    </tr>\n",
       "    <tr>\n",
       "      <th>3</th>\n",
       "      <td>29850</td>\n",
       "    </tr>\n",
       "    <tr>\n",
       "      <th>4</th>\n",
       "      <td>29157</td>\n",
       "    </tr>\n",
       "    <tr>\n",
       "      <th>5</th>\n",
       "      <td>31096</td>\n",
       "    </tr>\n",
       "    <tr>\n",
       "      <th>6</th>\n",
       "      <td>151868</td>\n",
       "    </tr>\n",
       "    <tr>\n",
       "      <th>7</th>\n",
       "      <td>162807</td>\n",
       "    </tr>\n",
       "    <tr>\n",
       "      <th>8</th>\n",
       "      <td>177639</td>\n",
       "    </tr>\n",
       "    <tr>\n",
       "      <th>9</th>\n",
       "      <td>192961</td>\n",
       "    </tr>\n",
       "  </tbody>\n",
       "</table>\n",
       "</div>"
      ],
      "text/plain": [
       "                                                    qtd\n",
       "cd_tipo_ensino_equivalente nr_serie_equivalente        \n",
       "2                          1                     243438\n",
       "                           2                     238700\n",
       "                           3                     200782\n",
       "14                         0                        251\n",
       "                           1                      23650\n",
       "                           2                      27390\n",
       "                           3                      29850\n",
       "                           4                      29157\n",
       "                           5                      31096\n",
       "                           6                     151868\n",
       "                           7                     162807\n",
       "                           8                     177639\n",
       "                           9                     192961"
      ]
     },
     "execution_count": 139,
     "metadata": {},
     "output_type": "execute_result"
    }
   ],
   "source": [
    "series_cmsp"
   ]
  },
  {
   "cell_type": "markdown",
   "metadata": {},
   "source": [
    "# Join dataframes"
   ]
  },
  {
   "cell_type": "code",
   "execution_count": 141,
   "metadata": {},
   "outputs": [],
   "source": [
    "series_join = series.merge(series_cmsp, how='left', on=['cd_tipo_ensino_equivalente','nr_serie_equivalente'])"
   ]
  },
  {
   "cell_type": "code",
   "execution_count": 142,
   "metadata": {},
   "outputs": [
    {
     "data": {
      "text/html": [
       "<div>\n",
       "<style scoped>\n",
       "    .dataframe tbody tr th:only-of-type {\n",
       "        vertical-align: middle;\n",
       "    }\n",
       "\n",
       "    .dataframe tbody tr th {\n",
       "        vertical-align: top;\n",
       "    }\n",
       "\n",
       "    .dataframe thead th {\n",
       "        text-align: right;\n",
       "    }\n",
       "</style>\n",
       "<table border=\"1\" class=\"dataframe\">\n",
       "  <thead>\n",
       "    <tr style=\"text-align: right;\">\n",
       "      <th></th>\n",
       "      <th></th>\n",
       "      <th>qtd_x</th>\n",
       "      <th>qtd_y</th>\n",
       "    </tr>\n",
       "    <tr>\n",
       "      <th>cd_tipo_ensino_equivalente</th>\n",
       "      <th>nr_serie_equivalente</th>\n",
       "      <th></th>\n",
       "      <th></th>\n",
       "    </tr>\n",
       "  </thead>\n",
       "  <tbody>\n",
       "    <tr>\n",
       "      <th rowspan=\"4\" valign=\"top\">2</th>\n",
       "      <th>0</th>\n",
       "      <td>9315</td>\n",
       "      <td>NaN</td>\n",
       "    </tr>\n",
       "    <tr>\n",
       "      <th>1</th>\n",
       "      <td>493936</td>\n",
       "      <td>243438.0</td>\n",
       "    </tr>\n",
       "    <tr>\n",
       "      <th>2</th>\n",
       "      <td>437744</td>\n",
       "      <td>238700.0</td>\n",
       "    </tr>\n",
       "    <tr>\n",
       "      <th>3</th>\n",
       "      <td>363446</td>\n",
       "      <td>200782.0</td>\n",
       "    </tr>\n",
       "    <tr>\n",
       "      <th rowspan=\"10\" valign=\"top\">14</th>\n",
       "      <th>0</th>\n",
       "      <td>16940</td>\n",
       "      <td>251.0</td>\n",
       "    </tr>\n",
       "    <tr>\n",
       "      <th>1</th>\n",
       "      <td>112412</td>\n",
       "      <td>23650.0</td>\n",
       "    </tr>\n",
       "    <tr>\n",
       "      <th>2</th>\n",
       "      <td>125423</td>\n",
       "      <td>27390.0</td>\n",
       "    </tr>\n",
       "    <tr>\n",
       "      <th>3</th>\n",
       "      <td>133499</td>\n",
       "      <td>29850.0</td>\n",
       "    </tr>\n",
       "    <tr>\n",
       "      <th>4</th>\n",
       "      <td>125539</td>\n",
       "      <td>29157.0</td>\n",
       "    </tr>\n",
       "    <tr>\n",
       "      <th>5</th>\n",
       "      <td>126955</td>\n",
       "      <td>31096.0</td>\n",
       "    </tr>\n",
       "    <tr>\n",
       "      <th>6</th>\n",
       "      <td>347433</td>\n",
       "      <td>151868.0</td>\n",
       "    </tr>\n",
       "    <tr>\n",
       "      <th>7</th>\n",
       "      <td>338802</td>\n",
       "      <td>162807.0</td>\n",
       "    </tr>\n",
       "    <tr>\n",
       "      <th>8</th>\n",
       "      <td>346230</td>\n",
       "      <td>177639.0</td>\n",
       "    </tr>\n",
       "    <tr>\n",
       "      <th>9</th>\n",
       "      <td>350481</td>\n",
       "      <td>192961.0</td>\n",
       "    </tr>\n",
       "  </tbody>\n",
       "</table>\n",
       "</div>"
      ],
      "text/plain": [
       "                                                  qtd_x     qtd_y\n",
       "cd_tipo_ensino_equivalente nr_serie_equivalente                  \n",
       "2                          0                       9315       NaN\n",
       "                           1                     493936  243438.0\n",
       "                           2                     437744  238700.0\n",
       "                           3                     363446  200782.0\n",
       "14                         0                      16940     251.0\n",
       "                           1                     112412   23650.0\n",
       "                           2                     125423   27390.0\n",
       "                           3                     133499   29850.0\n",
       "                           4                     125539   29157.0\n",
       "                           5                     126955   31096.0\n",
       "                           6                     347433  151868.0\n",
       "                           7                     338802  162807.0\n",
       "                           8                     346230  177639.0\n",
       "                           9                     350481  192961.0"
      ]
     },
     "execution_count": 142,
     "metadata": {},
     "output_type": "execute_result"
    }
   ],
   "source": [
    "series_join"
   ]
  },
  {
   "cell_type": "code",
   "execution_count": 143,
   "metadata": {},
   "outputs": [],
   "source": [
    "series_join = series_join.assign(pct = series_join['qtd_y'] / series_join['qtd_x'])"
   ]
  },
  {
   "cell_type": "code",
   "execution_count": 144,
   "metadata": {},
   "outputs": [
    {
     "data": {
      "text/html": [
       "<div>\n",
       "<style scoped>\n",
       "    .dataframe tbody tr th:only-of-type {\n",
       "        vertical-align: middle;\n",
       "    }\n",
       "\n",
       "    .dataframe tbody tr th {\n",
       "        vertical-align: top;\n",
       "    }\n",
       "\n",
       "    .dataframe thead th {\n",
       "        text-align: right;\n",
       "    }\n",
       "</style>\n",
       "<table border=\"1\" class=\"dataframe\">\n",
       "  <thead>\n",
       "    <tr style=\"text-align: right;\">\n",
       "      <th></th>\n",
       "      <th></th>\n",
       "      <th>qtd_x</th>\n",
       "      <th>qtd_y</th>\n",
       "      <th>pct</th>\n",
       "    </tr>\n",
       "    <tr>\n",
       "      <th>cd_tipo_ensino_equivalente</th>\n",
       "      <th>nr_serie_equivalente</th>\n",
       "      <th></th>\n",
       "      <th></th>\n",
       "      <th></th>\n",
       "    </tr>\n",
       "  </thead>\n",
       "  <tbody>\n",
       "    <tr>\n",
       "      <th rowspan=\"4\" valign=\"top\">2</th>\n",
       "      <th>0</th>\n",
       "      <td>9315</td>\n",
       "      <td>NaN</td>\n",
       "      <td>NaN</td>\n",
       "    </tr>\n",
       "    <tr>\n",
       "      <th>1</th>\n",
       "      <td>493936</td>\n",
       "      <td>243438.0</td>\n",
       "      <td>0.492853</td>\n",
       "    </tr>\n",
       "    <tr>\n",
       "      <th>2</th>\n",
       "      <td>437744</td>\n",
       "      <td>238700.0</td>\n",
       "      <td>0.545296</td>\n",
       "    </tr>\n",
       "    <tr>\n",
       "      <th>3</th>\n",
       "      <td>363446</td>\n",
       "      <td>200782.0</td>\n",
       "      <td>0.552440</td>\n",
       "    </tr>\n",
       "    <tr>\n",
       "      <th rowspan=\"10\" valign=\"top\">14</th>\n",
       "      <th>0</th>\n",
       "      <td>16940</td>\n",
       "      <td>251.0</td>\n",
       "      <td>0.014817</td>\n",
       "    </tr>\n",
       "    <tr>\n",
       "      <th>1</th>\n",
       "      <td>112412</td>\n",
       "      <td>23650.0</td>\n",
       "      <td>0.210387</td>\n",
       "    </tr>\n",
       "    <tr>\n",
       "      <th>2</th>\n",
       "      <td>125423</td>\n",
       "      <td>27390.0</td>\n",
       "      <td>0.218381</td>\n",
       "    </tr>\n",
       "    <tr>\n",
       "      <th>3</th>\n",
       "      <td>133499</td>\n",
       "      <td>29850.0</td>\n",
       "      <td>0.223597</td>\n",
       "    </tr>\n",
       "    <tr>\n",
       "      <th>4</th>\n",
       "      <td>125539</td>\n",
       "      <td>29157.0</td>\n",
       "      <td>0.232255</td>\n",
       "    </tr>\n",
       "    <tr>\n",
       "      <th>5</th>\n",
       "      <td>126955</td>\n",
       "      <td>31096.0</td>\n",
       "      <td>0.244937</td>\n",
       "    </tr>\n",
       "    <tr>\n",
       "      <th>6</th>\n",
       "      <td>347433</td>\n",
       "      <td>151868.0</td>\n",
       "      <td>0.437114</td>\n",
       "    </tr>\n",
       "    <tr>\n",
       "      <th>7</th>\n",
       "      <td>338802</td>\n",
       "      <td>162807.0</td>\n",
       "      <td>0.480537</td>\n",
       "    </tr>\n",
       "    <tr>\n",
       "      <th>8</th>\n",
       "      <td>346230</td>\n",
       "      <td>177639.0</td>\n",
       "      <td>0.513066</td>\n",
       "    </tr>\n",
       "    <tr>\n",
       "      <th>9</th>\n",
       "      <td>350481</td>\n",
       "      <td>192961.0</td>\n",
       "      <td>0.550561</td>\n",
       "    </tr>\n",
       "  </tbody>\n",
       "</table>\n",
       "</div>"
      ],
      "text/plain": [
       "                                                  qtd_x     qtd_y       pct\n",
       "cd_tipo_ensino_equivalente nr_serie_equivalente                            \n",
       "2                          0                       9315       NaN       NaN\n",
       "                           1                     493936  243438.0  0.492853\n",
       "                           2                     437744  238700.0  0.545296\n",
       "                           3                     363446  200782.0  0.552440\n",
       "14                         0                      16940     251.0  0.014817\n",
       "                           1                     112412   23650.0  0.210387\n",
       "                           2                     125423   27390.0  0.218381\n",
       "                           3                     133499   29850.0  0.223597\n",
       "                           4                     125539   29157.0  0.232255\n",
       "                           5                     126955   31096.0  0.244937\n",
       "                           6                     347433  151868.0  0.437114\n",
       "                           7                     338802  162807.0  0.480537\n",
       "                           8                     346230  177639.0  0.513066\n",
       "                           9                     350481  192961.0  0.550561"
      ]
     },
     "execution_count": 144,
     "metadata": {},
     "output_type": "execute_result"
    }
   ],
   "source": [
    "series_join"
   ]
  },
  {
   "cell_type": "code",
   "execution_count": 178,
   "metadata": {},
   "outputs": [],
   "source": [
    "y = series_join.index.tolist()\n",
    "x = series_join['pct'].tolist()"
   ]
  },
  {
   "cell_type": "code",
   "execution_count": 179,
   "metadata": {},
   "outputs": [],
   "source": [
    "y = ['EM - Multisseriada',\n",
    "    'EM - 1ª Série',\n",
    "    'EM - 2ª Série',\n",
    "    'EM - 3ª Série',\n",
    "    'EF - Multisseriada',\n",
    "    'EF - 1º Ano',\n",
    "    'EF - 2º Ano',\n",
    "    'EF - 3º Ano',\n",
    "    'EF - 4º Ano',\n",
    "    'EF - 5º Ano',\n",
    "    'EF - 6º Ano',\n",
    "    'EF - 7º Ano',\n",
    "    'EF - 8º Ano',\n",
    "    'EF - 9º Ano']"
   ]
  },
  {
   "cell_type": "code",
   "execution_count": 187,
   "metadata": {},
   "outputs": [],
   "source": [
    "order =     ['EF - Multisseriada',\n",
    "    'EF - 1º Ano',\n",
    "    'EF - 2º Ano',\n",
    "    'EF - 3º Ano',\n",
    "    'EF - 4º Ano',\n",
    "    'EF - 5º Ano',\n",
    "    'EF - 6º Ano',\n",
    "    'EF - 7º Ano',\n",
    "    'EF - 8º Ano',\n",
    "    'EF - 9º Ano',\n",
    "    'EM - Multisseriada',\n",
    "    'EM - 1ª Série',\n",
    "    'EM - 2ª Série',\n",
    "    'EM - 3ª Série']"
   ]
  },
  {
   "cell_type": "code",
   "execution_count": 195,
   "metadata": {},
   "outputs": [
    {
     "data": {
      "image/png": "[encoded data removed]",
      "text/plain": [
       "<Figure size 720x360 with 1 Axes>"
      ]
     },
     "metadata": {
      "needs_background": "light"
     },
     "output_type": "display_data"
    }
   ],
   "source": [
    "%matplotlib inline\n",
    "\n",
    "plt.figure(figsize=(10,5))\n",
    "bar = sns.barplot(x=x, y=y, color='lightgreen', order=order)\n",
    "sns.set_style(\"whitegrid\")\n",
    "plt.ylabel('Série')\n",
    "plt.xlabel('Porcentagem de alunos')\n",
    "plt.xticks(np.arange(0, 0.6, step=0.1))\n",
    "bar.set_xticklabels(['0%','10%','20%','30%','40%','50%'])\n",
    "plt.title('Percentual de alunos por série')\n",
    "plt.show()"
   ]
  },
  {
   "cell_type": "code",
   "execution_count": null,
   "metadata": {},
   "outputs": [],
   "source": []
  }
 ],
 "metadata": {
  "kernelspec": {
   "display_name": "Python 3",
   "language": "python",
   "name": "python3"
  },
  "language_info": {
   "codemirror_mode": {
    "name": "ipython",
    "version": 3
   },
   "file_extension": ".py",
   "mimetype": "text/x-python",
   "name": "python",
   "nbconvert_exporter": "python",
   "pygments_lexer": "ipython3",
   "version": "3.7.3"
  }
 },
 "nbformat": 4,
 "nbformat_minor": 4
}
