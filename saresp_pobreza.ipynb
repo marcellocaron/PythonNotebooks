{
 "cells": [
  {
   "cell_type": "code",
   "execution_count": 1,
   "metadata": {},
   "outputs": [],
   "source": [
    "import pandas as pd\n",
    "import seaborn as sns\n",
    "import matplotlib.pyplot as plt"
   ]
  },
  {
   "cell_type": "code",
   "execution_count": 2,
   "metadata": {},
   "outputs": [],
   "source": [
    "path = 'data/saresp_pobreza.xlsx'"
   ]
  },
  {
   "cell_type": "code",
   "execution_count": 3,
   "metadata": {},
   "outputs": [],
   "source": [
    "df = pd.read_excel(path)"
   ]
  },
  {
   "cell_type": "code",
   "execution_count": 5,
   "metadata": {},
   "outputs": [
    {
     "data": {
      "text/html": [
       "<div>\n",
       "<style scoped>\n",
       "    .dataframe tbody tr th:only-of-type {\n",
       "        vertical-align: middle;\n",
       "    }\n",
       "\n",
       "    .dataframe tbody tr th {\n",
       "        vertical-align: top;\n",
       "    }\n",
       "\n",
       "    .dataframe thead th {\n",
       "        text-align: right;\n",
       "    }\n",
       "</style>\n",
       "<table border=\"1\" class=\"dataframe\">\n",
       "  <thead>\n",
       "    <tr style=\"text-align: right;\">\n",
       "      <th></th>\n",
       "      <th>Serie</th>\n",
       "      <th>Disciplina</th>\n",
       "      <th>Grupo</th>\n",
       "      <th>Média</th>\n",
       "    </tr>\n",
       "  </thead>\n",
       "  <tbody>\n",
       "    <tr>\n",
       "      <th>0</th>\n",
       "      <td>5º ano</td>\n",
       "      <td>LP</td>\n",
       "      <td>Rede</td>\n",
       "      <td>216.9970</td>\n",
       "    </tr>\n",
       "    <tr>\n",
       "      <th>1</th>\n",
       "      <td>5º ano</td>\n",
       "      <td>MAT</td>\n",
       "      <td>Rede</td>\n",
       "      <td>231.5427</td>\n",
       "    </tr>\n",
       "    <tr>\n",
       "      <th>2</th>\n",
       "      <td>9º ano</td>\n",
       "      <td>LP</td>\n",
       "      <td>Rede</td>\n",
       "      <td>248.3548</td>\n",
       "    </tr>\n",
       "    <tr>\n",
       "      <th>3</th>\n",
       "      <td>9º ano</td>\n",
       "      <td>MAT</td>\n",
       "      <td>Rede</td>\n",
       "      <td>258.3207</td>\n",
       "    </tr>\n",
       "    <tr>\n",
       "      <th>4</th>\n",
       "      <td>5º ano</td>\n",
       "      <td>LP</td>\n",
       "      <td>Pob. e Ext. Pob.</td>\n",
       "      <td>204.9650</td>\n",
       "    </tr>\n",
       "    <tr>\n",
       "      <th>5</th>\n",
       "      <td>5º ano</td>\n",
       "      <td>MAT</td>\n",
       "      <td>Pob. e Ext. Pob.</td>\n",
       "      <td>220.4262</td>\n",
       "    </tr>\n",
       "    <tr>\n",
       "      <th>6</th>\n",
       "      <td>9º ano</td>\n",
       "      <td>LP</td>\n",
       "      <td>Pob. e Ext. Pob.</td>\n",
       "      <td>237.3918</td>\n",
       "    </tr>\n",
       "    <tr>\n",
       "      <th>7</th>\n",
       "      <td>9º ano</td>\n",
       "      <td>MAT</td>\n",
       "      <td>Pob. e Ext. Pob.</td>\n",
       "      <td>247.9550</td>\n",
       "    </tr>\n",
       "  </tbody>\n",
       "</table>\n",
       "</div>"
      ],
      "text/plain": [
       "    Serie Disciplina            Grupo      Média\n",
       "0  5º ano         LP              Rede  216.9970\n",
       "1  5º ano        MAT              Rede  231.5427\n",
       "2  9º ano         LP              Rede  248.3548\n",
       "3  9º ano        MAT              Rede  258.3207\n",
       "4  5º ano         LP  Pob. e Ext. Pob.  204.9650\n",
       "5  5º ano        MAT  Pob. e Ext. Pob.  220.4262\n",
       "6  9º ano         LP  Pob. e Ext. Pob.  237.3918\n",
       "7  9º ano        MAT  Pob. e Ext. Pob.  247.9550"
      ]
     },
     "execution_count": 5,
     "metadata": {},
     "output_type": "execute_result"
    }
   ],
   "source": [
    "df"
   ]
  },
  {
   "cell_type": "code",
   "execution_count": 7,
   "metadata": {},
   "outputs": [],
   "source": [
    "df_5 = df[df.Serie == '5º ano']\n",
    "df_9 = df[df.Serie == '9º ano']"
   ]
  },
  {
   "cell_type": "code",
   "execution_count": 8,
   "metadata": {},
   "outputs": [
    {
     "data": {
      "text/html": [
       "<div>\n",
       "<style scoped>\n",
       "    .dataframe tbody tr th:only-of-type {\n",
       "        vertical-align: middle;\n",
       "    }\n",
       "\n",
       "    .dataframe tbody tr th {\n",
       "        vertical-align: top;\n",
       "    }\n",
       "\n",
       "    .dataframe thead th {\n",
       "        text-align: right;\n",
       "    }\n",
       "</style>\n",
       "<table border=\"1\" class=\"dataframe\">\n",
       "  <thead>\n",
       "    <tr style=\"text-align: right;\">\n",
       "      <th></th>\n",
       "      <th>Serie</th>\n",
       "      <th>Disciplina</th>\n",
       "      <th>Grupo</th>\n",
       "      <th>Média</th>\n",
       "    </tr>\n",
       "  </thead>\n",
       "  <tbody>\n",
       "    <tr>\n",
       "      <th>0</th>\n",
       "      <td>5º ano</td>\n",
       "      <td>LP</td>\n",
       "      <td>Rede</td>\n",
       "      <td>216.9970</td>\n",
       "    </tr>\n",
       "    <tr>\n",
       "      <th>1</th>\n",
       "      <td>5º ano</td>\n",
       "      <td>MAT</td>\n",
       "      <td>Rede</td>\n",
       "      <td>231.5427</td>\n",
       "    </tr>\n",
       "    <tr>\n",
       "      <th>4</th>\n",
       "      <td>5º ano</td>\n",
       "      <td>LP</td>\n",
       "      <td>Pob. e Ext. Pob.</td>\n",
       "      <td>204.9650</td>\n",
       "    </tr>\n",
       "    <tr>\n",
       "      <th>5</th>\n",
       "      <td>5º ano</td>\n",
       "      <td>MAT</td>\n",
       "      <td>Pob. e Ext. Pob.</td>\n",
       "      <td>220.4262</td>\n",
       "    </tr>\n",
       "  </tbody>\n",
       "</table>\n",
       "</div>"
      ],
      "text/plain": [
       "    Serie Disciplina            Grupo      Média\n",
       "0  5º ano         LP              Rede  216.9970\n",
       "1  5º ano        MAT              Rede  231.5427\n",
       "4  5º ano         LP  Pob. e Ext. Pob.  204.9650\n",
       "5  5º ano        MAT  Pob. e Ext. Pob.  220.4262"
      ]
     },
     "execution_count": 8,
     "metadata": {},
     "output_type": "execute_result"
    }
   ],
   "source": [
    "df_5"
   ]
  },
  {
   "cell_type": "code",
   "execution_count": 41,
   "metadata": {},
   "outputs": [
    {
     "data": {
      "image/png": "[encoded data removed]",
      "text/plain": [
       "<Figure size 473.75x360 with 1 Axes>"
      ]
     },
     "metadata": {
      "needs_background": "light"
     },
     "output_type": "display_data"
    }
   ],
   "source": [
    "#f, ax = plt.subplots(figsize=(20, 10))\n",
    "sns.catplot(x='Disciplina', y='Média', hue='Grupo ', data=df_5, kind='bar', palette='muted')\n",
    "\n",
    "ax = plt.gca()\n",
    "\n",
    "for m in ax.patches:\n",
    "    m_height = m.get_height()\n",
    "    plt.text(m.get_x() + m.get_width()/2.0, m_height, '%d' % int(m_height), ha='center', va='bottom', fontsize=12)\n",
    "\n",
    "plt.ylabel('Proficiência média')\n",
    "plt.title('5ª ano EF - Análise de proficiência média do SARESP (2019)')\n",
    "plt.show()"
   ]
  },
  {
   "cell_type": "code",
   "execution_count": 42,
   "metadata": {},
   "outputs": [
    {
     "data": {
      "image/png": "[encoded data removed]",
      "text/plain": [
       "<Figure size 473.75x360 with 1 Axes>"
      ]
     },
     "metadata": {
      "needs_background": "light"
     },
     "output_type": "display_data"
    }
   ],
   "source": [
    "#f, ax = plt.subplots(figsize=(20, 10))\n",
    "sns.catplot(x='Disciplina', y='Média', hue='Grupo ', data=df_9, kind='bar', palette='muted')\n",
    "\n",
    "ax = plt.gca()\n",
    "\n",
    "for m in ax.patches:\n",
    "    m_height = m.get_height()\n",
    "    plt.text(m.get_x() + m.get_width()/2.0, m_height, '%d' % int(m_height), ha='center', va='bottom', fontsize=12)\n",
    "\n",
    "plt.ylabel('Proficiência média')\n",
    "plt.title('9ª ano EF - Análise de proficiência média do SARESP (2019)')\n",
    "plt.show()"
   ]
  },
  {
   "cell_type": "code",
   "execution_count": null,
   "metadata": {},
   "outputs": [],
   "source": []
  }
 ],
 "metadata": {
  "kernelspec": {
   "display_name": "Python 3",
   "language": "python",
   "name": "python3"
  },
  "language_info": {
   "codemirror_mode": {
    "name": "ipython",
    "version": 3
   },
   "file_extension": ".py",
   "mimetype": "text/x-python",
   "name": "python",
   "nbconvert_exporter": "python",
   "pygments_lexer": "ipython3",
   "version": "3.7.3"
  }
 },
 "nbformat": 4,
 "nbformat_minor": 4
}
