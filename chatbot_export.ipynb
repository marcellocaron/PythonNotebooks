{
 "cells": [
  {
   "cell_type": "code",
   "execution_count": 1,
   "metadata": {},
   "outputs": [],
   "source": [
    "import pandas as pd"
   ]
  },
  {
   "cell_type": "code",
   "execution_count": 2,
   "metadata": {},
   "outputs": [],
   "source": [
    "path = 'data/classificao_texto.csv'"
   ]
  },
  {
   "cell_type": "code",
   "execution_count": 3,
   "metadata": {},
   "outputs": [],
   "source": [
    "df = pd.read_csv(path)"
   ]
  },
  {
   "cell_type": "code",
   "execution_count": 4,
   "metadata": {},
   "outputs": [
    {
     "data": {
      "text/html": [
       "<div>\n",
       "<style scoped>\n",
       "    .dataframe tbody tr th:only-of-type {\n",
       "        vertical-align: middle;\n",
       "    }\n",
       "\n",
       "    .dataframe tbody tr th {\n",
       "        vertical-align: top;\n",
       "    }\n",
       "\n",
       "    .dataframe thead th {\n",
       "        text-align: right;\n",
       "    }\n",
       "</style>\n",
       "<table border=\"1\" class=\"dataframe\">\n",
       "  <thead>\n",
       "    <tr style=\"text-align: right;\">\n",
       "      <th></th>\n",
       "      <th>FRASE</th>\n",
       "      <th>Categoria Predita</th>\n",
       "      <th>Confianca Predita</th>\n",
       "    </tr>\n",
       "  </thead>\n",
       "  <tbody>\n",
       "    <tr>\n",
       "      <th>0</th>\n",
       "      <td>Por favor eu estavam na minha conta ai derrete...</td>\n",
       "      <td>Cat8 - Aulas anteriores</td>\n",
       "      <td>0.323892</td>\n",
       "    </tr>\n",
       "    <tr>\n",
       "      <th>1</th>\n",
       "      <td>Ponha como que fazer senha</td>\n",
       "      <td>Cat4 - Esqueci senha</td>\n",
       "      <td>0.890250</td>\n",
       "    </tr>\n",
       "    <tr>\n",
       "      <th>2</th>\n",
       "      <td>Sou professor e não consigo entrar</td>\n",
       "      <td>Cat3 - Esqueci RA</td>\n",
       "      <td>0.292008</td>\n",
       "    </tr>\n",
       "    <tr>\n",
       "      <th>3</th>\n",
       "      <td>Onde baixo o aplicativo do CMSP</td>\n",
       "      <td>Cat8 - Aulas anteriores</td>\n",
       "      <td>0.420217</td>\n",
       "    </tr>\n",
       "    <tr>\n",
       "      <th>4</th>\n",
       "      <td>1° ao 5° ano</td>\n",
       "      <td>Cat8 - Aulas anteriores</td>\n",
       "      <td>0.544312</td>\n",
       "    </tr>\n",
       "  </tbody>\n",
       "</table>\n",
       "</div>"
      ],
      "text/plain": [
       "                                               FRASE        Categoria Predita  \\\n",
       "0  Por favor eu estavam na minha conta ai derrete...  Cat8 - Aulas anteriores   \n",
       "1                         Ponha como que fazer senha     Cat4 - Esqueci senha   \n",
       "2                 Sou professor e não consigo entrar        Cat3 - Esqueci RA   \n",
       "3                    Onde baixo o aplicativo do CMSP  Cat8 - Aulas anteriores   \n",
       "4                                       1° ao 5° ano  Cat8 - Aulas anteriores   \n",
       "\n",
       "   Confianca Predita  \n",
       "0           0.323892  \n",
       "1           0.890250  \n",
       "2           0.292008  \n",
       "3           0.420217  \n",
       "4           0.544312  "
      ]
     },
     "execution_count": 4,
     "metadata": {},
     "output_type": "execute_result"
    }
   ],
   "source": [
    "df.head()"
   ]
  },
  {
   "cell_type": "code",
   "execution_count": 6,
   "metadata": {},
   "outputs": [],
   "source": [
    "df.to_excel('data/test.xlsx')"
   ]
  },
  {
   "cell_type": "code",
   "execution_count": 7,
   "metadata": {},
   "outputs": [
    {
     "data": {
      "text/plain": [
       "(222329, 3)"
      ]
     },
     "execution_count": 7,
     "metadata": {},
     "output_type": "execute_result"
    }
   ],
   "source": [
    "df.shape"
   ]
  },
  {
   "cell_type": "code",
   "execution_count": null,
   "metadata": {},
   "outputs": [],
   "source": []
  }
 ],
 "metadata": {
  "kernelspec": {
   "display_name": "Python 3",
   "language": "python",
   "name": "python3"
  },
  "language_info": {
   "codemirror_mode": {
    "name": "ipython",
    "version": 3
   },
   "file_extension": ".py",
   "mimetype": "text/x-python",
   "name": "python",
   "nbconvert_exporter": "python",
   "pygments_lexer": "ipython3",
   "version": "3.7.3"
  }
 },
 "nbformat": 4,
 "nbformat_minor": 4
}
