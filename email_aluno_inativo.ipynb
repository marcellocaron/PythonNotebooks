{
 "cells": [
  {
   "cell_type": "code",
   "execution_count": 1,
   "metadata": {},
   "outputs": [],
   "source": [
    "import pandas as pd"
   ]
  },
  {
   "cell_type": "code",
   "execution_count": 2,
   "metadata": {},
   "outputs": [],
   "source": [
    "path = 'data/alunos_inativos_email_ativo.csv'"
   ]
  },
  {
   "cell_type": "code",
   "execution_count": 5,
   "metadata": {},
   "outputs": [
    {
     "name": "stderr",
     "output_type": "stream",
     "text": [
      "/Users/marcello/anaconda3/lib/python3.7/site-packages/IPython/core/interactiveshell.py:3063: DtypeWarning: Columns (0,3) have mixed types. Specify dtype option on import or set low_memory=False.\n",
      "  interactivity=interactivity, compiler=compiler, result=result)\n"
     ]
    }
   ],
   "source": [
    "df = pd.read_csv(path, sep=';')"
   ]
  },
  {
   "cell_type": "code",
   "execution_count": 6,
   "metadata": {},
   "outputs": [
    {
     "data": {
      "text/html": [
       "<div>\n",
       "<style scoped>\n",
       "    .dataframe tbody tr th:only-of-type {\n",
       "        vertical-align: middle;\n",
       "    }\n",
       "\n",
       "    .dataframe tbody tr th {\n",
       "        vertical-align: top;\n",
       "    }\n",
       "\n",
       "    .dataframe thead th {\n",
       "        text-align: right;\n",
       "    }\n",
       "</style>\n",
       "<table border=\"1\" class=\"dataframe\">\n",
       "  <thead>\n",
       "    <tr style=\"text-align: right;\">\n",
       "      <th></th>\n",
       "      <th>CD_ALUNO</th>\n",
       "      <th>NM_LOGIN</th>\n",
       "      <th>NM_ALUNO</th>\n",
       "      <th>NR_RA</th>\n",
       "      <th>NR_DIG_RA</th>\n",
       "      <th>SG_UF_RA</th>\n",
       "      <th>EMAIL_MS</th>\n",
       "      <th>ULTIMA_MATRICULA</th>\n",
       "    </tr>\n",
       "  </thead>\n",
       "  <tbody>\n",
       "    <tr>\n",
       "      <th>0</th>\n",
       "      <td>17340042</td>\n",
       "      <td>00001000112445SP</td>\n",
       "      <td>THIAGO HENRIQUE LIMA                          ...</td>\n",
       "      <td>100011244</td>\n",
       "      <td>5</td>\n",
       "      <td>SP</td>\n",
       "      <td>00001000112445SP@aluno.educacao.sp.gov.br</td>\n",
       "      <td>2017.0</td>\n",
       "    </tr>\n",
       "    <tr>\n",
       "      <th>1</th>\n",
       "      <td>17340228</td>\n",
       "      <td>00001000113814SP</td>\n",
       "      <td>TAIS DOS SANTOS SILVA                         ...</td>\n",
       "      <td>100011381</td>\n",
       "      <td>4</td>\n",
       "      <td>SP</td>\n",
       "      <td>00001000113814SP@aluno.educacao.sp.gov.br</td>\n",
       "      <td>2016.0</td>\n",
       "    </tr>\n",
       "    <tr>\n",
       "      <th>2</th>\n",
       "      <td>17340275</td>\n",
       "      <td>00001000114193SP</td>\n",
       "      <td>DOUGLAS TORQUATO DE SOUZA                     ...</td>\n",
       "      <td>100011419</td>\n",
       "      <td>3</td>\n",
       "      <td>SP</td>\n",
       "      <td>00001000114193SP@aluno.educacao.sp.gov.br</td>\n",
       "      <td>2018.0</td>\n",
       "    </tr>\n",
       "    <tr>\n",
       "      <th>3</th>\n",
       "      <td>17340446</td>\n",
       "      <td>00001000115537SP</td>\n",
       "      <td>GABRIEL FERNANDES SILVA</td>\n",
       "      <td>100011553</td>\n",
       "      <td>7</td>\n",
       "      <td>SP</td>\n",
       "      <td>00001000115537SP@aluno.educacao.sp.gov.br</td>\n",
       "      <td>2016.0</td>\n",
       "    </tr>\n",
       "    <tr>\n",
       "      <th>4</th>\n",
       "      <td>17340544</td>\n",
       "      <td>00001000116256SP</td>\n",
       "      <td>LIZANDRA CRISTINA DA SILVA</td>\n",
       "      <td>100011625</td>\n",
       "      <td>6</td>\n",
       "      <td>SP</td>\n",
       "      <td>00001000116256SP@aluno.educacao.sp.gov.br</td>\n",
       "      <td>2016.0</td>\n",
       "    </tr>\n",
       "  </tbody>\n",
       "</table>\n",
       "</div>"
      ],
      "text/plain": [
       "   CD_ALUNO          NM_LOGIN  \\\n",
       "0  17340042  00001000112445SP   \n",
       "1  17340228  00001000113814SP   \n",
       "2  17340275  00001000114193SP   \n",
       "3  17340446  00001000115537SP   \n",
       "4  17340544  00001000116256SP   \n",
       "\n",
       "                                            NM_ALUNO      NR_RA NR_DIG_RA  \\\n",
       "0  THIAGO HENRIQUE LIMA                          ...  100011244        5    \n",
       "1  TAIS DOS SANTOS SILVA                         ...  100011381         4   \n",
       "2  DOUGLAS TORQUATO DE SOUZA                     ...  100011419        3    \n",
       "3                            GABRIEL FERNANDES SILVA  100011553         7   \n",
       "4                         LIZANDRA CRISTINA DA SILVA  100011625        6    \n",
       "\n",
       "  SG_UF_RA                                   EMAIL_MS  ULTIMA_MATRICULA  \n",
       "0       SP  00001000112445SP@aluno.educacao.sp.gov.br            2017.0  \n",
       "1       SP  00001000113814SP@aluno.educacao.sp.gov.br            2016.0  \n",
       "2       SP  00001000114193SP@aluno.educacao.sp.gov.br            2018.0  \n",
       "3       SP  00001000115537SP@aluno.educacao.sp.gov.br            2016.0  \n",
       "4       SP  00001000116256SP@aluno.educacao.sp.gov.br            2016.0  "
      ]
     },
     "execution_count": 6,
     "metadata": {},
     "output_type": "execute_result"
    }
   ],
   "source": [
    "df.head()"
   ]
  },
  {
   "cell_type": "code",
   "execution_count": 7,
   "metadata": {},
   "outputs": [
    {
     "data": {
      "text/plain": [
       "(1289553, 8)"
      ]
     },
     "execution_count": 7,
     "metadata": {},
     "output_type": "execute_result"
    }
   ],
   "source": [
    "df.shape"
   ]
  },
  {
   "cell_type": "code",
   "execution_count": null,
   "metadata": {},
   "outputs": [],
   "source": []
  }
 ],
 "metadata": {
  "kernelspec": {
   "display_name": "Python 3",
   "language": "python",
   "name": "python3"
  },
  "language_info": {
   "codemirror_mode": {
    "name": "ipython",
    "version": 3
   },
   "file_extension": ".py",
   "mimetype": "text/x-python",
   "name": "python",
   "nbconvert_exporter": "python",
   "pygments_lexer": "ipython3",
   "version": "3.7.3"
  }
 },
 "nbformat": 4,
 "nbformat_minor": 4
}
